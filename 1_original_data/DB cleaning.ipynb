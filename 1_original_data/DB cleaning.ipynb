{
 "cells": [
  {
   "cell_type": "markdown",
   "id": "7ab8eed5",
   "metadata": {},
   "source": [
    "RECOMMANDATION PROGRAMME - Option 2"
   ]
  },
  {
   "cell_type": "code",
   "execution_count": 1,
   "id": "19ef0a52",
   "metadata": {},
   "outputs": [],
   "source": [
    "import pandas as pd"
   ]
  },
  {
   "cell_type": "code",
   "execution_count": 2,
   "id": "6007bf90",
   "metadata": {
    "scrolled": true
   },
   "outputs": [
    {
     "data": {
      "text/plain": [
       "Index(['location', 'origin', 'roast', 'est_price', 'review_date', 'agtron',\n",
       "       'aroma', 'acid', 'body', 'flavor', 'aftertaste', 'with_milk', 'desc_1',\n",
       "       'desc_2', 'desc_3'],\n",
       "      dtype='object')"
      ]
     },
     "execution_count": 2,
     "metadata": {},
     "output_type": "execute_result"
    }
   ],
   "source": [
    "sim = pd.read_csv('/Users/david/Documents/GitHub/Final_project_DGU_LDU_COFFEE/1_original_data/simplified_coffee.csv')\n",
    "base = pd.read_csv('/Users/david/Documents/GitHub/Final_project_DGU_LDU_COFFEE/1_original_data/coffee_df.csv')\n",
    "base.columns"
   ]
  },
  {
   "cell_type": "code",
   "execution_count": 12,
   "id": "f1f90a31",
   "metadata": {},
   "outputs": [
    {
     "data": {
      "text/plain": [
       "Index(['name', 'roaster', 'roast', 'loc_country', 'origin', '100g_USD',\n",
       "       'rating', 'review_date', 'review', 'desc_sub'],\n",
       "      dtype='object')"
      ]
     },
     "execution_count": 12,
     "metadata": {},
     "output_type": "execute_result"
    }
   ],
   "source": [
    "sim.columns"
   ]
  },
  {
   "cell_type": "code",
   "execution_count": 13,
   "id": "3b6de7c3",
   "metadata": {},
   "outputs": [],
   "source": [
    "# extract first 20 characters from 'D' column in df2\n",
    "sim['desc_sub'] = sim['review'].str.slice(stop=50)\n",
    "base['desc_sub'] = base['desc_1'].str.slice(stop=50)"
   ]
  },
  {
   "cell_type": "code",
   "execution_count": 17,
   "id": "7f42b96b",
   "metadata": {},
   "outputs": [
    {
     "data": {
      "text/plain": [
       "Index(['name', 'roaster', 'roast', 'loc_country', 'origin', '100g_USD',\n",
       "       'rating', 'review_date', 'review', 'desc_sub'],\n",
       "      dtype='object')"
      ]
     },
     "execution_count": 17,
     "metadata": {},
     "output_type": "execute_result"
    }
   ],
   "source": [
    "sim.columns"
   ]
  },
  {
   "cell_type": "code",
   "execution_count": 10,
   "id": "b53b3718",
   "metadata": {
    "scrolled": true
   },
   "outputs": [],
   "source": [
    "merged_df = pd.merge(base[['est_price', 'desc_sub']], sim, on='desc_sub')\n",
    "merged_df = merged_df[['desc_sub', 'review','est_price', 'name', 'roaster', 'roast', 'loc_country','origin', '100g_USD', 'rating', 'review_date']]\n",
    "merged_df.to_csv('merge.csv')"
   ]
  },
  {
   "cell_type": "code",
   "execution_count": 11,
   "id": "040f2625",
   "metadata": {},
   "outputs": [
    {
     "data": {
      "text/plain": [
       "Index(['desc_sub', 'review', 'est_price', 'name', 'roaster', 'roast',\n",
       "       'loc_country', 'origin', '100g_USD', 'rating', 'review_date'],\n",
       "      dtype='object')"
      ]
     },
     "execution_count": 11,
     "metadata": {},
     "output_type": "execute_result"
    }
   ],
   "source": [
    "merged_df.columns"
   ]
  },
  {
   "cell_type": "code",
   "execution_count": 19,
   "id": "2f493ad5",
   "metadata": {},
   "outputs": [],
   "source": [
    "final_db = pd.merge(sim[['name', 'desc_sub']], base, on='desc_sub')\n",
    "#merged_df = pd.merge(df1[['A', 'B']], df2, on='B')\n",
    "final_db.to_csv('final.csv')"
   ]
  }
 ],
 "metadata": {
  "kernelspec": {
   "display_name": "Python 3 (ipykernel)",
   "language": "python",
   "name": "python3"
  },
  "language_info": {
   "codemirror_mode": {
    "name": "ipython",
    "version": 3
   },
   "file_extension": ".py",
   "mimetype": "text/x-python",
   "name": "python",
   "nbconvert_exporter": "python",
   "pygments_lexer": "ipython3",
   "version": "3.9.13"
  }
 },
 "nbformat": 4,
 "nbformat_minor": 5
}
