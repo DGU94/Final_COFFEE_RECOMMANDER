{
 "cells": [
  {
   "cell_type": "code",
   "execution_count": 3,
   "id": "9023628c",
   "metadata": {},
   "outputs": [],
   "source": [
    "import pandas as pd"
   ]
  },
  {
   "cell_type": "code",
   "execution_count": 12,
   "id": "26ce9fa3",
   "metadata": {
    "scrolled": true
   },
   "outputs": [
    {
     "data": {
      "text/html": [
       "<div>\n",
       "<style scoped>\n",
       "    .dataframe tbody tr th:only-of-type {\n",
       "        vertical-align: middle;\n",
       "    }\n",
       "\n",
       "    .dataframe tbody tr th {\n",
       "        vertical-align: top;\n",
       "    }\n",
       "\n",
       "    .dataframe thead th {\n",
       "        text-align: right;\n",
       "    }\n",
       "</style>\n",
       "<table border=\"1\" class=\"dataframe\">\n",
       "  <thead>\n",
       "    <tr style=\"text-align: right;\">\n",
       "      <th></th>\n",
       "      <th>name</th>\n",
       "      <th>roaster</th>\n",
       "      <th>roast</th>\n",
       "      <th>loc_country</th>\n",
       "      <th>origin</th>\n",
       "      <th>100g_USD</th>\n",
       "      <th>rating</th>\n",
       "      <th>review_date</th>\n",
       "      <th>review</th>\n",
       "    </tr>\n",
       "  </thead>\n",
       "  <tbody>\n",
       "    <tr>\n",
       "      <th>0</th>\n",
       "      <td>Ethiopia Shakiso Mormora</td>\n",
       "      <td>Revel Coffee</td>\n",
       "      <td>Medium-Light</td>\n",
       "      <td>United States</td>\n",
       "      <td>Ethiopia</td>\n",
       "      <td>4.70</td>\n",
       "      <td>92</td>\n",
       "      <td>November 2017</td>\n",
       "      <td>Crisply sweet, cocoa-toned. Lemon blossom, roa...</td>\n",
       "    </tr>\n",
       "    <tr>\n",
       "      <th>1</th>\n",
       "      <td>Ethiopia Suke Quto</td>\n",
       "      <td>Roast House</td>\n",
       "      <td>Medium-Light</td>\n",
       "      <td>United States</td>\n",
       "      <td>Ethiopia</td>\n",
       "      <td>4.19</td>\n",
       "      <td>92</td>\n",
       "      <td>November 2017</td>\n",
       "      <td>Delicate, sweetly spice-toned. Pink peppercorn...</td>\n",
       "    </tr>\n",
       "    <tr>\n",
       "      <th>2</th>\n",
       "      <td>Ethiopia Gedeb Halo Beriti</td>\n",
       "      <td>Big Creek Coffee Roasters</td>\n",
       "      <td>Medium</td>\n",
       "      <td>United States</td>\n",
       "      <td>Ethiopia</td>\n",
       "      <td>4.85</td>\n",
       "      <td>94</td>\n",
       "      <td>November 2017</td>\n",
       "      <td>Deeply sweet, subtly pungent. Honey, pear, tan...</td>\n",
       "    </tr>\n",
       "    <tr>\n",
       "      <th>3</th>\n",
       "      <td>Ethiopia Kayon Mountain</td>\n",
       "      <td>Red Rooster Coffee Roaster</td>\n",
       "      <td>Light</td>\n",
       "      <td>United States</td>\n",
       "      <td>Ethiopia</td>\n",
       "      <td>5.14</td>\n",
       "      <td>93</td>\n",
       "      <td>November 2017</td>\n",
       "      <td>Delicate, richly and sweetly tart. Dried hibis...</td>\n",
       "    </tr>\n",
       "    <tr>\n",
       "      <th>4</th>\n",
       "      <td>Ethiopia Gelgelu Natural Organic</td>\n",
       "      <td>Willoughby's Coffee &amp; Tea</td>\n",
       "      <td>Medium-Light</td>\n",
       "      <td>United States</td>\n",
       "      <td>Ethiopia</td>\n",
       "      <td>3.97</td>\n",
       "      <td>93</td>\n",
       "      <td>November 2017</td>\n",
       "      <td>High-toned, floral. Dried apricot, magnolia, a...</td>\n",
       "    </tr>\n",
       "    <tr>\n",
       "      <th>...</th>\n",
       "      <td>...</td>\n",
       "      <td>...</td>\n",
       "      <td>...</td>\n",
       "      <td>...</td>\n",
       "      <td>...</td>\n",
       "      <td>...</td>\n",
       "      <td>...</td>\n",
       "      <td>...</td>\n",
       "      <td>...</td>\n",
       "    </tr>\n",
       "    <tr>\n",
       "      <th>1241</th>\n",
       "      <td>Finca Patzibir</td>\n",
       "      <td>El Gran Cafe</td>\n",
       "      <td>Medium-Light</td>\n",
       "      <td>Guatemala</td>\n",
       "      <td>Guatemala</td>\n",
       "      <td>4.70</td>\n",
       "      <td>92</td>\n",
       "      <td>November 2022</td>\n",
       "      <td>Crisply sweet, nut-toned. Almond brittle, pie ...</td>\n",
       "    </tr>\n",
       "    <tr>\n",
       "      <th>1242</th>\n",
       "      <td>Proyecto Aurora</td>\n",
       "      <td>El Gran Cafe</td>\n",
       "      <td>Medium-Light</td>\n",
       "      <td>Guatemala</td>\n",
       "      <td>Guatemala</td>\n",
       "      <td>2.94</td>\n",
       "      <td>93</td>\n",
       "      <td>November 2022</td>\n",
       "      <td>Chocolaty, floral-framed. Cocoa nib, honeysuck...</td>\n",
       "    </tr>\n",
       "    <tr>\n",
       "      <th>1243</th>\n",
       "      <td>Finca El Potrero</td>\n",
       "      <td>El Gran Cafe</td>\n",
       "      <td>Medium-Light</td>\n",
       "      <td>Guatemala</td>\n",
       "      <td>Guatemala</td>\n",
       "      <td>2.94</td>\n",
       "      <td>93</td>\n",
       "      <td>November 2022</td>\n",
       "      <td>High-toned, enticingly sweet. Black cherry, na...</td>\n",
       "    </tr>\n",
       "    <tr>\n",
       "      <th>1244</th>\n",
       "      <td>Chacayá Santiago Atitlán</td>\n",
       "      <td>El Gran Cafe</td>\n",
       "      <td>Medium-Light</td>\n",
       "      <td>Guatemala</td>\n",
       "      <td>Guatemala</td>\n",
       "      <td>4.70</td>\n",
       "      <td>93</td>\n",
       "      <td>November 2022</td>\n",
       "      <td>Vibrantly sweet, subtly nuanced. Apricot, dar...</td>\n",
       "    </tr>\n",
       "    <tr>\n",
       "      <th>1245</th>\n",
       "      <td>Espresso No. 3</td>\n",
       "      <td>El Gran Cafe</td>\n",
       "      <td>Medium-Light</td>\n",
       "      <td>Guatemala</td>\n",
       "      <td>Guatemala</td>\n",
       "      <td>5.88</td>\n",
       "      <td>94</td>\n",
       "      <td>November 2022</td>\n",
       "      <td>Evaluated as espresso. Multi-layered, complex....</td>\n",
       "    </tr>\n",
       "  </tbody>\n",
       "</table>\n",
       "<p>1246 rows × 9 columns</p>\n",
       "</div>"
      ],
      "text/plain": [
       "                                  name                     roaster  \\\n",
       "0             Ethiopia Shakiso Mormora                Revel Coffee   \n",
       "1                   Ethiopia Suke Quto                 Roast House   \n",
       "2           Ethiopia Gedeb Halo Beriti   Big Creek Coffee Roasters   \n",
       "3              Ethiopia Kayon Mountain  Red Rooster Coffee Roaster   \n",
       "4     Ethiopia Gelgelu Natural Organic   Willoughby's Coffee & Tea   \n",
       "...                                ...                         ...   \n",
       "1241                    Finca Patzibir                El Gran Cafe   \n",
       "1242                   Proyecto Aurora                El Gran Cafe   \n",
       "1243                  Finca El Potrero                El Gran Cafe   \n",
       "1244          Chacayá Santiago Atitlán                El Gran Cafe   \n",
       "1245                    Espresso No. 3                El Gran Cafe   \n",
       "\n",
       "             roast    loc_country     origin  100g_USD  rating    review_date  \\\n",
       "0     Medium-Light  United States   Ethiopia      4.70      92  November 2017   \n",
       "1     Medium-Light  United States   Ethiopia      4.19      92  November 2017   \n",
       "2           Medium  United States   Ethiopia      4.85      94  November 2017   \n",
       "3            Light  United States   Ethiopia      5.14      93  November 2017   \n",
       "4     Medium-Light  United States   Ethiopia      3.97      93  November 2017   \n",
       "...            ...            ...        ...       ...     ...            ...   \n",
       "1241  Medium-Light      Guatemala  Guatemala      4.70      92  November 2022   \n",
       "1242  Medium-Light      Guatemala  Guatemala      2.94      93  November 2022   \n",
       "1243  Medium-Light      Guatemala  Guatemala      2.94      93  November 2022   \n",
       "1244  Medium-Light      Guatemala  Guatemala      4.70      93  November 2022   \n",
       "1245  Medium-Light      Guatemala  Guatemala      5.88      94  November 2022   \n",
       "\n",
       "                                                 review  \n",
       "0     Crisply sweet, cocoa-toned. Lemon blossom, roa...  \n",
       "1     Delicate, sweetly spice-toned. Pink peppercorn...  \n",
       "2     Deeply sweet, subtly pungent. Honey, pear, tan...  \n",
       "3     Delicate, richly and sweetly tart. Dried hibis...  \n",
       "4     High-toned, floral. Dried apricot, magnolia, a...  \n",
       "...                                                 ...  \n",
       "1241  Crisply sweet, nut-toned. Almond brittle, pie ...  \n",
       "1242  Chocolaty, floral-framed. Cocoa nib, honeysuck...  \n",
       "1243  High-toned, enticingly sweet. Black cherry, na...  \n",
       "1244   Vibrantly sweet, subtly nuanced. Apricot, dar...  \n",
       "1245  Evaluated as espresso. Multi-layered, complex....  \n",
       "\n",
       "[1246 rows x 9 columns]"
      ]
     },
     "execution_count": 12,
     "metadata": {},
     "output_type": "execute_result"
    }
   ],
   "source": [
    "S_coffee = pd.read_csv(\"/Users/david/Documents/GitHub/Final_project_DGU_LDU/DATA/simplified_coffee.csv\")\n",
    "S_coffee_df = pd.DataFrame(coffee)\n",
    "S_coffee_df"
   ]
  },
  {
   "cell_type": "markdown",
   "id": "a76fff4a",
   "metadata": {},
   "source": [
    "## NLP"
   ]
  },
  {
   "cell_type": "code",
   "execution_count": 7,
   "id": "c4120c36",
   "metadata": {},
   "outputs": [],
   "source": [
    "import numpy as np\n",
    "import pandas as pd\n",
    "from bs4 import BeautifulSoup\n",
    "import matplotlib.pyplot as plt\n",
    "import seaborn as sns\n",
    "import re\n",
    "%matplotlib inline"
   ]
  },
  {
   "cell_type": "code",
   "execution_count": 9,
   "id": "cfecee9d",
   "metadata": {},
   "outputs": [
    {
     "name": "stderr",
     "output_type": "stream",
     "text": [
      "[nltk_data] Downloading package punkt to /Users/david/nltk_data...\n",
      "[nltk_data]   Package punkt is already up-to-date!\n",
      "[nltk_data] Downloading package stopwords to /Users/david/nltk_data...\n",
      "[nltk_data]   Package stopwords is already up-to-date!\n",
      "[nltk_data] Downloading package wordnet to /Users/david/nltk_data...\n",
      "[nltk_data]   Package wordnet is already up-to-date!\n",
      "[nltk_data] Downloading package tagsets to /Users/david/nltk_data...\n",
      "[nltk_data]   Package tagsets is already up-to-date!\n"
     ]
    },
    {
     "data": {
      "text/plain": [
       "True"
      ]
     },
     "execution_count": 9,
     "metadata": {},
     "output_type": "execute_result"
    }
   ],
   "source": [
    "import nltk\n",
    "nltk.download('punkt')\n",
    "nltk.download('stopwords')\n",
    "nltk.download('wordnet')\n",
    "nltk.download('tagsets')"
   ]
  },
  {
   "cell_type": "code",
   "execution_count": 11,
   "id": "5f4baae6",
   "metadata": {},
   "outputs": [],
   "source": [
    "from sklearn.model_selection import train_test_split"
   ]
  },
  {
   "cell_type": "markdown",
   "id": "cd8cdc80",
   "metadata": {},
   "source": [
    "3 - Vocabulary Creation"
   ]
  },
  {
   "cell_type": "markdown",
   "id": "8f7a3506",
   "metadata": {},
   "source": [
    "4 - Vectorization"
   ]
  },
  {
   "cell_type": "markdown",
   "id": "94525959",
   "metadata": {},
   "source": [
    "5 - Term Frequency-Inverse Document Frequency (TF-IDF)"
   ]
  },
  {
   "cell_type": "markdown",
   "id": "95d8ba0c",
   "metadata": {},
   "source": [
    "All Grouping the text into a dataframe \"corpus\""
   ]
  },
  {
   "cell_type": "code",
   "execution_count": 23,
   "id": "6c0b9272",
   "metadata": {},
   "outputs": [],
   "source": [
    "corpus = S_coffee_df['review']"
   ]
  },
  {
   "cell_type": "code",
   "execution_count": 24,
   "id": "23eb973d",
   "metadata": {},
   "outputs": [
    {
     "data": {
      "text/plain": [
       "1246"
      ]
     },
     "execution_count": 24,
     "metadata": {},
     "output_type": "execute_result"
    }
   ],
   "source": [
    "len(corpus)"
   ]
  },
  {
   "cell_type": "markdown",
   "id": "8caed175",
   "metadata": {},
   "source": [
    "## 1 - CLEANING TEXT"
   ]
  },
  {
   "cell_type": "code",
   "execution_count": 29,
   "id": "26ce37a3",
   "metadata": {
    "scrolled": true
   },
   "outputs": [
    {
     "name": "stderr",
     "output_type": "stream",
     "text": [
      "/var/folders/d0/kyjzvmwn3fdgc5m0t8snt0nm0000gn/T/ipykernel_52016/2291413094.py:2: SettingWithCopyWarning: \n",
      "A value is trying to be set on a copy of a slice from a DataFrame\n",
      "\n",
      "See the caveats in the documentation: https://pandas.pydata.org/pandas-docs/stable/user_guide/indexing.html#returning-a-view-versus-a-copy\n",
      "  corpus[i] = corpus[i].lower()\n",
      "/var/folders/d0/kyjzvmwn3fdgc5m0t8snt0nm0000gn/T/ipykernel_52016/2291413094.py:3: SettingWithCopyWarning: \n",
      "A value is trying to be set on a copy of a slice from a DataFrame\n",
      "\n",
      "See the caveats in the documentation: https://pandas.pydata.org/pandas-docs/stable/user_guide/indexing.html#returning-a-view-versus-a-copy\n",
      "  corpus[i] = re.sub(r'\\W+',' ',corpus[i]) # Replace everything non-alpahnumeric by ' '\n",
      "/var/folders/d0/kyjzvmwn3fdgc5m0t8snt0nm0000gn/T/ipykernel_52016/2291413094.py:4: SettingWithCopyWarning: \n",
      "A value is trying to be set on a copy of a slice from a DataFrame\n",
      "\n",
      "See the caveats in the documentation: https://pandas.pydata.org/pandas-docs/stable/user_guide/indexing.html#returning-a-view-versus-a-copy\n",
      "  corpus[i] = re.sub(r'\\s+',' ',corpus[i]) # Replace one or more whitespaces by  ' '\n",
      "/var/folders/d0/kyjzvmwn3fdgc5m0t8snt0nm0000gn/T/ipykernel_52016/2291413094.py:5: SettingWithCopyWarning: \n",
      "A value is trying to be set on a copy of a slice from a DataFrame\n",
      "\n",
      "See the caveats in the documentation: https://pandas.pydata.org/pandas-docs/stable/user_guide/indexing.html#returning-a-view-versus-a-copy\n",
      "  corpus[i] = re.sub(r'\\d+',' ',corpus[i]) # Replace one or more digits by  ' '\n",
      "/var/folders/d0/kyjzvmwn3fdgc5m0t8snt0nm0000gn/T/ipykernel_52016/2291413094.py:6: SettingWithCopyWarning: \n",
      "A value is trying to be set on a copy of a slice from a DataFrame\n",
      "\n",
      "See the caveats in the documentation: https://pandas.pydata.org/pandas-docs/stable/user_guide/indexing.html#returning-a-view-versus-a-copy\n",
      "  corpus[i] = re.sub(r'([a-z0-9+._-]+@[a-z0-9+._-]+\\.[a-z0-9+_-]+)',\" \", corpus[i]) # Replace e-mails by ' '\n",
      "/var/folders/d0/kyjzvmwn3fdgc5m0t8snt0nm0000gn/T/ipykernel_52016/2291413094.py:8: SettingWithCopyWarning: \n",
      "A value is trying to be set on a copy of a slice from a DataFrame\n",
      "\n",
      "See the caveats in the documentation: https://pandas.pydata.org/pandas-docs/stable/user_guide/indexing.html#returning-a-view-versus-a-copy\n",
      "  corpus[i] = re.sub(r'(http|https|ftp|ssh)://([\\w_-]+(?:(?:\\.[\\w_-]+)+))([\\w.,@?^=%&:/~+#-]*[\\w@?^=%&/~+#-])?', ' ' , corpus[i])\n",
      "/var/folders/d0/kyjzvmwn3fdgc5m0t8snt0nm0000gn/T/ipykernel_52016/2291413094.py:10: SettingWithCopyWarning: \n",
      "A value is trying to be set on a copy of a slice from a DataFrame\n",
      "\n",
      "See the caveats in the documentation: https://pandas.pydata.org/pandas-docs/stable/user_guide/indexing.html#returning-a-view-versus-a-copy\n",
      "  corpus[i] = BeautifulSoup(corpus[i], 'html.parser').get_text().strip()\n"
     ]
    }
   ],
   "source": [
    "for i in range(len(corpus)):\n",
    "    corpus[i] = corpus[i].lower()\n",
    "    corpus[i] = re.sub(r'\\W+',' ',corpus[i]) # Replace everything non-alpahnumeric by ' '\n",
    "    corpus[i] = re.sub(r'\\s+',' ',corpus[i]) # Replace one or more whitespaces by  ' '\n",
    "    corpus[i] = re.sub(r'\\d+',' ',corpus[i]) # Replace one or more digits by  ' '\n",
    "    corpus[i] = re.sub(r'([a-z0-9+._-]+@[a-z0-9+._-]+\\.[a-z0-9+_-]+)',\" \", corpus[i]) # Replace e-mails by ' '\n",
    "    # Replace urls by ''\n",
    "    corpus[i] = re.sub(r'(http|https|ftp|ssh)://([\\w_-]+(?:(?:\\.[\\w_-]+)+))([\\w.,@?^=%&:/~+#-]*[\\w@?^=%&/~+#-])?', ' ' , corpus[i]) \n",
    "    # Replace html tags by ''\n",
    "    corpus[i] = BeautifulSoup(corpus[i], 'html.parser').get_text().strip()"
   ]
  },
  {
   "cell_type": "markdown",
   "id": "be43f25f",
   "metadata": {},
   "source": [
    "QUESTIONS:\n",
    "- Do we remove the following : and, with, in \n",
    "\n",
    "- 2(3)-grammes with : taste of, flavor of, ..."
   ]
  },
  {
   "cell_type": "code",
   "execution_count": 28,
   "id": "60cb7dd4",
   "metadata": {},
   "outputs": [],
   "source": [
    "corpus.to_csv(\"corpus_cleaning.csv\")"
   ]
  },
  {
   "cell_type": "markdown",
   "id": "77d68d77",
   "metadata": {},
   "source": [
    "2 - Tokenization"
   ]
  },
  {
   "cell_type": "code",
   "execution_count": null,
   "id": "7384a2a5",
   "metadata": {},
   "outputs": [],
   "source": []
  }
 ],
 "metadata": {
  "kernelspec": {
   "display_name": "Python 3 (ipykernel)",
   "language": "python",
   "name": "python3"
  },
  "language_info": {
   "codemirror_mode": {
    "name": "ipython",
    "version": 3
   },
   "file_extension": ".py",
   "mimetype": "text/x-python",
   "name": "python",
   "nbconvert_exporter": "python",
   "pygments_lexer": "ipython3",
   "version": "3.9.13"
  }
 },
 "nbformat": 4,
 "nbformat_minor": 5
}
