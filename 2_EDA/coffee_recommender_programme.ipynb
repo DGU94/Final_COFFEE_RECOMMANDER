{
 "cells": [
  {
   "cell_type": "code",
   "execution_count": 1,
   "id": "68fefc8b",
   "metadata": {},
   "outputs": [],
   "source": [
    "# importing relevant libraries\n",
    "import pandas as pd\n",
    "import numpy as np\n",
    "import time"
   ]
  },
  {
   "cell_type": "code",
   "execution_count": 2,
   "id": "adc2fcd5",
   "metadata": {},
   "outputs": [],
   "source": [
    "def Coffee4All():\n",
    "    \"\"\"This function launches the programme.\"\"\"\n",
    "    introduction()\n",
    "    user_choice = options()\n",
    "    if user_choice == 1:\n",
    "        option_1()\n",
    "    elif user_choice == 2:\n",
    "        option_2()\n",
    "    elif user_choice ==3:\n",
    "        option_3()\n",
    "    else:\n",
    "        "
   ]
  },
  {
   "cell_type": "code",
   "execution_count": 3,
   "id": "35c5cbc6",
   "metadata": {},
   "outputs": [],
   "source": [
    "def introduction():\n",
    "    \"\"\"This function shows the user the starting screen and introduces the programme.\"\"\"\n",
    "    print(\"*************************************************************************\")\n",
    "    print(\"        WELCOME TO COFFEE4ALL – Your source of great coffee!             \")\n",
    "    print(\"*************************************************************************\")\n",
    "    print(\"                                                                         \")\n",
    "    print(\"                                                     * * *               \")\n",
    "    print(\"                                                      * * *              \")\n",
    "    print(\"     Brought to you by:                              * * *               \")\n",
    "    print(\"     David Guillet & Laurens Duin                   * * *                \")\n",
    "    print(\"                                                 **************          \")\n",
    "    print(\"                                                 **************          \")\n",
    "    print(\"                                                  ************           \")\n",
    "    print(\"                                                   **********            \")\n",
    "    print(\"                                                 ***************         \")\n",
    "    print(\"                                                                         \")\n",
    "    print(\"*************************************************************************\")"
   ]
  },
  {
   "cell_type": "code",
   "execution_count": 4,
   "id": "a122e105",
   "metadata": {},
   "outputs": [],
   "source": [
    "def options():\n",
    "    \"\"\"This function introduces the user to the three possible options to select a coffee.\"\"\"\n",
    "    print(\"\\nDear coffee enthusiast,\\nyou're just a couple of steps away from enjoying a nice coffee to your liking!\\n\")\n",
    "    time.sleep(3)\n",
    "    print(\"We offer you three possible options to find your coffee: \\n\")\n",
    "    time.sleep(2)\n",
    "    print(\"Option 1: you're feeling lucky so we randomly select a high-quality coffee for you.\")\n",
    "    time.sleep(2)\n",
    "    print(\"Option 2: we provide you with a top-5 of coffees that either received the highest reviews, or are lowest in price.\")\n",
    "    time.sleep(2)\n",
    "    print(\"Option 3: we ask you for your preferences regarding roast, origin, price, rating as well as flavour and recommend you a coffee based on this information.\")\n",
    "    time.sleep(2)\n",
    "    user_choice = input(\"Please select option 1, 2 or 3: \")\n",
    "    return user_choice"
   ]
  },
  {
   "cell_type": "code",
   "execution_count": null,
   "id": "03dcf34a",
   "metadata": {},
   "outputs": [],
   "source": [
    "def option_1():\n",
    "    \"\"\"This function runs option 1.\"\"\"\n",
    "    print(test1)"
   ]
  },
  {
   "cell_type": "code",
   "execution_count": null,
   "id": "7720b4b8",
   "metadata": {},
   "outputs": [],
   "source": [
    "def option_2():\n",
    "    \"\"\"This function runs option 2.\"\"\"\n",
    "    print(test2)"
   ]
  },
  {
   "cell_type": "code",
   "execution_count": null,
   "id": "66b030af",
   "metadata": {},
   "outputs": [],
   "source": [
    "def option_3():\n",
    "    \"\"\"This function runs option 3.\"\"\"\n",
    "    print(test3)"
   ]
  },
  {
   "cell_type": "code",
   "execution_count": null,
   "id": "ba853d02",
   "metadata": {},
   "outputs": [
    {
     "name": "stdout",
     "output_type": "stream",
     "text": [
      "*************************************************************************\n",
      "        WELCOME TO COFFEE4ALL – Your source of great coffee!             \n",
      "*************************************************************************\n",
      "                                                                         \n",
      "                                                     * * *               \n",
      "                                                      * * *              \n",
      "     Brought to you by:                              * * *               \n",
      "     David Guillet & Laurens Duin                   * * *                \n",
      "                                                 **************          \n",
      "                                                 **************          \n",
      "                                                  ************           \n",
      "                                                   **********            \n",
      "                                                 ***************         \n",
      "                                                                         \n",
      "*************************************************************************\n",
      "\n",
      "Dear coffee enthusiast,\n",
      "you're just a couple of steps away from enjoying a nice coffee to your liking!\n",
      "\n",
      "We offer you three possible options to find your coffee: \n",
      "\n",
      "Option 1: you're feeling lucky so we randomly select a high-quality coffee for you.\n",
      "Option 2: we provide you with a top-5 of coffees that either received the highest reviews, or are lowest in price.\n",
      "Option 3: we ask you for your preferences regarding roast, origin, price, rating as well as flavour and recommend you a coffee based on this information.\n"
     ]
    }
   ],
   "source": [
    "Coffee4All()"
   ]
  },
  {
   "cell_type": "code",
   "execution_count": null,
   "id": "779e8a53",
   "metadata": {},
   "outputs": [],
   "source": [
    "# scratchpad/notes:\n",
    "\n",
    "# possible names: RoastWise, BrewSavant, CoffeeHero\n",
    "\n",
    "# programme starts, user gets three options:\n",
    "# 1. random (something along the lines of \"I'm feeling lucky\")\n",
    "# 2. top 5 best coffees (either based on rating or lowest price)\n",
    "# 3. custom selection:\n",
    " # - First ask the user for three things that they value in a coffee (use this to filter the data)\n",
    " # - Ask the user to give their preferences on the following four categories: roast, origin, price and rating"
   ]
  }
 ],
 "metadata": {
  "kernelspec": {
   "display_name": "Python 3 (ipykernel)",
   "language": "python",
   "name": "python3"
  },
  "language_info": {
   "codemirror_mode": {
    "name": "ipython",
    "version": 3
   },
   "file_extension": ".py",
   "mimetype": "text/x-python",
   "name": "python",
   "nbconvert_exporter": "python",
   "pygments_lexer": "ipython3",
   "version": "3.9.13"
  }
 },
 "nbformat": 4,
 "nbformat_minor": 5
}
