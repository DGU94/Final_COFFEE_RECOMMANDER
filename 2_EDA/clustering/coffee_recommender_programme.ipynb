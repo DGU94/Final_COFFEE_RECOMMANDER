{
 "cells": [
  {
   "cell_type": "code",
   "execution_count": 1,
   "id": "3777b79a",
   "metadata": {},
   "outputs": [],
   "source": [
    "# importing relevant libraries\n",
    "import pandas as pd\n",
    "import numpy as np\n",
    "import time"
   ]
  },
  {
   "cell_type": "code",
   "execution_count": 2,
   "id": "adc2fcd5",
   "metadata": {},
   "outputs": [],
   "source": [
    "def Coffee4All():\n",
    "    \"\"\"This function launches the programme.\"\"\"\n",
    "    introduction()\n",
    "    load_df()\n",
    "    user_choice = options()\n",
    "    if user_choice == 1:\n",
    "        option_1()\n",
    "    elif user_choice == 2:\n",
    "        option_2()\n",
    "    elif user_choice ==3:\n",
    "        option_3()\n",
    "    else:\n",
    "        "
   ]
  },
  {
   "cell_type": "code",
   "execution_count": 3,
   "id": "35c5cbc6",
   "metadata": {},
   "outputs": [],
   "source": [
    "def introduction():\n",
    "    \"\"\"This function shows the user the starting screen and introduces the programme.\"\"\"\n",
    "    print(\"*************************************************************************\")\n",
    "    print(\"        WELCOME TO COFFEE4ALL – Your source of great coffee!             \")\n",
    "    print(\"*************************************************************************\")\n",
    "    print(\"                                                                         \")\n",
    "    print(\"                                                     * * *               \")\n",
    "    print(\"                                                      * * *              \")\n",
    "    print(\"     Brought to you by:                              * * *               \")\n",
    "    print(\"     David Guillet & Laurens Duin                   * * *                \")\n",
    "    print(\"                                                 **************          \")\n",
    "    print(\"                                                 **************          \")\n",
    "    print(\"                                                  ************           \")\n",
    "    print(\"                                                   **********            \")\n",
    "    print(\"                                                 ***************         \")\n",
    "    print(\"                                                                         \")\n",
    "    print(\"*************************************************************************\")"
   ]
  },
  {
   "cell_type": "code",
   "execution_count": 17,
   "id": "3b0444b1",
   "metadata": {},
   "outputs": [],
   "source": [
    "def load_df():\n",
    "    \"\"\"This function loads the relevant database/pickles\"\"\"\n",
    "    clustered_coffee_df = pd.read_csv(\"clustered_coffee_df.csv\")"
   ]
  },
  {
   "cell_type": "code",
   "execution_count": 4,
   "id": "a122e105",
   "metadata": {},
   "outputs": [],
   "source": [
    "def options():\n",
    "    \"\"\"This function introduces the user to the three possible options to select a coffee.\"\"\"\n",
    "    print(\"\\nDear coffee enthusiast,\\nyou're just a couple of steps away from enjoying a nice coffee to your liking!\\n\")\n",
    "    time.sleep(3)\n",
    "    print(\"We offer you three possible options to find your coffee: \\n\")\n",
    "    time.sleep(2)\n",
    "    print(\"Option 1: you're feeling lucky so we randomly select a high-quality coffee for you.\")\n",
    "    time.sleep(2)\n",
    "    print(\"Option 2: we provide you with a top-5 of coffees that either received the highest reviews, or are lowest in price.\")\n",
    "    time.sleep(2)\n",
    "    print(\"Option 3: we ask you for your preferences regarding roast, origin, price, rating as well as flavour and recommend you a coffee based on this information.\")\n",
    "    time.sleep(2)\n",
    "    user_choice = input(\"Please select option 1, 2 or 3: \")\n",
    "    return user_choice"
   ]
  },
  {
   "cell_type": "code",
   "execution_count": 10,
   "id": "03dcf34a",
   "metadata": {},
   "outputs": [],
   "source": [
    "def option_1():\n",
    "    \"\"\"This function runs option 1.\"\"\"\n",
    "    print(\"test1\")"
   ]
  },
  {
   "cell_type": "code",
   "execution_count": 11,
   "id": "7720b4b8",
   "metadata": {},
   "outputs": [],
   "source": [
    "def option_2():\n",
    "    \"\"\"This function runs option 2.\"\"\"\n",
    "    print(\"test2\")"
   ]
  },
  {
   "cell_type": "code",
   "execution_count": 12,
   "id": "66b030af",
   "metadata": {},
   "outputs": [],
   "source": [
    "def option_3():\n",
    "    \"\"\"This function runs option 3.\"\"\"\n",
    "    print(\"test3\")"
   ]
  },
  {
   "cell_type": "code",
   "execution_count": 16,
   "id": "ba853d02",
   "metadata": {
    "collapsed": true
   },
   "outputs": [
    {
     "name": "stdout",
     "output_type": "stream",
     "text": [
      "*************************************************************************\n",
      "        WELCOME TO COFFEE4ALL – Your source of great coffee!             \n",
      "*************************************************************************\n",
      "                                                                         \n",
      "                                                     * * *               \n",
      "                                                      * * *              \n",
      "     Brought to you by:                              * * *               \n",
      "     David Guillet & Laurens Duin                   * * *                \n",
      "                                                 **************          \n",
      "                                                 **************          \n",
      "                                                  ************           \n",
      "                                                   **********            \n",
      "                                                 ***************         \n",
      "                                                                         \n",
      "*************************************************************************\n",
      "\n",
      "Dear coffee enthusiast,\n",
      "you're just a couple of steps away from enjoying a nice coffee to your liking!\n",
      "\n",
      "We offer you three possible options to find your coffee: \n",
      "\n",
      "Option 1: you're feeling lucky so we randomly select a high-quality coffee for you.\n",
      "Option 2: we provide you with a top-5 of coffees that either received the highest reviews, or are lowest in price.\n",
      "Option 3: we ask you for your preferences regarding roast, origin, price, rating as well as flavour and recommend you a coffee based on this information.\n",
      "Please select option 1, 2 or 3: 2\n"
     ]
    },
    {
     "ename": "NameError",
     "evalue": "name 'test1' is not defined",
     "output_type": "error",
     "traceback": [
      "\u001b[1;31m---------------------------------------------------------------------------\u001b[0m",
      "\u001b[1;31mNameError\u001b[0m                                 Traceback (most recent call last)",
      "\u001b[1;32m~\\AppData\\Local\\Temp\\ipykernel_132\\1527902127.py\u001b[0m in \u001b[0;36m<module>\u001b[1;34m\u001b[0m\n\u001b[1;32m----> 1\u001b[1;33m \u001b[0mCoffee4All\u001b[0m\u001b[1;33m(\u001b[0m\u001b[1;33m)\u001b[0m\u001b[1;33m\u001b[0m\u001b[1;33m\u001b[0m\u001b[0m\n\u001b[0m",
      "\u001b[1;32m~\\AppData\\Local\\Temp\\ipykernel_132\\3176693518.py\u001b[0m in \u001b[0;36mCoffee4All\u001b[1;34m()\u001b[0m\n\u001b[0;32m      3\u001b[0m     \u001b[0mintroduction\u001b[0m\u001b[1;33m(\u001b[0m\u001b[1;33m)\u001b[0m\u001b[1;33m\u001b[0m\u001b[1;33m\u001b[0m\u001b[0m\n\u001b[0;32m      4\u001b[0m     \u001b[0moptions\u001b[0m\u001b[1;33m(\u001b[0m\u001b[1;33m)\u001b[0m\u001b[1;33m\u001b[0m\u001b[1;33m\u001b[0m\u001b[0m\n\u001b[1;32m----> 5\u001b[1;33m     \u001b[0moption_1\u001b[0m\u001b[1;33m(\u001b[0m\u001b[1;33m)\u001b[0m\u001b[1;33m\u001b[0m\u001b[1;33m\u001b[0m\u001b[0m\n\u001b[0m\u001b[0;32m      6\u001b[0m     \u001b[0moption_2\u001b[0m\u001b[1;33m(\u001b[0m\u001b[1;33m)\u001b[0m\u001b[1;33m\u001b[0m\u001b[1;33m\u001b[0m\u001b[0m\n\u001b[0;32m      7\u001b[0m     \u001b[0moption_3\u001b[0m\u001b[1;33m(\u001b[0m\u001b[1;33m)\u001b[0m\u001b[1;33m\u001b[0m\u001b[1;33m\u001b[0m\u001b[0m\n",
      "\u001b[1;32m~\\AppData\\Local\\Temp\\ipykernel_132\\590756262.py\u001b[0m in \u001b[0;36moption_1\u001b[1;34m()\u001b[0m\n\u001b[0;32m      1\u001b[0m \u001b[1;32mdef\u001b[0m \u001b[0moption_1\u001b[0m\u001b[1;33m(\u001b[0m\u001b[1;33m)\u001b[0m\u001b[1;33m:\u001b[0m\u001b[1;33m\u001b[0m\u001b[1;33m\u001b[0m\u001b[0m\n\u001b[0;32m      2\u001b[0m     \u001b[1;34m\"\"\"This function runs option 1.\"\"\"\u001b[0m\u001b[1;33m\u001b[0m\u001b[1;33m\u001b[0m\u001b[0m\n\u001b[1;32m----> 3\u001b[1;33m     \u001b[0mprint\u001b[0m\u001b[1;33m(\u001b[0m\u001b[0mtest1\u001b[0m\u001b[1;33m)\u001b[0m\u001b[1;33m\u001b[0m\u001b[1;33m\u001b[0m\u001b[0m\n\u001b[0m",
      "\u001b[1;31mNameError\u001b[0m: name 'test1' is not defined"
     ]
    }
   ],
   "source": [
    "Coffee4All()"
   ]
  },
  {
   "cell_type": "code",
   "execution_count": 9,
   "id": "779e8a53",
   "metadata": {},
   "outputs": [],
   "source": [
    "# scratchpad/notes:\n",
    "\n",
    "# possible names: RoastWise, BrewSavant, CoffeeHero\n",
    "\n",
    "# programme starts, user gets three options:\n",
    "# 1. random (something along the lines of \"I'm feeling lucky\")\n",
    "# 2. top 5 best coffees (either based on rating or lowest price)\n",
    "# 3. custom selection:\n",
    " # - First ask the user for three things that they value in a coffee (use this to filter the data)\n",
    " # - Ask the user to give their preferences on the following four categories: roast, origin, price and rating"
   ]
  }
 ],
 "metadata": {
  "kernelspec": {
   "display_name": "Python 3 (ipykernel)",
   "language": "python",
   "name": "python3"
  },
  "language_info": {
   "codemirror_mode": {
    "name": "ipython",
    "version": 3
   },
   "file_extension": ".py",
   "mimetype": "text/x-python",
   "name": "python",
   "nbconvert_exporter": "python",
   "pygments_lexer": "ipython3",
   "version": "3.9.13"
  }
 },
 "nbformat": 4,
 "nbformat_minor": 5
}
