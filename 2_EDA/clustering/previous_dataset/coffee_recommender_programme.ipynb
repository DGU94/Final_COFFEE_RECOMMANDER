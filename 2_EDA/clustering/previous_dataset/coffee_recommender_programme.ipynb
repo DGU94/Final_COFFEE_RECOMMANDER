{
 "cells": [
  {
   "cell_type": "code",
   "execution_count": 1,
   "id": "3777b79a",
   "metadata": {},
   "outputs": [],
   "source": [
    "# importing relevant libraries\n",
    "import pandas as pd\n",
    "import numpy as np\n",
    "import time\n",
    "import pickle"
   ]
  },
  {
   "cell_type": "code",
   "execution_count": 2,
   "id": "adc2fcd5",
   "metadata": {
    "scrolled": true
   },
   "outputs": [],
   "source": [
    "def CoffeeCompass():\n",
    "    \"\"\"This function launches the programme.\"\"\"\n",
    "    programme_active = True\n",
    "    while programme_active:\n",
    "        introduction()\n",
    "        clustered_coffee_df = load_df()\n",
    "        scaler = load_scaler()\n",
    "        kmeans = load_kmeans()\n",
    "        user_choice = options()\n",
    "        if user_choice == 1:\n",
    "            while True:\n",
    "                user_choice2 = option_1()\n",
    "                if user_choice2 == 'no':\n",
    "                    options()\n",
    "                    # print(\"Thank you for using Coffee4All!\")\n",
    "                    # break\n",
    "        while user_choice == 2:\n",
    "            option_2()\n",
    "        while user_choice == 3:\n",
    "            option_3()"
   ]
  },
  {
   "cell_type": "code",
   "execution_count": 12,
   "id": "35c5cbc6",
   "metadata": {},
   "outputs": [],
   "source": [
    "def introduction():\n",
    "    \"\"\"This function shows the user the starting screen and introduces the programme.\"\"\"\n",
    "    print(\"*************************************************************************\")\n",
    "    print(\"        Welcome to CoffeeCompass – Your source of great coffee!             \")\n",
    "    print(\"*************************************************************************\")\n",
    "    print(\"                                                                         \")\n",
    "    print(\"                                                     * * *               \")\n",
    "    print(\"                                                      * * *              \")\n",
    "    print(\"     Brought to you by:                              * * *               \")\n",
    "    print(\"     David Guillet & Laurens Duin                   * * *                \")\n",
    "    print(\"                                                 **************          \")\n",
    "    print(\"                                                 **************          \")\n",
    "    print(\"                                                  ************           \")\n",
    "    print(\"                                                   **********            \")\n",
    "    print(\"                                                 ***************         \")\n",
    "    print(\"                                                                         \")\n",
    "    print(\"*************************************************************************\")"
   ]
  },
  {
   "cell_type": "code",
   "execution_count": 4,
   "id": "3b0444b1",
   "metadata": {},
   "outputs": [],
   "source": [
    "def load_df():\n",
    "    \"\"\"This function loads the relevant database/pickles\"\"\"\n",
    "    clustered_coffee_df = pd.read_csv(\"clustered_coffee_df.csv\")"
   ]
  },
  {
   "cell_type": "code",
   "execution_count": 5,
   "id": "3bb1e445",
   "metadata": {},
   "outputs": [],
   "source": [
    "def load_scaler():\n",
    "    \"\"\"This functions loads the scaler.\"\"\"\n",
    "    with open('scaler_coffee_recommender.pickle', 'rb') as f:\n",
    "        return pickle.load(f)"
   ]
  },
  {
   "cell_type": "code",
   "execution_count": 6,
   "id": "ad2a3f13",
   "metadata": {},
   "outputs": [],
   "source": [
    "def load_kmeans():\n",
    "    \"\"\"This function loads the kmeans.\"\"\"\n",
    "    with open('kmeans_coffee_recommender.pickle', 'rb') as f:\n",
    "        return pickle.load(f)"
   ]
  },
  {
   "cell_type": "code",
   "execution_count": 7,
   "id": "a122e105",
   "metadata": {},
   "outputs": [],
   "source": [
    "def options():\n",
    "    \"\"\"This function introduces the user to the three possible options to select a coffee.\"\"\"\n",
    "    print(\"\\nDear coffee enthusiast,\\nyou're just a couple of steps away from enjoying a nice coffee to your liking!\\n\")\n",
    "    # time.sleep(3)\n",
    "    print(\"We offer you three possible options to find your coffee: \\n\")\n",
    "    # time.sleep(2)\n",
    "    print(\"Option 1: you're feeling lucky so we randomly select a high-quality coffee for you.\")\n",
    "    # time.sleep(2)\n",
    "    print(\"Option 2: we provide you with a top-5 of coffees that either received the highest reviews, or are lowest in price.\")\n",
    "    # time.sleep(2)\n",
    "    print(\"Option 3: we ask you for your preferences regarding roast, origin, price, rating as well as flavour and recommend you a coffee based on this information.\")\n",
    "    # time.sleep(2)\n",
    "    while True:\n",
    "        try:\n",
    "            user_choice = int(input(\"\\nPlease select option 1, 2 or 3: \"))\n",
    "            if user_choice not in [1, 2, 3]:\n",
    "                raise ValueError(\"Invalid input. Please enter 1, 2 or 3.\\n\")\n",
    "            break  # if input is valid, exit the loop\n",
    "        except ValueError as e:\n",
    "            print(\"Invalid input. Please enter 1, 2 or 3.\\n\")\n",
    "    return user_choice"
   ]
  },
  {
   "cell_type": "code",
   "execution_count": 8,
   "id": "03dcf34a",
   "metadata": {},
   "outputs": [],
   "source": [
    "def option_1():\n",
    "    \"\"\"This function selects a random coffee.\"\"\"\n",
    "    pd.set_option('display.max_colwidth', None)\n",
    "    scaled_coffee_df = pd.read_csv(\"clustered_coffee_df.csv\")\n",
    "    print(\"You've selected option 1. I'll now select a random coffee for you.\")\n",
    "    time.sleep(2)\n",
    "    sample_coffee = pd.DataFrame(scaled_coffee_df.sample())\n",
    "    print(\"\\nThis is the result: \\n\")\n",
    "    print(f\"Coffee name: {sample_coffee['name'].to_string(index=False)}\")\n",
    "    print(f\"Roaster: {sample_coffee['roaster'].to_string(index=False)}\")\n",
    "    print(f\"Roast type: {sample_coffee['roast'].to_string(index=False)}\")\n",
    "    print(f\"Price (100 grams/USD): {sample_coffee['100g_USD'].to_string(index=False)}\")\n",
    "    print(f\"Rating: {sample_coffee['rating'].to_string(index=False)}\\n\")\n",
    "    print(f\"Review: {sample_coffee['review'].to_string(index=False)}\")\n",
    "    time.sleep(2)\n",
    "    while True:\n",
    "        try:\n",
    "            user_choice = input(\"\\nDo you want to get another cofee suggestion? Please write 'yes' or 'no': \")\n",
    "            if user_choice.lower() not in ['yes', 'no']:\n",
    "                raise ValueError(\"Invalid input. Please enter 'yes' or 'no'.\")\n",
    "            break  # if input is valid, exit the loop\n",
    "        except ValueError as e:\n",
    "                print(\"\\nInvalid input. Please enter 'yes' or 'no'\")\n",
    "    return user_choice"
   ]
  },
  {
   "cell_type": "code",
   "execution_count": 9,
   "id": "7720b4b8",
   "metadata": {},
   "outputs": [],
   "source": [
    "def option_2():\n",
    "    \"\"\"This function runs option 2.\"\"\"\n",
    "    print(\"test2\")"
   ]
  },
  {
   "cell_type": "code",
   "execution_count": 10,
   "id": "66b030af",
   "metadata": {},
   "outputs": [],
   "source": [
    "def option_3():\n",
    "    \"\"\"This function runs option 3.\"\"\"\n",
    "    print(\"test3\")"
   ]
  },
  {
   "cell_type": "markdown",
   "id": "7d8b9ed1",
   "metadata": {},
   "source": [
    "# create function that alllows users to either go back to the options menu or to quit the programme"
   ]
  },
  {
   "cell_type": "code",
   "execution_count": 11,
   "id": "ba853d02",
   "metadata": {
    "collapsed": true
   },
   "outputs": [
    {
     "name": "stdout",
     "output_type": "stream",
     "text": [
      "*************************************************************************\n",
      "        WELCOME TO COFFEE4ALL – Your source of great coffee!             \n",
      "*************************************************************************\n",
      "                                                                         \n",
      "                                                     * * *               \n",
      "                                                      * * *              \n",
      "     Brought to you by:                              * * *               \n",
      "     David Guillet & Laurens Duin                   * * *                \n",
      "                                                 **************          \n",
      "                                                 **************          \n",
      "                                                  ************           \n",
      "                                                   **********            \n",
      "                                                 ***************         \n",
      "                                                                         \n",
      "*************************************************************************\n",
      "\n",
      "Dear coffee enthusiast,\n",
      "you're just a couple of steps away from enjoying a nice coffee to your liking!\n",
      "\n",
      "We offer you three possible options to find your coffee: \n",
      "\n",
      "Option 1: you're feeling lucky so we randomly select a high-quality coffee for you.\n",
      "Option 2: we provide you with a top-5 of coffees that either received the highest reviews, or are lowest in price.\n",
      "Option 3: we ask you for your preferences regarding roast, origin, price, rating as well as flavour and recommend you a coffee based on this information.\n"
     ]
    },
    {
     "ename": "KeyboardInterrupt",
     "evalue": "Interrupted by user",
     "output_type": "error",
     "traceback": [
      "\u001b[1;31m---------------------------------------------------------------------------\u001b[0m",
      "\u001b[1;31mKeyboardInterrupt\u001b[0m                         Traceback (most recent call last)",
      "\u001b[1;32m~\\AppData\\Local\\Temp\\ipykernel_10352\\2270215999.py\u001b[0m in \u001b[0;36m<module>\u001b[1;34m\u001b[0m\n\u001b[1;32m----> 1\u001b[1;33m \u001b[0mCoffeeCompass\u001b[0m\u001b[1;33m(\u001b[0m\u001b[1;33m)\u001b[0m\u001b[1;33m\u001b[0m\u001b[1;33m\u001b[0m\u001b[0m\n\u001b[0m",
      "\u001b[1;32m~\\AppData\\Local\\Temp\\ipykernel_10352\\3909157410.py\u001b[0m in \u001b[0;36mCoffeeCompass\u001b[1;34m()\u001b[0m\n\u001b[0;32m      7\u001b[0m         \u001b[0mscaler\u001b[0m \u001b[1;33m=\u001b[0m \u001b[0mload_scaler\u001b[0m\u001b[1;33m(\u001b[0m\u001b[1;33m)\u001b[0m\u001b[1;33m\u001b[0m\u001b[1;33m\u001b[0m\u001b[0m\n\u001b[0;32m      8\u001b[0m         \u001b[0mkmeans\u001b[0m \u001b[1;33m=\u001b[0m \u001b[0mload_kmeans\u001b[0m\u001b[1;33m(\u001b[0m\u001b[1;33m)\u001b[0m\u001b[1;33m\u001b[0m\u001b[1;33m\u001b[0m\u001b[0m\n\u001b[1;32m----> 9\u001b[1;33m         \u001b[0muser_choice\u001b[0m \u001b[1;33m=\u001b[0m \u001b[0moptions\u001b[0m\u001b[1;33m(\u001b[0m\u001b[1;33m)\u001b[0m\u001b[1;33m\u001b[0m\u001b[1;33m\u001b[0m\u001b[0m\n\u001b[0m\u001b[0;32m     10\u001b[0m         \u001b[1;32mif\u001b[0m \u001b[0muser_choice\u001b[0m \u001b[1;33m==\u001b[0m \u001b[1;36m1\u001b[0m\u001b[1;33m:\u001b[0m\u001b[1;33m\u001b[0m\u001b[1;33m\u001b[0m\u001b[0m\n\u001b[0;32m     11\u001b[0m             \u001b[1;32mwhile\u001b[0m \u001b[1;32mTrue\u001b[0m\u001b[1;33m:\u001b[0m\u001b[1;33m\u001b[0m\u001b[1;33m\u001b[0m\u001b[0m\n",
      "\u001b[1;32m~\\AppData\\Local\\Temp\\ipykernel_10352\\2146098012.py\u001b[0m in \u001b[0;36moptions\u001b[1;34m()\u001b[0m\n\u001b[0;32m     13\u001b[0m     \u001b[1;32mwhile\u001b[0m \u001b[1;32mTrue\u001b[0m\u001b[1;33m:\u001b[0m\u001b[1;33m\u001b[0m\u001b[1;33m\u001b[0m\u001b[0m\n\u001b[0;32m     14\u001b[0m         \u001b[1;32mtry\u001b[0m\u001b[1;33m:\u001b[0m\u001b[1;33m\u001b[0m\u001b[1;33m\u001b[0m\u001b[0m\n\u001b[1;32m---> 15\u001b[1;33m             \u001b[0muser_choice\u001b[0m \u001b[1;33m=\u001b[0m \u001b[0mint\u001b[0m\u001b[1;33m(\u001b[0m\u001b[0minput\u001b[0m\u001b[1;33m(\u001b[0m\u001b[1;34m\"\\nPlease select option 1, 2 or 3: \"\u001b[0m\u001b[1;33m)\u001b[0m\u001b[1;33m)\u001b[0m\u001b[1;33m\u001b[0m\u001b[1;33m\u001b[0m\u001b[0m\n\u001b[0m\u001b[0;32m     16\u001b[0m             \u001b[1;32mif\u001b[0m \u001b[0muser_choice\u001b[0m \u001b[1;32mnot\u001b[0m \u001b[1;32min\u001b[0m \u001b[1;33m[\u001b[0m\u001b[1;36m1\u001b[0m\u001b[1;33m,\u001b[0m \u001b[1;36m2\u001b[0m\u001b[1;33m,\u001b[0m \u001b[1;36m3\u001b[0m\u001b[1;33m]\u001b[0m\u001b[1;33m:\u001b[0m\u001b[1;33m\u001b[0m\u001b[1;33m\u001b[0m\u001b[0m\n\u001b[0;32m     17\u001b[0m                 \u001b[1;32mraise\u001b[0m \u001b[0mValueError\u001b[0m\u001b[1;33m(\u001b[0m\u001b[1;34m\"Invalid input. Please enter 1, 2 or 3.\\n\"\u001b[0m\u001b[1;33m)\u001b[0m\u001b[1;33m\u001b[0m\u001b[1;33m\u001b[0m\u001b[0m\n",
      "\u001b[1;32m~\\anaconda3\\lib\\site-packages\\ipykernel\\kernelbase.py\u001b[0m in \u001b[0;36mraw_input\u001b[1;34m(self, prompt)\u001b[0m\n\u001b[0;32m   1175\u001b[0m                 \u001b[1;34m\"raw_input was called, but this frontend does not support input requests.\"\u001b[0m\u001b[1;33m\u001b[0m\u001b[1;33m\u001b[0m\u001b[0m\n\u001b[0;32m   1176\u001b[0m             )\n\u001b[1;32m-> 1177\u001b[1;33m         return self._input_request(\n\u001b[0m\u001b[0;32m   1178\u001b[0m             \u001b[0mstr\u001b[0m\u001b[1;33m(\u001b[0m\u001b[0mprompt\u001b[0m\u001b[1;33m)\u001b[0m\u001b[1;33m,\u001b[0m\u001b[1;33m\u001b[0m\u001b[1;33m\u001b[0m\u001b[0m\n\u001b[0;32m   1179\u001b[0m             \u001b[0mself\u001b[0m\u001b[1;33m.\u001b[0m\u001b[0m_parent_ident\u001b[0m\u001b[1;33m[\u001b[0m\u001b[1;34m\"shell\"\u001b[0m\u001b[1;33m]\u001b[0m\u001b[1;33m,\u001b[0m\u001b[1;33m\u001b[0m\u001b[1;33m\u001b[0m\u001b[0m\n",
      "\u001b[1;32m~\\anaconda3\\lib\\site-packages\\ipykernel\\kernelbase.py\u001b[0m in \u001b[0;36m_input_request\u001b[1;34m(self, prompt, ident, parent, password)\u001b[0m\n\u001b[0;32m   1217\u001b[0m             \u001b[1;32mexcept\u001b[0m \u001b[0mKeyboardInterrupt\u001b[0m\u001b[1;33m:\u001b[0m\u001b[1;33m\u001b[0m\u001b[1;33m\u001b[0m\u001b[0m\n\u001b[0;32m   1218\u001b[0m                 \u001b[1;31m# re-raise KeyboardInterrupt, to truncate traceback\u001b[0m\u001b[1;33m\u001b[0m\u001b[1;33m\u001b[0m\u001b[0m\n\u001b[1;32m-> 1219\u001b[1;33m                 \u001b[1;32mraise\u001b[0m \u001b[0mKeyboardInterrupt\u001b[0m\u001b[1;33m(\u001b[0m\u001b[1;34m\"Interrupted by user\"\u001b[0m\u001b[1;33m)\u001b[0m \u001b[1;32mfrom\u001b[0m \u001b[1;32mNone\u001b[0m\u001b[1;33m\u001b[0m\u001b[1;33m\u001b[0m\u001b[0m\n\u001b[0m\u001b[0;32m   1220\u001b[0m             \u001b[1;32mexcept\u001b[0m \u001b[0mException\u001b[0m\u001b[1;33m:\u001b[0m\u001b[1;33m\u001b[0m\u001b[1;33m\u001b[0m\u001b[0m\n\u001b[0;32m   1221\u001b[0m                 \u001b[0mself\u001b[0m\u001b[1;33m.\u001b[0m\u001b[0mlog\u001b[0m\u001b[1;33m.\u001b[0m\u001b[0mwarning\u001b[0m\u001b[1;33m(\u001b[0m\u001b[1;34m\"Invalid Message:\"\u001b[0m\u001b[1;33m,\u001b[0m \u001b[0mexc_info\u001b[0m\u001b[1;33m=\u001b[0m\u001b[1;32mTrue\u001b[0m\u001b[1;33m)\u001b[0m\u001b[1;33m\u001b[0m\u001b[1;33m\u001b[0m\u001b[0m\n",
      "\u001b[1;31mKeyboardInterrupt\u001b[0m: Interrupted by user"
     ]
    }
   ],
   "source": [
    "CoffeeCompass()"
   ]
  },
  {
   "cell_type": "code",
   "execution_count": null,
   "id": "779e8a53",
   "metadata": {},
   "outputs": [],
   "source": [
    "# scratchpad/notes:\n",
    "\n",
    "# possible names: RoastWise, BrewSavant, CoffeeHero\n",
    "\n",
    "# programme starts, user gets three options:\n",
    "# 1. random (something along the lines of \"I'm feeling lucky\")\n",
    "# 2. top 5 best coffees (either based on rating or lowest price)\n",
    "# 3. custom selection:\n",
    " # - First ask the user for three things that they value in a coffee (use this to filter the data)\n",
    " # - Ask the user to give their preferences on the following four categories: roast, origin, price and rating"
   ]
  }
 ],
 "metadata": {
  "kernelspec": {
   "display_name": "Python 3 (ipykernel)",
   "language": "python",
   "name": "python3"
  },
  "language_info": {
   "codemirror_mode": {
    "name": "ipython",
    "version": 3
   },
   "file_extension": ".py",
   "mimetype": "text/x-python",
   "name": "python",
   "nbconvert_exporter": "python",
   "pygments_lexer": "ipython3",
   "version": "3.9.13"
  }
 },
 "nbformat": 4,
 "nbformat_minor": 5
}
