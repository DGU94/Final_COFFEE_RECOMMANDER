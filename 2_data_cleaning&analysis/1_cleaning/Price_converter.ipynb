{
 "cells": [
  {
   "cell_type": "markdown",
   "id": "7ab8eed5",
   "metadata": {},
   "source": [
    "Converting the price and the units into € / 100 gramms"
   ]
  },
  {
   "cell_type": "code",
   "execution_count": 38,
   "id": "8c435fa1",
   "metadata": {
    "scrolled": true
   },
   "outputs": [],
   "source": [
    "import pandas as pd\n",
    "import numpy as np\n",
    "\n",
    "feb = pd.read_csv('/Users/david/Documents/GitHub/Final_project_DGU_LDU_COFFEE/2_data_cleaning&analysis/1_cleaning/cleaned_coffee_df.csv')\n",
    "\n",
    "price = feb['est_price']\n",
    "price = pd.DataFrame(price)\n",
    "price['est_price'] = feb['est_price']\n",
    "price['blind_assessment'] = feb['blind_assessment'] "
   ]
  },
  {
   "cell_type": "markdown",
   "id": "d6220be1",
   "metadata": {},
   "source": [
    "We move in a new column everything after the '/' in a new column"
   ]
  },
  {
   "cell_type": "code",
   "execution_count": 37,
   "id": "4aa5232d",
   "metadata": {},
   "outputs": [],
   "source": [
    "split_values = price['est_price'].str.split('/')\n",
    "# Create a new column 'unit' with the second part of the split values\n",
    "price['after_slash'] = split_values.str[1]"
   ]
  },
  {
   "cell_type": "markdown",
   "id": "57cf6c71",
   "metadata": {},
   "source": [
    "We move in a new column everything before the '/' in a new column"
   ]
  },
  {
   "cell_type": "code",
   "execution_count": 3,
   "id": "47e6a56b",
   "metadata": {},
   "outputs": [],
   "source": [
    "price['before_slash'] = price['est_price'].apply(lambda x: x.split('/')[0])"
   ]
  },
  {
   "cell_type": "markdown",
   "id": "1a77368f",
   "metadata": {},
   "source": [
    "We move in a new column everything before the '/' in a new column"
   ]
  },
  {
   "cell_type": "code",
   "execution_count": 4,
   "id": "c557594d",
   "metadata": {},
   "outputs": [],
   "source": [
    "price['before_DOL'] = price['est_price'].apply(lambda x: x.split('$')[0])"
   ]
  },
  {
   "cell_type": "code",
   "execution_count": 5,
   "id": "80740410",
   "metadata": {
    "scrolled": true
   },
   "outputs": [],
   "source": [
    "#We remove the currency symbol\n",
    "split_values = price['before_slash'].str.split('$')\n",
    "\n",
    "# Create a new column 'price_new' with the second part of the split values\n",
    "price['rem_D'] = split_values.str[1]"
   ]
  },
  {
   "cell_type": "code",
   "execution_count": 6,
   "id": "ea12a7ca",
   "metadata": {},
   "outputs": [],
   "source": [
    "replace_dict = {'NT': '', '.': ','}\n",
    "price['rem_D'] = price['rem_D'].replace(replace_dict)"
   ]
  },
  {
   "cell_type": "code",
   "execution_count": 7,
   "id": "579a4095",
   "metadata": {},
   "outputs": [
    {
     "data": {
      "text/plain": [
       "'NT 700'"
      ]
     },
     "execution_count": 7,
     "metadata": {},
     "output_type": "execute_result"
    }
   ],
   "source": [
    "price.loc[1893, 'rem_D']"
   ]
  },
  {
   "cell_type": "code",
   "execution_count": 8,
   "id": "e5094215",
   "metadata": {},
   "outputs": [],
   "source": [
    "#One string is still reminding :\n",
    "price.loc[1893, 'rem_D'] = price.loc[1893, 'rem_D'].replace('NT', '', 1893)"
   ]
  },
  {
   "cell_type": "code",
   "execution_count": 9,
   "id": "ed33175a",
   "metadata": {},
   "outputs": [
    {
     "data": {
      "text/plain": [
       "dtype('O')"
      ]
     },
     "execution_count": 9,
     "metadata": {},
     "output_type": "execute_result"
    }
   ],
   "source": [
    "price['rem_D'].dtypes"
   ]
  },
  {
   "cell_type": "code",
   "execution_count": 10,
   "id": "852cfec3",
   "metadata": {},
   "outputs": [],
   "source": [
    "price['rem_D'] = price['rem_D'].str.strip()"
   ]
  },
  {
   "cell_type": "code",
   "execution_count": 11,
   "id": "41e8d2ee",
   "metadata": {},
   "outputs": [
    {
     "data": {
      "text/html": [
       "<div>\n",
       "<style scoped>\n",
       "    .dataframe tbody tr th:only-of-type {\n",
       "        vertical-align: middle;\n",
       "    }\n",
       "\n",
       "    .dataframe tbody tr th {\n",
       "        vertical-align: top;\n",
       "    }\n",
       "\n",
       "    .dataframe thead th {\n",
       "        text-align: right;\n",
       "    }\n",
       "</style>\n",
       "<table border=\"1\" class=\"dataframe\">\n",
       "  <thead>\n",
       "    <tr style=\"text-align: right;\">\n",
       "      <th></th>\n",
       "      <th>est_price</th>\n",
       "      <th>blind_assessment</th>\n",
       "      <th>after_slash</th>\n",
       "      <th>before_slash</th>\n",
       "      <th>before_DOL</th>\n",
       "      <th>rem_D</th>\n",
       "    </tr>\n",
       "  </thead>\n",
       "  <tbody>\n",
       "    <tr>\n",
       "      <th>170</th>\n",
       "      <td>$NT$520/200g</td>\n",
       "      <td>Resonantly floral, fruit-driven. Narcissus, po...</td>\n",
       "      <td>200g</td>\n",
       "      <td>$NT$520</td>\n",
       "      <td></td>\n",
       "      <td></td>\n",
       "    </tr>\n",
       "    <tr>\n",
       "      <th>171</th>\n",
       "      <td>$NT$1000/200g</td>\n",
       "      <td>Sweet-tart, gently herbaceous. Dried apricot, ...</td>\n",
       "      <td>200g</td>\n",
       "      <td>$NT$1000</td>\n",
       "      <td></td>\n",
       "      <td></td>\n",
       "    </tr>\n",
       "  </tbody>\n",
       "</table>\n",
       "</div>"
      ],
      "text/plain": [
       "         est_price                                   blind_assessment  \\\n",
       "170   $NT$520/200g  Resonantly floral, fruit-driven. Narcissus, po...   \n",
       "171  $NT$1000/200g  Sweet-tart, gently herbaceous. Dried apricot, ...   \n",
       "\n",
       "    after_slash before_slash before_DOL rem_D  \n",
       "170        200g      $NT$520                   \n",
       "171        200g     $NT$1000                   "
      ]
     },
     "execution_count": 11,
     "metadata": {},
     "output_type": "execute_result"
    }
   ],
   "source": [
    "# We identify the empty value which provide a \"\"\n",
    "empty_rows = price[price['rem_D'] == '']\n",
    "empty_rows"
   ]
  },
  {
   "cell_type": "code",
   "execution_count": 12,
   "id": "a4908616",
   "metadata": {},
   "outputs": [],
   "source": [
    "price.loc[171, 'rem_D'] = 1000\n",
    "price.loc[170, 'rem_D'] = 520"
   ]
  },
  {
   "cell_type": "code",
   "execution_count": 13,
   "id": "f439b6b4",
   "metadata": {},
   "outputs": [],
   "source": [
    "price.dropna(subset=['rem_D'], inplace=True)"
   ]
  },
  {
   "cell_type": "code",
   "execution_count": 14,
   "id": "773a8ba9",
   "metadata": {},
   "outputs": [],
   "source": [
    "price['rem_D'] = price['rem_D'].str.replace(',', '')"
   ]
  },
  {
   "cell_type": "code",
   "execution_count": 15,
   "id": "39378baf",
   "metadata": {},
   "outputs": [],
   "source": [
    "price.loc[217, 'rem_D'] = price.loc[217, 'rem_D'].replace(',', '', 217)\n",
    "price.loc[219, 'rem_D'] = price.loc[219, 'rem_D'].replace(',', '', 219)"
   ]
  },
  {
   "cell_type": "code",
   "execution_count": 16,
   "id": "7a28af3b",
   "metadata": {},
   "outputs": [
    {
     "data": {
      "text/plain": [
       "'1500'"
      ]
     },
     "execution_count": 16,
     "metadata": {},
     "output_type": "execute_result"
    }
   ],
   "source": [
    "price.loc[217, 'rem_D']"
   ]
  },
  {
   "cell_type": "code",
   "execution_count": 17,
   "id": "4cb706aa",
   "metadata": {},
   "outputs": [
    {
     "data": {
      "text/plain": [
       "'1500'"
      ]
     },
     "execution_count": 17,
     "metadata": {},
     "output_type": "execute_result"
    }
   ],
   "source": [
    "price.loc[219, 'rem_D']"
   ]
  },
  {
   "cell_type": "markdown",
   "id": "75646903",
   "metadata": {},
   "source": [
    "We will move the rest of the String from 'rem_D' to 'before_DOL'"
   ]
  },
  {
   "cell_type": "code",
   "execution_count": 18,
   "id": "c9cd010c",
   "metadata": {},
   "outputs": [],
   "source": [
    "price['rem_D'] = pd.to_numeric(price['rem_D'], errors='coerce')"
   ]
  },
  {
   "cell_type": "code",
   "execution_count": 19,
   "id": "a9fa6e89",
   "metadata": {},
   "outputs": [],
   "source": [
    "price['rem_D'] = price['rem_D'].astype(float)"
   ]
  },
  {
   "cell_type": "code",
   "execution_count": 20,
   "id": "997000eb",
   "metadata": {},
   "outputs": [],
   "source": [
    "# For CAD Canadien Dollar\n",
    "for index, row in price.iterrows():\n",
    "    if isinstance(row['rem_D'], float):\n",
    "        # Handle NaN or other float values as needed\n",
    "        continue\n",
    "\n",
    "    if 'CAD' in row['rem_D']:\n",
    "        row['before_DOL'] += 'CAD '\n",
    "        row['rem_D'] = row['rem_D'].replace('CAD', '').strip()\n",
    "# Same for Laotian Kip Currency\n",
    "\n",
    "for index, row in price.iterrows():\n",
    "    if isinstance(row['rem_D'], float):\n",
    "        # Handle NaN or other float values as needed\n",
    "        continue\n",
    "\n",
    "    if 'LAK' in row['rem_D']:\n",
    "        row['before_DOL'] += 'LAK '\n",
    "        row['rem_D'] = row['rem_D'].replace('LAK', '').strip()\n",
    "        \n",
    "# Same for New Taiwan dollar Currency\n",
    "\n",
    "for index, row in price.iterrows():\n",
    "    if isinstance(row['rem_D'], float):\n",
    "        # Handle NaN or other float values as needed\n",
    "        continue\n",
    "\n",
    "    if 'NTD' in row['rem_D']:\n",
    "        row['before_DOL'] += 'NTD '\n",
    "        row['rem_D'] = row['rem_D'].replace('NTD', '').strip()"
   ]
  },
  {
   "cell_type": "code",
   "execution_count": 21,
   "id": "4f4b2b4e",
   "metadata": {},
   "outputs": [
    {
     "data": {
      "text/plain": [
       "7"
      ]
     },
     "execution_count": 21,
     "metadata": {},
     "output_type": "execute_result"
    }
   ],
   "source": [
    "#To simplify the database we drop the rest of the record which lack of informations\n",
    "missing_count = price['rem_D'].isna().sum()\n",
    "missing_count"
   ]
  },
  {
   "cell_type": "code",
   "execution_count": 22,
   "id": "74f9f431",
   "metadata": {},
   "outputs": [],
   "source": [
    "price.dropna(subset=['rem_D'], inplace=True)"
   ]
  },
  {
   "cell_type": "markdown",
   "id": "2a6101a8",
   "metadata": {},
   "source": [
    "**Currency convertion into EURO**"
   ]
  },
  {
   "cell_type": "code",
   "execution_count": 23,
   "id": "5688d727",
   "metadata": {},
   "outputs": [
    {
     "data": {
      "text/plain": [
       "array(['', 'NT ', 'NT', 'CAD ', 'HKD ', 'HK ', 'US ', 'USD ', 'IDR ',\n",
       "       'NTD ', 'AED ', 'AUD ', 'KRW ', 'THB ', 'RMB ', 'CNY ', 'TWD ',\n",
       "       'KRW', 'NTD', 'Price: '], dtype=object)"
      ]
     },
     "execution_count": 23,
     "metadata": {},
     "output_type": "execute_result"
    }
   ],
   "source": [
    "# First, let´s check the uniques currency\n",
    "price['before_DOL'].unique()"
   ]
  },
  {
   "cell_type": "code",
   "execution_count": 24,
   "id": "aaebe2dc",
   "metadata": {},
   "outputs": [],
   "source": [
    "#We create a column named 'Euro'\n",
    "price['Euro'] = pd.Series('', index=price.index)"
   ]
  },
  {
   "cell_type": "code",
   "execution_count": 25,
   "id": "1e2a6ae0",
   "metadata": {},
   "outputs": [],
   "source": [
    "# converting the US Dollar in price['Euro']\n",
    "# US Dollar to EURO (0,95): 'US ', 'USD ', 'Price'\n",
    "#price.loc[price['before_DOL'].str.contains('US\\s*|USD\\s*|Price\\s*', regex=True), 'Euro'] = price['rem_D'] * 0.95\n",
    "price['Euro'] = price.apply(lambda x: x['rem_D']*0.95 if pd.isna(x['before_DOL']) or x['before_DOL'] == '' else x['Euro'], axis=1)"
   ]
  },
  {
   "cell_type": "code",
   "execution_count": 26,
   "id": "3e592e2a",
   "metadata": {},
   "outputs": [],
   "source": [
    "# New Taiwan dollar to Euro (0,031 Euro) :'NT ', 'NT', 'NTD ', 'NTD', 'TWD'\n",
    "price.loc[price['before_DOL'].str.contains('NT\\s*|NTD\\s*|TWD\\s*', regex=True), 'Euro'] = price['rem_D'] * 0.031\n",
    "\n",
    "# CAD dollar to Euro (0.69): 'CAD '\n",
    "price.loc[price['before_DOL'].str.contains('CAD ', regex=True), 'Euro'] = price['rem_D'] * 0.69\n",
    "\n",
    "# Hong Kong Dollar to Euro (0,12): 'HKD ','HK '\n",
    "price.loc[price['before_DOL'].str.contains('HKD\\s*|HK\\s*', regex=True), 'Euro'] = price['rem_D'] * 0.12\n",
    "\n",
    "# Indonesian Rupiah to Euro (0,000061):'IDR ',\n",
    "price.loc[price['before_DOL'].str.contains('IDR\\s*', regex=True), 'Euro'] = price['rem_D'] * 0.000061\n",
    "\n",
    "# United Arab Emirates Dirham to Euro (0,26):'AED ',\n",
    "price.loc[price['before_DOL'].str.contains('AED\\s*', regex=True), 'Euro'] = price['rem_D'] * 0.26\n",
    "\n",
    "# Australian Dollar to Euro (0,63):'AUD ',\n",
    "price.loc[price['before_DOL'].str.contains('AUD\\s*', regex=True), 'Euro'] = price['rem_D'] * 0.63\n",
    "\n",
    "# South Korean won to Euro (0,00072):'KRW ',\n",
    "price.loc[price['before_DOL'].str.contains('KRW\\s*', regex=True), 'Euro'] = price['rem_D'] * 0.00072\n",
    "\n",
    "# Thai Baht to Euro (0,027):'THB ',\n",
    "price.loc[price['before_DOL'].str.contains('THB\\s*', regex=True), 'Euro'] = price['rem_D'] * 0.027\n",
    "\n",
    "# Chinese Yuan to Euro (0,14):'RMB ', 'CNY'\n",
    "price.loc[price['before_DOL'].str.contains('RMB\\s*|CNY\\s*', regex=True), 'Euro'] = price['rem_D'] * 0.14"
   ]
  },
  {
   "cell_type": "markdown",
   "id": "828a97d5",
   "metadata": {},
   "source": [
    "**Weight units convertion into 100 gramms**"
   ]
  },
  {
   "cell_type": "code",
   "execution_count": 28,
   "id": "8037f5ef",
   "metadata": {},
   "outputs": [],
   "source": [
    "#We create a column named '100_gr_EUR'\n",
    "price['100_gr_EUR'] = pd.Series('', index=price.index)"
   ]
  },
  {
   "cell_type": "code",
   "execution_count": 30,
   "id": "1dd03392",
   "metadata": {},
   "outputs": [
    {
     "data": {
      "text/plain": [
       "4"
      ]
     },
     "execution_count": 30,
     "metadata": {},
     "output_type": "execute_result"
    }
   ],
   "source": [
    "#We look for missing value and drop them\n",
    "missings_count = price['after_slash'].isna().sum()\n",
    "missings_count"
   ]
  },
  {
   "cell_type": "code",
   "execution_count": 36,
   "id": "935cc520",
   "metadata": {},
   "outputs": [],
   "source": [
    "price.dropna(subset=['after_slash'], inplace=True)"
   ]
  },
  {
   "cell_type": "code",
   "execution_count": 29,
   "id": "7adb2b74",
   "metadata": {},
   "outputs": [
    {
     "data": {
      "text/plain": [
       "<bound method Series.info of 0        \n",
       "1        \n",
       "2        \n",
       "3        \n",
       "4        \n",
       "       ..\n",
       "4944     \n",
       "4945     \n",
       "4946     \n",
       "4947     \n",
       "4948     \n",
       "Name: 100_gr_EUR, Length: 4874, dtype: object>"
      ]
     },
     "execution_count": 29,
     "metadata": {},
     "output_type": "execute_result"
    }
   ],
   "source": [
    "price['100_gr_EUR'].info"
   ]
  },
  {
   "cell_type": "code",
   "execution_count": 42,
   "id": "3c3c5128",
   "metadata": {},
   "outputs": [],
   "source": [
    "price.to_csv('Price_weight_cleaned.csv')"
   ]
  },
  {
   "cell_type": "code",
   "execution_count": 32,
   "id": "509ab9b5",
   "metadata": {},
   "outputs": [
    {
     "ename": "TypeError",
     "evalue": "argument of type 'float' is not iterable",
     "output_type": "error",
     "traceback": [
      "\u001b[0;31m---------------------------------------------------------------------------\u001b[0m",
      "\u001b[0;31mTypeError\u001b[0m                                 Traceback (most recent call last)",
      "\u001b[0;32m/var/folders/d0/kyjzvmwn3fdgc5m0t8snt0nm0000gn/T/ipykernel_30355/1632766963.py\u001b[0m in \u001b[0;36m<module>\u001b[0;34m\u001b[0m\n\u001b[0;32m----> 1\u001b[0;31m \u001b[0mprice\u001b[0m\u001b[0;34m[\u001b[0m\u001b[0;34m'100_gr_EUR'\u001b[0m\u001b[0;34m]\u001b[0m \u001b[0;34m=\u001b[0m \u001b[0mprice\u001b[0m\u001b[0;34m.\u001b[0m\u001b[0mapply\u001b[0m\u001b[0;34m(\u001b[0m\u001b[0;32mlambda\u001b[0m \u001b[0mrow\u001b[0m\u001b[0;34m:\u001b[0m \u001b[0mrow\u001b[0m\u001b[0;34m[\u001b[0m\u001b[0;34m'Euro'\u001b[0m\u001b[0;34m]\u001b[0m\u001b[0;34m*\u001b[0m\u001b[0;36m1.67\u001b[0m \u001b[0;32mif\u001b[0m \u001b[0many\u001b[0m\u001b[0;34m(\u001b[0m\u001b[0msubstring\u001b[0m \u001b[0;32min\u001b[0m \u001b[0mrow\u001b[0m\u001b[0;34m[\u001b[0m\u001b[0;34m'after_slash'\u001b[0m\u001b[0;34m]\u001b[0m \u001b[0;32mfor\u001b[0m \u001b[0msubstring\u001b[0m \u001b[0;32min\u001b[0m \u001b[0;34m[\u001b[0m\u001b[0;34m'60 grams'\u001b[0m\u001b[0;34m]\u001b[0m\u001b[0;34m)\u001b[0m \u001b[0;32melse\u001b[0m \u001b[0mrow\u001b[0m\u001b[0;34m[\u001b[0m\u001b[0;34m'100_gr_EUR'\u001b[0m\u001b[0;34m]\u001b[0m\u001b[0;34m,\u001b[0m \u001b[0maxis\u001b[0m\u001b[0;34m=\u001b[0m\u001b[0;36m1\u001b[0m\u001b[0;34m)\u001b[0m\u001b[0;34m\u001b[0m\u001b[0;34m\u001b[0m\u001b[0m\n\u001b[0m",
      "\u001b[0;32m~/opt/anaconda3/lib/python3.9/site-packages/pandas/core/frame.py\u001b[0m in \u001b[0;36mapply\u001b[0;34m(self, func, axis, raw, result_type, args, **kwargs)\u001b[0m\n\u001b[1;32m   8846\u001b[0m             \u001b[0mkwargs\u001b[0m\u001b[0;34m=\u001b[0m\u001b[0mkwargs\u001b[0m\u001b[0;34m,\u001b[0m\u001b[0;34m\u001b[0m\u001b[0;34m\u001b[0m\u001b[0m\n\u001b[1;32m   8847\u001b[0m         )\n\u001b[0;32m-> 8848\u001b[0;31m         \u001b[0;32mreturn\u001b[0m \u001b[0mop\u001b[0m\u001b[0;34m.\u001b[0m\u001b[0mapply\u001b[0m\u001b[0;34m(\u001b[0m\u001b[0;34m)\u001b[0m\u001b[0;34m.\u001b[0m\u001b[0m__finalize__\u001b[0m\u001b[0;34m(\u001b[0m\u001b[0mself\u001b[0m\u001b[0;34m,\u001b[0m \u001b[0mmethod\u001b[0m\u001b[0;34m=\u001b[0m\u001b[0;34m\"apply\"\u001b[0m\u001b[0;34m)\u001b[0m\u001b[0;34m\u001b[0m\u001b[0;34m\u001b[0m\u001b[0m\n\u001b[0m\u001b[1;32m   8849\u001b[0m \u001b[0;34m\u001b[0m\u001b[0m\n\u001b[1;32m   8850\u001b[0m     def applymap(\n",
      "\u001b[0;32m~/opt/anaconda3/lib/python3.9/site-packages/pandas/core/apply.py\u001b[0m in \u001b[0;36mapply\u001b[0;34m(self)\u001b[0m\n\u001b[1;32m    731\u001b[0m             \u001b[0;32mreturn\u001b[0m \u001b[0mself\u001b[0m\u001b[0;34m.\u001b[0m\u001b[0mapply_raw\u001b[0m\u001b[0;34m(\u001b[0m\u001b[0;34m)\u001b[0m\u001b[0;34m\u001b[0m\u001b[0;34m\u001b[0m\u001b[0m\n\u001b[1;32m    732\u001b[0m \u001b[0;34m\u001b[0m\u001b[0m\n\u001b[0;32m--> 733\u001b[0;31m         \u001b[0;32mreturn\u001b[0m \u001b[0mself\u001b[0m\u001b[0;34m.\u001b[0m\u001b[0mapply_standard\u001b[0m\u001b[0;34m(\u001b[0m\u001b[0;34m)\u001b[0m\u001b[0;34m\u001b[0m\u001b[0;34m\u001b[0m\u001b[0m\n\u001b[0m\u001b[1;32m    734\u001b[0m \u001b[0;34m\u001b[0m\u001b[0m\n\u001b[1;32m    735\u001b[0m     \u001b[0;32mdef\u001b[0m \u001b[0magg\u001b[0m\u001b[0;34m(\u001b[0m\u001b[0mself\u001b[0m\u001b[0;34m)\u001b[0m\u001b[0;34m:\u001b[0m\u001b[0;34m\u001b[0m\u001b[0;34m\u001b[0m\u001b[0m\n",
      "\u001b[0;32m~/opt/anaconda3/lib/python3.9/site-packages/pandas/core/apply.py\u001b[0m in \u001b[0;36mapply_standard\u001b[0;34m(self)\u001b[0m\n\u001b[1;32m    855\u001b[0m \u001b[0;34m\u001b[0m\u001b[0m\n\u001b[1;32m    856\u001b[0m     \u001b[0;32mdef\u001b[0m \u001b[0mapply_standard\u001b[0m\u001b[0;34m(\u001b[0m\u001b[0mself\u001b[0m\u001b[0;34m)\u001b[0m\u001b[0;34m:\u001b[0m\u001b[0;34m\u001b[0m\u001b[0;34m\u001b[0m\u001b[0m\n\u001b[0;32m--> 857\u001b[0;31m         \u001b[0mresults\u001b[0m\u001b[0;34m,\u001b[0m \u001b[0mres_index\u001b[0m \u001b[0;34m=\u001b[0m \u001b[0mself\u001b[0m\u001b[0;34m.\u001b[0m\u001b[0mapply_series_generator\u001b[0m\u001b[0;34m(\u001b[0m\u001b[0;34m)\u001b[0m\u001b[0;34m\u001b[0m\u001b[0;34m\u001b[0m\u001b[0m\n\u001b[0m\u001b[1;32m    858\u001b[0m \u001b[0;34m\u001b[0m\u001b[0m\n\u001b[1;32m    859\u001b[0m         \u001b[0;31m# wrap results\u001b[0m\u001b[0;34m\u001b[0m\u001b[0;34m\u001b[0m\u001b[0m\n",
      "\u001b[0;32m~/opt/anaconda3/lib/python3.9/site-packages/pandas/core/apply.py\u001b[0m in \u001b[0;36mapply_series_generator\u001b[0;34m(self)\u001b[0m\n\u001b[1;32m    871\u001b[0m             \u001b[0;32mfor\u001b[0m \u001b[0mi\u001b[0m\u001b[0;34m,\u001b[0m \u001b[0mv\u001b[0m \u001b[0;32min\u001b[0m \u001b[0menumerate\u001b[0m\u001b[0;34m(\u001b[0m\u001b[0mseries_gen\u001b[0m\u001b[0;34m)\u001b[0m\u001b[0;34m:\u001b[0m\u001b[0;34m\u001b[0m\u001b[0;34m\u001b[0m\u001b[0m\n\u001b[1;32m    872\u001b[0m                 \u001b[0;31m# ignore SettingWithCopy here in case the user mutates\u001b[0m\u001b[0;34m\u001b[0m\u001b[0;34m\u001b[0m\u001b[0m\n\u001b[0;32m--> 873\u001b[0;31m                 \u001b[0mresults\u001b[0m\u001b[0;34m[\u001b[0m\u001b[0mi\u001b[0m\u001b[0;34m]\u001b[0m \u001b[0;34m=\u001b[0m \u001b[0mself\u001b[0m\u001b[0;34m.\u001b[0m\u001b[0mf\u001b[0m\u001b[0;34m(\u001b[0m\u001b[0mv\u001b[0m\u001b[0;34m)\u001b[0m\u001b[0;34m\u001b[0m\u001b[0;34m\u001b[0m\u001b[0m\n\u001b[0m\u001b[1;32m    874\u001b[0m                 \u001b[0;32mif\u001b[0m \u001b[0misinstance\u001b[0m\u001b[0;34m(\u001b[0m\u001b[0mresults\u001b[0m\u001b[0;34m[\u001b[0m\u001b[0mi\u001b[0m\u001b[0;34m]\u001b[0m\u001b[0;34m,\u001b[0m \u001b[0mABCSeries\u001b[0m\u001b[0;34m)\u001b[0m\u001b[0;34m:\u001b[0m\u001b[0;34m\u001b[0m\u001b[0;34m\u001b[0m\u001b[0m\n\u001b[1;32m    875\u001b[0m                     \u001b[0;31m# If we have a view on v, we need to make a copy because\u001b[0m\u001b[0;34m\u001b[0m\u001b[0;34m\u001b[0m\u001b[0m\n",
      "\u001b[0;32m/var/folders/d0/kyjzvmwn3fdgc5m0t8snt0nm0000gn/T/ipykernel_30355/1632766963.py\u001b[0m in \u001b[0;36m<lambda>\u001b[0;34m(row)\u001b[0m\n\u001b[0;32m----> 1\u001b[0;31m \u001b[0mprice\u001b[0m\u001b[0;34m[\u001b[0m\u001b[0;34m'100_gr_EUR'\u001b[0m\u001b[0;34m]\u001b[0m \u001b[0;34m=\u001b[0m \u001b[0mprice\u001b[0m\u001b[0;34m.\u001b[0m\u001b[0mapply\u001b[0m\u001b[0;34m(\u001b[0m\u001b[0;32mlambda\u001b[0m \u001b[0mrow\u001b[0m\u001b[0;34m:\u001b[0m \u001b[0mrow\u001b[0m\u001b[0;34m[\u001b[0m\u001b[0;34m'Euro'\u001b[0m\u001b[0;34m]\u001b[0m\u001b[0;34m*\u001b[0m\u001b[0;36m1.67\u001b[0m \u001b[0;32mif\u001b[0m \u001b[0many\u001b[0m\u001b[0;34m(\u001b[0m\u001b[0msubstring\u001b[0m \u001b[0;32min\u001b[0m \u001b[0mrow\u001b[0m\u001b[0;34m[\u001b[0m\u001b[0;34m'after_slash'\u001b[0m\u001b[0;34m]\u001b[0m \u001b[0;32mfor\u001b[0m \u001b[0msubstring\u001b[0m \u001b[0;32min\u001b[0m \u001b[0;34m[\u001b[0m\u001b[0;34m'60 grams'\u001b[0m\u001b[0;34m]\u001b[0m\u001b[0;34m)\u001b[0m \u001b[0;32melse\u001b[0m \u001b[0mrow\u001b[0m\u001b[0;34m[\u001b[0m\u001b[0;34m'100_gr_EUR'\u001b[0m\u001b[0;34m]\u001b[0m\u001b[0;34m,\u001b[0m \u001b[0maxis\u001b[0m\u001b[0;34m=\u001b[0m\u001b[0;36m1\u001b[0m\u001b[0;34m)\u001b[0m\u001b[0;34m\u001b[0m\u001b[0;34m\u001b[0m\u001b[0m\n\u001b[0m",
      "\u001b[0;32m/var/folders/d0/kyjzvmwn3fdgc5m0t8snt0nm0000gn/T/ipykernel_30355/1632766963.py\u001b[0m in \u001b[0;36m<genexpr>\u001b[0;34m(.0)\u001b[0m\n\u001b[0;32m----> 1\u001b[0;31m \u001b[0mprice\u001b[0m\u001b[0;34m[\u001b[0m\u001b[0;34m'100_gr_EUR'\u001b[0m\u001b[0;34m]\u001b[0m \u001b[0;34m=\u001b[0m \u001b[0mprice\u001b[0m\u001b[0;34m.\u001b[0m\u001b[0mapply\u001b[0m\u001b[0;34m(\u001b[0m\u001b[0;32mlambda\u001b[0m \u001b[0mrow\u001b[0m\u001b[0;34m:\u001b[0m \u001b[0mrow\u001b[0m\u001b[0;34m[\u001b[0m\u001b[0;34m'Euro'\u001b[0m\u001b[0;34m]\u001b[0m\u001b[0;34m*\u001b[0m\u001b[0;36m1.67\u001b[0m \u001b[0;32mif\u001b[0m \u001b[0many\u001b[0m\u001b[0;34m(\u001b[0m\u001b[0msubstring\u001b[0m \u001b[0;32min\u001b[0m \u001b[0mrow\u001b[0m\u001b[0;34m[\u001b[0m\u001b[0;34m'after_slash'\u001b[0m\u001b[0;34m]\u001b[0m \u001b[0;32mfor\u001b[0m \u001b[0msubstring\u001b[0m \u001b[0;32min\u001b[0m \u001b[0;34m[\u001b[0m\u001b[0;34m'60 grams'\u001b[0m\u001b[0;34m]\u001b[0m\u001b[0;34m)\u001b[0m \u001b[0;32melse\u001b[0m \u001b[0mrow\u001b[0m\u001b[0;34m[\u001b[0m\u001b[0;34m'100_gr_EUR'\u001b[0m\u001b[0;34m]\u001b[0m\u001b[0;34m,\u001b[0m \u001b[0maxis\u001b[0m\u001b[0;34m=\u001b[0m\u001b[0;36m1\u001b[0m\u001b[0;34m)\u001b[0m\u001b[0;34m\u001b[0m\u001b[0;34m\u001b[0m\u001b[0m\n\u001b[0m",
      "\u001b[0;31mTypeError\u001b[0m: argument of type 'float' is not iterable"
     ]
    }
   ],
   "source": [
    "price['100_gr_EUR'] = price.apply(lambda row: row['Euro']*1.67 if any(substring in row['after_slash'] for substring in ['60 grams']) else row['100_gr_EUR'], axis=1)"
   ]
  },
  {
   "cell_type": "code",
   "execution_count": 33,
   "id": "f393a3b5",
   "metadata": {
    "scrolled": true
   },
   "outputs": [
    {
     "ename": "TypeError",
     "evalue": "can't multiply sequence by non-int of type 'float'",
     "output_type": "error",
     "traceback": [
      "\u001b[0;31m---------------------------------------------------------------------------\u001b[0m",
      "\u001b[0;31mTypeError\u001b[0m                                 Traceback (most recent call last)",
      "\u001b[0;32m/var/folders/d0/kyjzvmwn3fdgc5m0t8snt0nm0000gn/T/ipykernel_30355/2196466354.py\u001b[0m in \u001b[0;36m<module>\u001b[0;34m\u001b[0m\n\u001b[1;32m      1\u001b[0m \u001b[0;31m# , 8 ounces,' 8 ounces',' 8 oz.', 8 oz., 227 grams , 227g, ' 227 grams'\u001b[0m\u001b[0;34m\u001b[0m\u001b[0;34m\u001b[0m\u001b[0m\n\u001b[0;32m----> 2\u001b[0;31m \u001b[0mprice\u001b[0m\u001b[0;34m[\u001b[0m\u001b[0;34m'100_gr_EUR'\u001b[0m\u001b[0;34m]\u001b[0m \u001b[0;34m=\u001b[0m \u001b[0mprice\u001b[0m\u001b[0;34m.\u001b[0m\u001b[0mapply\u001b[0m\u001b[0;34m(\u001b[0m\u001b[0;32mlambda\u001b[0m \u001b[0mrow\u001b[0m\u001b[0;34m:\u001b[0m \u001b[0mrow\u001b[0m\u001b[0;34m[\u001b[0m\u001b[0;34m'Euro'\u001b[0m\u001b[0;34m]\u001b[0m\u001b[0;34m*\u001b[0m\u001b[0;36m0.44\u001b[0m \u001b[0;32mif\u001b[0m \u001b[0many\u001b[0m\u001b[0;34m(\u001b[0m\u001b[0msubstring\u001b[0m \u001b[0;32min\u001b[0m \u001b[0mrow\u001b[0m\u001b[0;34m[\u001b[0m\u001b[0;34m'after_slash'\u001b[0m\u001b[0;34m]\u001b[0m \u001b[0;32mfor\u001b[0m \u001b[0msubstring\u001b[0m \u001b[0;32min\u001b[0m \u001b[0;34m[\u001b[0m\u001b[0;34m'8 ounces'\u001b[0m\u001b[0;34m,\u001b[0m\u001b[0;34m'8-ounce'\u001b[0m\u001b[0;34m,\u001b[0m\u001b[0;34m'8 ounces'\u001b[0m\u001b[0;34m,\u001b[0m\u001b[0;34m'227 grams'\u001b[0m\u001b[0;34m,\u001b[0m\u001b[0;34m'227g'\u001b[0m\u001b[0;34m,\u001b[0m\u001b[0;34m'227 grams'\u001b[0m\u001b[0;34m,\u001b[0m\u001b[0;34m' 8 oz.'\u001b[0m\u001b[0;34m,\u001b[0m \u001b[0;34m'8 oz.'\u001b[0m\u001b[0;34m]\u001b[0m\u001b[0;34m)\u001b[0m \u001b[0;32melse\u001b[0m \u001b[0mrow\u001b[0m\u001b[0;34m[\u001b[0m\u001b[0;34m'100_gr_EUR'\u001b[0m\u001b[0;34m]\u001b[0m\u001b[0;34m,\u001b[0m \u001b[0maxis\u001b[0m\u001b[0;34m=\u001b[0m\u001b[0;36m1\u001b[0m\u001b[0;34m)\u001b[0m\u001b[0;34m\u001b[0m\u001b[0;34m\u001b[0m\u001b[0m\n\u001b[0m\u001b[1;32m      3\u001b[0m \u001b[0;34m\u001b[0m\u001b[0m\n\u001b[1;32m      4\u001b[0m \u001b[0;31m# 4 ounces , 4 ounces, 120 grams, 115 grams #WORK\u001b[0m\u001b[0;34m\u001b[0m\u001b[0;34m\u001b[0m\u001b[0m\n\u001b[1;32m      5\u001b[0m \u001b[0mprice\u001b[0m\u001b[0;34m[\u001b[0m\u001b[0;34m'100_gr_EUR'\u001b[0m\u001b[0;34m]\u001b[0m \u001b[0;34m=\u001b[0m \u001b[0mprice\u001b[0m\u001b[0;34m.\u001b[0m\u001b[0mapply\u001b[0m\u001b[0;34m(\u001b[0m\u001b[0;32mlambda\u001b[0m \u001b[0mrow\u001b[0m\u001b[0;34m:\u001b[0m \u001b[0mrow\u001b[0m\u001b[0;34m[\u001b[0m\u001b[0;34m'Euro'\u001b[0m\u001b[0;34m]\u001b[0m\u001b[0;34m*\u001b[0m\u001b[0;36m0.83\u001b[0m \u001b[0;32mif\u001b[0m \u001b[0many\u001b[0m\u001b[0;34m(\u001b[0m\u001b[0msubstring\u001b[0m \u001b[0;32min\u001b[0m \u001b[0mrow\u001b[0m\u001b[0;34m[\u001b[0m\u001b[0;34m'after_slash'\u001b[0m\u001b[0;34m]\u001b[0m \u001b[0;32mfor\u001b[0m \u001b[0msubstring\u001b[0m \u001b[0;32min\u001b[0m \u001b[0;34m[\u001b[0m\u001b[0;34m'4 ounces'\u001b[0m\u001b[0;34m,\u001b[0m\u001b[0;34m'4 ounces'\u001b[0m\u001b[0;34m,\u001b[0m\u001b[0;34m'120 grams'\u001b[0m\u001b[0;34m,\u001b[0m\u001b[0;34m'115 grams'\u001b[0m\u001b[0;34m]\u001b[0m\u001b[0;34m)\u001b[0m \u001b[0;32melse\u001b[0m \u001b[0mrow\u001b[0m\u001b[0;34m[\u001b[0m\u001b[0;34m'100_gr_EUR'\u001b[0m\u001b[0;34m]\u001b[0m\u001b[0;34m,\u001b[0m \u001b[0maxis\u001b[0m\u001b[0;34m=\u001b[0m\u001b[0;36m1\u001b[0m\u001b[0;34m)\u001b[0m\u001b[0;34m\u001b[0m\u001b[0;34m\u001b[0m\u001b[0m\n",
      "\u001b[0;32m~/opt/anaconda3/lib/python3.9/site-packages/pandas/core/frame.py\u001b[0m in \u001b[0;36mapply\u001b[0;34m(self, func, axis, raw, result_type, args, **kwargs)\u001b[0m\n\u001b[1;32m   8846\u001b[0m             \u001b[0mkwargs\u001b[0m\u001b[0;34m=\u001b[0m\u001b[0mkwargs\u001b[0m\u001b[0;34m,\u001b[0m\u001b[0;34m\u001b[0m\u001b[0;34m\u001b[0m\u001b[0m\n\u001b[1;32m   8847\u001b[0m         )\n\u001b[0;32m-> 8848\u001b[0;31m         \u001b[0;32mreturn\u001b[0m \u001b[0mop\u001b[0m\u001b[0;34m.\u001b[0m\u001b[0mapply\u001b[0m\u001b[0;34m(\u001b[0m\u001b[0;34m)\u001b[0m\u001b[0;34m.\u001b[0m\u001b[0m__finalize__\u001b[0m\u001b[0;34m(\u001b[0m\u001b[0mself\u001b[0m\u001b[0;34m,\u001b[0m \u001b[0mmethod\u001b[0m\u001b[0;34m=\u001b[0m\u001b[0;34m\"apply\"\u001b[0m\u001b[0;34m)\u001b[0m\u001b[0;34m\u001b[0m\u001b[0;34m\u001b[0m\u001b[0m\n\u001b[0m\u001b[1;32m   8849\u001b[0m \u001b[0;34m\u001b[0m\u001b[0m\n\u001b[1;32m   8850\u001b[0m     def applymap(\n",
      "\u001b[0;32m~/opt/anaconda3/lib/python3.9/site-packages/pandas/core/apply.py\u001b[0m in \u001b[0;36mapply\u001b[0;34m(self)\u001b[0m\n\u001b[1;32m    731\u001b[0m             \u001b[0;32mreturn\u001b[0m \u001b[0mself\u001b[0m\u001b[0;34m.\u001b[0m\u001b[0mapply_raw\u001b[0m\u001b[0;34m(\u001b[0m\u001b[0;34m)\u001b[0m\u001b[0;34m\u001b[0m\u001b[0;34m\u001b[0m\u001b[0m\n\u001b[1;32m    732\u001b[0m \u001b[0;34m\u001b[0m\u001b[0m\n\u001b[0;32m--> 733\u001b[0;31m         \u001b[0;32mreturn\u001b[0m \u001b[0mself\u001b[0m\u001b[0;34m.\u001b[0m\u001b[0mapply_standard\u001b[0m\u001b[0;34m(\u001b[0m\u001b[0;34m)\u001b[0m\u001b[0;34m\u001b[0m\u001b[0;34m\u001b[0m\u001b[0m\n\u001b[0m\u001b[1;32m    734\u001b[0m \u001b[0;34m\u001b[0m\u001b[0m\n\u001b[1;32m    735\u001b[0m     \u001b[0;32mdef\u001b[0m \u001b[0magg\u001b[0m\u001b[0;34m(\u001b[0m\u001b[0mself\u001b[0m\u001b[0;34m)\u001b[0m\u001b[0;34m:\u001b[0m\u001b[0;34m\u001b[0m\u001b[0;34m\u001b[0m\u001b[0m\n",
      "\u001b[0;32m~/opt/anaconda3/lib/python3.9/site-packages/pandas/core/apply.py\u001b[0m in \u001b[0;36mapply_standard\u001b[0;34m(self)\u001b[0m\n\u001b[1;32m    855\u001b[0m \u001b[0;34m\u001b[0m\u001b[0m\n\u001b[1;32m    856\u001b[0m     \u001b[0;32mdef\u001b[0m \u001b[0mapply_standard\u001b[0m\u001b[0;34m(\u001b[0m\u001b[0mself\u001b[0m\u001b[0;34m)\u001b[0m\u001b[0;34m:\u001b[0m\u001b[0;34m\u001b[0m\u001b[0;34m\u001b[0m\u001b[0m\n\u001b[0;32m--> 857\u001b[0;31m         \u001b[0mresults\u001b[0m\u001b[0;34m,\u001b[0m \u001b[0mres_index\u001b[0m \u001b[0;34m=\u001b[0m \u001b[0mself\u001b[0m\u001b[0;34m.\u001b[0m\u001b[0mapply_series_generator\u001b[0m\u001b[0;34m(\u001b[0m\u001b[0;34m)\u001b[0m\u001b[0;34m\u001b[0m\u001b[0;34m\u001b[0m\u001b[0m\n\u001b[0m\u001b[1;32m    858\u001b[0m \u001b[0;34m\u001b[0m\u001b[0m\n\u001b[1;32m    859\u001b[0m         \u001b[0;31m# wrap results\u001b[0m\u001b[0;34m\u001b[0m\u001b[0;34m\u001b[0m\u001b[0m\n",
      "\u001b[0;32m~/opt/anaconda3/lib/python3.9/site-packages/pandas/core/apply.py\u001b[0m in \u001b[0;36mapply_series_generator\u001b[0;34m(self)\u001b[0m\n\u001b[1;32m    871\u001b[0m             \u001b[0;32mfor\u001b[0m \u001b[0mi\u001b[0m\u001b[0;34m,\u001b[0m \u001b[0mv\u001b[0m \u001b[0;32min\u001b[0m \u001b[0menumerate\u001b[0m\u001b[0;34m(\u001b[0m\u001b[0mseries_gen\u001b[0m\u001b[0;34m)\u001b[0m\u001b[0;34m:\u001b[0m\u001b[0;34m\u001b[0m\u001b[0;34m\u001b[0m\u001b[0m\n\u001b[1;32m    872\u001b[0m                 \u001b[0;31m# ignore SettingWithCopy here in case the user mutates\u001b[0m\u001b[0;34m\u001b[0m\u001b[0;34m\u001b[0m\u001b[0m\n\u001b[0;32m--> 873\u001b[0;31m                 \u001b[0mresults\u001b[0m\u001b[0;34m[\u001b[0m\u001b[0mi\u001b[0m\u001b[0;34m]\u001b[0m \u001b[0;34m=\u001b[0m \u001b[0mself\u001b[0m\u001b[0;34m.\u001b[0m\u001b[0mf\u001b[0m\u001b[0;34m(\u001b[0m\u001b[0mv\u001b[0m\u001b[0;34m)\u001b[0m\u001b[0;34m\u001b[0m\u001b[0;34m\u001b[0m\u001b[0m\n\u001b[0m\u001b[1;32m    874\u001b[0m                 \u001b[0;32mif\u001b[0m \u001b[0misinstance\u001b[0m\u001b[0;34m(\u001b[0m\u001b[0mresults\u001b[0m\u001b[0;34m[\u001b[0m\u001b[0mi\u001b[0m\u001b[0;34m]\u001b[0m\u001b[0;34m,\u001b[0m \u001b[0mABCSeries\u001b[0m\u001b[0;34m)\u001b[0m\u001b[0;34m:\u001b[0m\u001b[0;34m\u001b[0m\u001b[0;34m\u001b[0m\u001b[0m\n\u001b[1;32m    875\u001b[0m                     \u001b[0;31m# If we have a view on v, we need to make a copy because\u001b[0m\u001b[0;34m\u001b[0m\u001b[0;34m\u001b[0m\u001b[0m\n",
      "\u001b[0;32m/var/folders/d0/kyjzvmwn3fdgc5m0t8snt0nm0000gn/T/ipykernel_30355/2196466354.py\u001b[0m in \u001b[0;36m<lambda>\u001b[0;34m(row)\u001b[0m\n\u001b[1;32m      1\u001b[0m \u001b[0;31m# , 8 ounces,' 8 ounces',' 8 oz.', 8 oz., 227 grams , 227g, ' 227 grams'\u001b[0m\u001b[0;34m\u001b[0m\u001b[0;34m\u001b[0m\u001b[0m\n\u001b[0;32m----> 2\u001b[0;31m \u001b[0mprice\u001b[0m\u001b[0;34m[\u001b[0m\u001b[0;34m'100_gr_EUR'\u001b[0m\u001b[0;34m]\u001b[0m \u001b[0;34m=\u001b[0m \u001b[0mprice\u001b[0m\u001b[0;34m.\u001b[0m\u001b[0mapply\u001b[0m\u001b[0;34m(\u001b[0m\u001b[0;32mlambda\u001b[0m \u001b[0mrow\u001b[0m\u001b[0;34m:\u001b[0m \u001b[0mrow\u001b[0m\u001b[0;34m[\u001b[0m\u001b[0;34m'Euro'\u001b[0m\u001b[0;34m]\u001b[0m\u001b[0;34m*\u001b[0m\u001b[0;36m0.44\u001b[0m \u001b[0;32mif\u001b[0m \u001b[0many\u001b[0m\u001b[0;34m(\u001b[0m\u001b[0msubstring\u001b[0m \u001b[0;32min\u001b[0m \u001b[0mrow\u001b[0m\u001b[0;34m[\u001b[0m\u001b[0;34m'after_slash'\u001b[0m\u001b[0;34m]\u001b[0m \u001b[0;32mfor\u001b[0m \u001b[0msubstring\u001b[0m \u001b[0;32min\u001b[0m \u001b[0;34m[\u001b[0m\u001b[0;34m'8 ounces'\u001b[0m\u001b[0;34m,\u001b[0m\u001b[0;34m'8-ounce'\u001b[0m\u001b[0;34m,\u001b[0m\u001b[0;34m'8 ounces'\u001b[0m\u001b[0;34m,\u001b[0m\u001b[0;34m'227 grams'\u001b[0m\u001b[0;34m,\u001b[0m\u001b[0;34m'227g'\u001b[0m\u001b[0;34m,\u001b[0m\u001b[0;34m'227 grams'\u001b[0m\u001b[0;34m,\u001b[0m\u001b[0;34m' 8 oz.'\u001b[0m\u001b[0;34m,\u001b[0m \u001b[0;34m'8 oz.'\u001b[0m\u001b[0;34m]\u001b[0m\u001b[0;34m)\u001b[0m \u001b[0;32melse\u001b[0m \u001b[0mrow\u001b[0m\u001b[0;34m[\u001b[0m\u001b[0;34m'100_gr_EUR'\u001b[0m\u001b[0;34m]\u001b[0m\u001b[0;34m,\u001b[0m \u001b[0maxis\u001b[0m\u001b[0;34m=\u001b[0m\u001b[0;36m1\u001b[0m\u001b[0;34m)\u001b[0m\u001b[0;34m\u001b[0m\u001b[0;34m\u001b[0m\u001b[0m\n\u001b[0m\u001b[1;32m      3\u001b[0m \u001b[0;34m\u001b[0m\u001b[0m\n\u001b[1;32m      4\u001b[0m \u001b[0;31m# 4 ounces , 4 ounces, 120 grams, 115 grams #WORK\u001b[0m\u001b[0;34m\u001b[0m\u001b[0;34m\u001b[0m\u001b[0m\n\u001b[1;32m      5\u001b[0m \u001b[0mprice\u001b[0m\u001b[0;34m[\u001b[0m\u001b[0;34m'100_gr_EUR'\u001b[0m\u001b[0;34m]\u001b[0m \u001b[0;34m=\u001b[0m \u001b[0mprice\u001b[0m\u001b[0;34m.\u001b[0m\u001b[0mapply\u001b[0m\u001b[0;34m(\u001b[0m\u001b[0;32mlambda\u001b[0m \u001b[0mrow\u001b[0m\u001b[0;34m:\u001b[0m \u001b[0mrow\u001b[0m\u001b[0;34m[\u001b[0m\u001b[0;34m'Euro'\u001b[0m\u001b[0;34m]\u001b[0m\u001b[0;34m*\u001b[0m\u001b[0;36m0.83\u001b[0m \u001b[0;32mif\u001b[0m \u001b[0many\u001b[0m\u001b[0;34m(\u001b[0m\u001b[0msubstring\u001b[0m \u001b[0;32min\u001b[0m \u001b[0mrow\u001b[0m\u001b[0;34m[\u001b[0m\u001b[0;34m'after_slash'\u001b[0m\u001b[0;34m]\u001b[0m \u001b[0;32mfor\u001b[0m \u001b[0msubstring\u001b[0m \u001b[0;32min\u001b[0m \u001b[0;34m[\u001b[0m\u001b[0;34m'4 ounces'\u001b[0m\u001b[0;34m,\u001b[0m\u001b[0;34m'4 ounces'\u001b[0m\u001b[0;34m,\u001b[0m\u001b[0;34m'120 grams'\u001b[0m\u001b[0;34m,\u001b[0m\u001b[0;34m'115 grams'\u001b[0m\u001b[0;34m]\u001b[0m\u001b[0;34m)\u001b[0m \u001b[0;32melse\u001b[0m \u001b[0mrow\u001b[0m\u001b[0;34m[\u001b[0m\u001b[0;34m'100_gr_EUR'\u001b[0m\u001b[0;34m]\u001b[0m\u001b[0;34m,\u001b[0m \u001b[0maxis\u001b[0m\u001b[0;34m=\u001b[0m\u001b[0;36m1\u001b[0m\u001b[0;34m)\u001b[0m\u001b[0;34m\u001b[0m\u001b[0;34m\u001b[0m\u001b[0m\n",
      "\u001b[0;31mTypeError\u001b[0m: can't multiply sequence by non-int of type 'float'"
     ]
    }
   ],
   "source": [
    "# , 8 ounces,' 8 ounces',' 8 oz.', 8 oz., 227 grams , 227g, ' 227 grams'\n",
    "price['100_gr_EUR'] = price.apply(lambda row: row['Euro']*0.44 if any(substring in row['after_slash'] for substring in ['8 ounces','8-ounce','8 ounces','227 grams','227g','227 grams',' 8 oz.', '8 oz.']) else row['100_gr_EUR'], axis=1)\n",
    "\n",
    "# 4 ounces , 4 ounces, 120 grams, 115 grams #WORK\n",
    "price['100_gr_EUR'] = price.apply(lambda row: row['Euro']*0.83 if any(substring in row['after_slash'] for substring in ['4 ounces','4 ounces','120 grams','115 grams']) else row['100_gr_EUR'], axis=1)\n",
    "\n",
    "# 10 ounces, 285 grams\n",
    "price['100_gr_EUR'] = price.apply(lambda row: row['Euro']*0.35 if any(substring in row['after_slash'] for substring in ['10 ounces','285 grams']) else row['100_gr_EUR'], axis=1)\n",
    "\n",
    "# 6 ounces, \n",
    "price['100_gr_EUR'] = price.apply(lambda row: row['Euro']*0.59 if any(substring in row['after_slash'] for substring in ['6 ounces']) else row['100_gr_EUR'], axis=1)\n",
    "\n",
    "# 200 grams, 200g, 200 g., 7 ounces, 7 oz.,\n",
    "price['100_gr_EUR'] = price.apply(lambda row: row['Euro']*0.50 if any(substring in row['after_slash'] for substring in ['200 grams','200 g.','200g','7 ounces','7 oz.','7 oz.']) else row['100_gr_EUR'], axis=1)\n",
    "\n",
    "# 60 grams, \n",
    "price['100_gr_EUR'] = price.apply(lambda row: row['Euro']*1.67 if any(substring in row['after_slash'] for substring in ['60 grams']) else row['100_gr_EUR'], axis=1)\n",
    "\n",
    "# 16 ounces, ' 16 ounces', ' 16 ounces.', 16ounces,' 16 ounces.',16 oz, 454 grams, 453 grams, 460 g,\n",
    "price['100_gr_EUR'] = price.apply(lambda row: row['Euro']*0.22 if any(substring in row['after_slash'] for substring in ['16 ounces','16 ounces','453 grams','16ounces','16 ounces.','16 oz','454 grams.','460 grams.']) else row['100_gr_EUR'], axis=1)\n",
    "\n",
    "# 230 grams, 230g\n",
    "price['100_gr_EUR'] = price.apply(lambda row: row['Euro']*0.44 if any(substring in row['after_slash'] for substring in ['230 grams','230g']) else row['100_gr_EUR'], axis=1)\n",
    "\n",
    "# 150 grams, 150-gram, 5.5 ounces\n",
    "price['100_gr_EUR'] = price.apply(lambda row: row['Euro']*0.67 if any(substring in row['after_slash'] for substring in ['150 grams','150-gram','5.5 ounces']) else row['100_gr_EUR'], axis=1)\n",
    "\n",
    "# 225 grams, 225 gram,' 225 grams',\n",
    "price['100_gr_EUR'] = price.apply(lambda row: row['Euro']*0.44 if any(substring in row['after_slash'] for substring in ['225 gram','225 grams']) else row['100_gr_EUR'], axis=1)\n",
    "\n",
    "# 14 ounces, 400 grams\n",
    "price['100_gr_EUR'] = price.apply(lambda row: row['Euro']*0.25 if any(substring in row['after_slash'] for substring in ['14 ounces','400 grams']) else row['100_gr_EUR'], axis=1)\n",
    "\n",
    "# 240 grams\n",
    "price['100_gr_EUR'] = price.apply(lambda row: row['Euro']*0.42 if any(substring in row['after_slash'] for substring in ['240 grams']) else row['100_gr_EUR'], axis=1)\n",
    "\n",
    "# 250 g., 250 gram, ' 250 g.',250 g., 8.8 oz, 8.8 ounces\n",
    "price['100_gr_EUR'] = price.apply(lambda row: row['Euro']*0.40 if any(substring in row['after_slash'] for substring in ['250 g','250 gram','250 g','8.8','8.8 ounces']) else row['100_gr_EUR'], axis=1)\n",
    "\n",
    "# 100 grams, 3.5 ounces, 105 grams\n",
    "price['100_gr_EUR'] = price.apply(lambda row: row['Euro']*1 if any(substring in row['after_slash'] for substring in ['100 grams','3.5 ounces','105 grams']) else row['100_gr_EUR'], axis=1)\n",
    "\n",
    "# 50 gram, 50 g. \n",
    "price['100_gr_EUR'] = price.apply(lambda row: row['Euro']*2.00 if any(substring in row['after_slash'] for substring in ['50 gram','50 g. ']) else row['100_gr_EUR'], axis=1)\n",
    "\n",
    "# 20 grams, 21 grams\n",
    "price['100_gr_EUR'] = price.apply(lambda row: row['Euro']*5.00 if any(substring in row['after_slash'] for substring in ['20 grams','21 grams']) else row['100_gr_EUR'], axis=1)\n",
    "\n",
    "# 175 grams\n",
    "price['100_gr_EUR'] = price.apply(lambda row: row['Euro']*0.57 if any(substring in row['after_slash'] for substring in ['175 grams']) else row['100_gr_EUR'], axis=1)\n",
    "\n",
    "# 10.5 ounces, 300 grams\n",
    "price['100_gr_EUR'] = price.apply(lambda row: row['Euro']*0.33 if any(substring in row['after_slash'] for substring in ['10.5 ounces','300 grams']) else row['100_gr_EUR'], axis=1)\n",
    "\n",
    "# 5 ounces\n",
    "price['100_gr_EUR'] = price.apply(lambda row: row['Euro']*0.71 if any(substring in row['after_slash'] for substring in ['5 ounces']) else row['100_gr_EUR'], axis=1)\n",
    "\n",
    "# 220 grams,\n",
    "price['100_gr_EUR'] = price.apply(lambda row: row['Euro']*0.45 if any(substring in row['after_slash'] for substring in ['220 grams']) else row['100_gr_EUR'], axis=1)\n",
    "\n",
    "# 5.5 ounces\n",
    "price['100_gr_EUR'] = price.apply(lambda row: row['Euro']*0.64 if any(substring in row['after_slash'] for substring in ['5.5 ounces']) else row['100_gr_EUR'], axis=1)\n",
    "\n",
    "# 500 grams, 500 grams, 500 g. \n",
    "price['100_gr_EUR'] = price.apply(lambda row: row['Euro']*0.20 if any(substring in row['after_slash'] for substring in ['500 grams','500 grams','500 g.']) else row['100_gr_EUR'], axis=1)\n",
    "\n",
    "# 12.64 ounces, \n",
    "price['100_gr_EUR'] = price.apply(lambda row: row['Euro']*0.28 if any(substring in row['after_slash'] for substring in ['12.64 ounces']) else row['100_gr_EUR'], axis=1)\n",
    "\n",
    "# 11 ounces\n",
    "price['100_gr_EUR'] = price.apply(lambda row: row['Euro']*0.32 if any(substring in row['after_slash'] for substring in ['11 ounces']) else row['100_gr_EUR'], axis=1)\n",
    "\n",
    "# 20 ounces, \n",
    "price['100_gr_EUR'] = price.apply(lambda row: row['Euro']*0.18 if any(substring in row['after_slash'] for substring in ['20 ounces']) else row['100_gr_EUR'], axis=1)\n",
    "\n",
    "# 32 ounces,\n",
    "price['100_gr_EUR'] = price.apply(lambda row: row['Euro']*0.11 if any(substring in row['after_slash'] for substring in ['32 ounces']) else row['100_gr_EUR'], axis=1)\n",
    "\n",
    "# 22 ounces,\n",
    "price['100_gr_EUR'] = price.apply(lambda row: row['Euro']*0.16 if any(substring in row['after_slash'] for substring in ['22 ounces']) else row['100_gr_EUR'], axis=1)\n",
    "\n",
    "# 2 ounces,\n",
    "price['100_gr_EUR'] = price.apply(lambda row: row['Euro']*1.79 if row['after_slash'] == '2 ounces' else row['100_gr_EUR'], axis=1)\n",
    "\n",
    "# 30 ounces, 2 pounds, \n",
    "price['100_gr_EUR'] = price.apply(lambda row: row['Euro']*0.12 if any(substring in row['after_slash'] for substring in ['30 ounces','2 pounds']) else row['100_gr_EUR'], axis=1)\n",
    "\n",
    "# 70 grams\n",
    "price['100_gr_EUR'] = price.apply(lambda row: row['Euro']*1.43 if any(substring in row['after_slash'] for substring in [' 70 grams']) else row['100_gr_EUR'], axis=1)\n",
    "\n",
    "# 24 ounces\n",
    "price['100_gr_EUR'] = price.apply(lambda row: row['Euro']*0.15 if any(substring in row['after_slash'] for substring in ['24 ounces']) else row['100_gr_EUR'], axis=1)\n",
    "\n",
    "# 36 ounces\n",
    "price['100_gr_EUR'] = price.apply(lambda row: row['Euro']*0.10 if any(substring in row['after_slash'] for substring in ['36 ounces']) else row['100_gr_EUR'], axis=1)\n",
    "\n",
    "# 11.3 ounces, 320 grams\n",
    "price['100_gr_EUR'] = price.apply(lambda row: row['Euro']*0.31 if any(substring in row['after_slash'] for substring in ['11.3 ounces','320 grams']) else row['100_gr_EUR'], axis=1)\n",
    "\n",
    "# 28 ounces\n",
    "price['100_gr_EUR'] = price.apply(lambda row: row['Euro']*0.13 if any(substring in row['after_slash'] for substring in ['28 ounces']) else row['100_gr_EUR'], axis=1)\n",
    "\n",
    "# 10.3 ounces'\n",
    "price['100_gr_EUR'] = price.apply(lambda row: row['Euro']*0.34 if any(substring in row['after_slash'] for substring in ['10.3 ounces']) else row['100_gr_EUR'], axis=1)\n",
    "\n",
    "# 13 ounces\n",
    "price['100_gr_EUR'] = price.apply(lambda row: row['Euro']*0.27 if any(substring in row['after_slash'] for substring in ['13 ounces']) else row['100_gr_EUR'], axis=1)\n",
    "\n",
    "# 165 grams\n",
    "price['100_gr_EUR'] = price.apply(lambda row: row['Euro']*0.61 if any(substring in row['after_slash'] for substring in ['165 grams']) else row['100_gr_EUR'], axis=1)\n",
    "\n",
    "# 6 pounds\n",
    "price['100_gr_EUR'] = price.apply(lambda row: row['Euro']*0.59 if any(substring in row['after_slash'] for substring in ['6 pounds']) else row['100_gr_EUR'], axis=1)\n",
    "\n",
    "# 1 kilogram, 1 kg\n",
    "price['100_gr_EUR'] = price.apply(lambda row: row['Euro']*0.10 if any(substring in row['after_slash'] for substring in ['1 kg','320 grams']) else row['100_gr_EUR'], axis=1)\n",
    "\n",
    "# 0.94 oz, 0.93 oz\n",
    "#price['100_gr_EUR'] = price.apply(lambda row: row['Euro']*3.85 if any(substring in row['after_slash'] for substring in ['0.94 oz.','0.93 oz']) else row['100_gr_EUR'], axis=1)\n",
    "price['100_gr_EUR'] = price.apply(lambda row: row['Euro']*3.85 if row['after_slash'] in ['0.94 oz.','0.93 oz'] else row['100_gr_EUR'], axis=1)\n",
    "\n",
    "# 340 grams\n",
    "price['100_gr_EUR'] = price.apply(lambda row: row['Euro']*0.29 if any(substring in row['after_slash'] for substring in ['340 grams']) else row['100_gr_EUR'], axis=1)\n",
    "\n",
    "# 32 oz.\n",
    "price['100_gr_EUR'] = price.apply(lambda row: row['Euro']*0.11 if any(substring in row['after_slash'] for substring in ['32 oz.']) else row['100_gr_EUR'], axis=1)\n",
    "\n",
    "# 12 ounces : '12 ounce', 12 ounces, 12-ounce bottle, 12 oz, 12 onces, 340, 12 ouncues\n",
    "price['100_gr_EUR'] = price.apply(lambda row: row['Euro']*0.29 if any(substring in row['after_slash'] for substring in ['12 ounces','12 oz','12 oz','12-ounce','12 ounce','12 onces','12 ouncues']) else row['100_gr_EUR'], axis=1)"
   ]
  },
  {
   "cell_type": "code",
   "execution_count": 30,
   "id": "2b82340c",
   "metadata": {},
   "outputs": [],
   "source": [
    "#price['after_slash'] = str(price['after_slash'])\n",
    "#price['after_slash'] = price['after_slash'].astype(str)\n",
    "#price['Euro'] = price['Euro'].astype(str)\n",
    "price['100_gr_EUR'] = price['100_gr_EUR'].astype(str)"
   ]
  },
  {
   "cell_type": "code",
   "execution_count": 45,
   "id": "fce0c164",
   "metadata": {},
   "outputs": [
    {
     "name": "stdout",
     "output_type": "stream",
     "text": [
      "<class 'str'>    4870\n",
      "Name: after_slash, dtype: int64\n"
     ]
    }
   ],
   "source": [
    "print(price['after_slash'].apply(type).value_counts())"
   ]
  },
  {
   "cell_type": "code",
   "execution_count": 46,
   "id": "47145ea4",
   "metadata": {
    "scrolled": true
   },
   "outputs": [
    {
     "data": {
      "text/plain": [
       "array(['12 ounces', '8 ounces', '4 ounces', '227 grams', '10 ounces',\n",
       "       '6 ounces', '200 grams', '60 grams', '16 ounces', '230 grams',\n",
       "       '150 grams', '225 grams', '14 ounces', '240 grams', '250 grams',\n",
       "       '100 grams', '50 grams', '230g', '200g', '454 grams', ' 12 ounces',\n",
       "       '20 grams', ' 8 ounces', '175 grams', '285 grams', '10.5 ounces',\n",
       "       '70 grams; $200.00', '120 grams', '455 grams', '113 grams',\n",
       "       '400 grams', '227g', '115 grams', '24 ounces', '275 grams',\n",
       "       '300 grams', '7 ounces', ' 227 grams', '5 ounces', '220 grams',\n",
       "       '105 grams', '5.5 ounces', '10 capsules', '12.64 ounces',\n",
       "       'six 8-ounce cans', '375 ml. flask', '150-gram tin',\n",
       "       'twelve 6-ounce cans', 'six 12-ounce cans', '12-ounce bottle',\n",
       "       'four 8-ounce cans', '280 ml can', '200-ml bottle',\n",
       "       '160-ml bottle', '453 grams', '500 grams', '460 grams',\n",
       "       '11 ounces', 'seven single-serve pouches', '20 ounces (2 types)',\n",
       "       '32 ounces', '22 ounces', ' 7 ounces', '340 grams',\n",
       "       '12 ounces; $50.00', '12 ounces (includes shipping)',\n",
       "       '12 ounces ($79.00', '12 ounces; $35.00',\n",
       "       '8 ounces (currently on sale for $36.76)',\n",
       "       'sachet (plus one donated)', '222 grams', '2 ounces', '450 grams',\n",
       "       '30 ounces',\n",
       "       '8 ounces (packaged as a \"duo\" with the Bourbon Rey Jamaica)',\n",
       "       '2 pounds', '8 single-serve packets',\n",
       "       'five 5-gram single-serve packets', '6 pounds', '3 pounds',\n",
       "       '12 sticks', '8 ounces*', '18 grams',\n",
       "       '8 ounces (packaged as a \"duo\" with Bourbon Rey Guatemala)',\n",
       "       '21 grams', '4 ounces; limited availability',\n",
       "       '7 ounces (198 grams)', '12 ounces online; $12.99', '225 gram',\n",
       "       'eight 3.3 gram packets', '45 grams (approx. 9 servings)',\n",
       "       'eight 5-gram tubes', 'six 5-gram single-serve packets',\n",
       "       'six 5-gram packets', '8 ounces (226 grams)',\n",
       "       'thirty 1.6-gram single-serve packets', '3.4 ounces', '1 kilogram',\n",
       "       '113.5 grams', '12 capsules', '320 grams', '28 ounces',\n",
       "       '10.3 ounces', '13 ounces', '24 K-Cups', '16 K-cups', '18 K-Cups',\n",
       "       '8.8 ounces', '24 K-cups', '12 ounces (sold out)', '165 grams',\n",
       "       '16 K-Cups', '32 K-Cups', '18 capsules', '7 ounces (see notes)',\n",
       "       '125 grams', '75 grams', '2.2 pounds', '36 ounces',\n",
       "       '10 ounces (free shipping)', '25 grams',\n",
       "       '10 single-serve capsules', '554 grams', ' 16 ounces',\n",
       "       ' 225 grams', '3.5 ounces', '50 g.', '12 K-Cups',\n",
       "       '14 single-serve capsules', '12 single-serve capsules',\n",
       "       '12 single-serve pods', '16 Vue-Packs', '90 capsules', '12 pods',\n",
       "       '10 capsultes', '12 single-serve cups', '24 RealCup capsules',\n",
       "       '48 RealCup capsules', ' 16 ounces.', '12 ounces.', '12 onces',\n",
       "       '250 grams (8.8 oz.)', '200 g.', '16ounces', '40 ounces',\n",
       "       '48 ounces', '11.3 ounces', '5.3 ounces', '48 K-Cups',\n",
       "       '14 Single-Serve Pods', '1 kg. (2.2 lbs.)',\n",
       "       '16 oz. liquid concentrate', '500 grams (17.6 oz.)',\n",
       "       '250 grams (8.8 oz)', '12 ouncues', '1.4 oz. instant',\n",
       "       '0.94 oz. instant', '8 oz. instant', '3.5 ounces instant',\n",
       "       '8 ounces instant', '0.93 oz. instant', '7 oz. instant', '16 pods',\n",
       "       '12 T Discs', '108 pods', '96 pods', ' 64 pods', '18 pods',\n",
       "       '16 ounces (454 grams)', '8 ounces (227 grams)', '17 ounces',\n",
       "       '350 grams (12.3 ounces)', '5 pounds', '12 ounce', '1 Kilogram',\n",
       "       '32 oz.', '500 g (17.6 oz.)', '12 oz.', '16 oz.',\n",
       "       ' 500 g. (17.6 oz.)', ' 16 oz.', ' 12 oz.', ' 10 oz.', ' 10.6 oz.',\n",
       "       ' 250 g. (8.8 oz.)', ' 8 oz.', '8 oz.', 'pound', '10 oz.',\n",
       "       '22 K-Cups', '8.8 oz.', '250 g. (8.8 oz)', '250 g. (8.8 oz.)',\n",
       "       ' 5 pounds', '500 g. (17.6 oz.)',\n",
       "       '19 oz. (incl. express shipping from Guatemala)'], dtype=object)"
      ]
     },
     "execution_count": 46,
     "metadata": {},
     "output_type": "execute_result"
    }
   ],
   "source": [
    "## First, let´s check the uniques units\n",
    "price['after_slash'].unique()"
   ]
  },
  {
   "cell_type": "code",
   "execution_count": 37,
   "id": "4ffc491e",
   "metadata": {},
   "outputs": [],
   "source": [
    "price = price.drop(price[(price['after_slash'] == 'six 8-ounce cans') | \n",
    "                          (price['after_slash'] == '375 ml. flask') | \n",
    "                          (price['after_slash'] == 'twelve 6-ounce cans') | \n",
    "                          (price['after_slash'] == 'six 12-ounce cans') | \n",
    "                          (price['after_slash'] == 'four 8-ounce cans') | \n",
    "                          (price['after_slash'] == '280 ml can') | \n",
    "                          (price['after_slash'] == 'six 12-ounce cans') | \n",
    "                          (price['after_slash'] == '200-ml bottle') | \n",
    "                          (price['after_slash'] == '160-ml bottle') | \n",
    "                          (price['after_slash'] == 'seven single-serve pouches') | \n",
    "                          (price['after_slash'] == 'sachet (plus one donated)') | \n",
    "                          (price['after_slash'] == 'five 5-gram single-serve packets') | \n",
    "                          (price['after_slash'] == 'eight 3.3 gram packets') | \n",
    "                          (price['after_slash'] == 'eight 5-gram tubes') | \n",
    "                          (price['after_slash'] == 'six 5-gram single-serve packets') | \n",
    "                          (price['after_slash'] == 'six 5-gram packets') | \n",
    "                          (price['after_slash'] == 'thirty 1.6-gram single-serve packets') | \n",
    "                          (price['after_slash'] == '12 capsules') | \n",
    "                          (price['after_slash'] == '24 K-Cups') | \n",
    "                          (price['after_slash'] == '16 K-cups') | \n",
    "                          (price['after_slash'] == '18 K-Cups') | \n",
    "                          (price['after_slash'] == '24 K-cups') | \n",
    "                          (price['after_slash'] == '16 K-Cups') | \n",
    "                          (price['after_slash'] == '32 K-Cups') | \n",
    "                          (price['after_slash'] == '18 capsules') | \n",
    "                          (price['after_slash'] == '18 K-Cups') | \n",
    "                          (price['after_slash'] == '24 K-cups') | \n",
    "                          (price['after_slash'] == '10 single-serve capsules') | \n",
    "                          (price['after_slash'] == '12 K-Cups') | \n",
    "                          (price['after_slash'] == '14 single-serve capsules') | \n",
    "                          (price['after_slash'] == '12 single-serve pods') | \n",
    "                          (price['after_slash'] == '12 single-serve cups') | \n",
    "                          (price['after_slash'] == '24 RealCup capsules') | \n",
    "                          (price['after_slash'] == '48 RealCup capsules') | \n",
    "                          (price['after_slash'] == '12 T Discs') | \n",
    "                          (price['after_slash'] == '22 K-Cups') | \n",
    "                          (price['after_slash'] == '108 pods')].index)\n"
   ]
  },
  {
   "cell_type": "code",
   "execution_count": 62,
   "id": "13371a7b",
   "metadata": {},
   "outputs": [],
   "source": [
    "price = price.replace('', np.nan)  # replace empty strings with NaN\n",
    "price = price.dropna(subset=['100_gr_EUR'], inplace=True)  # drop rows with NaN in '100_gr_EUR'"
   ]
  },
  {
   "cell_type": "code",
   "execution_count": 36,
   "id": "6198807e",
   "metadata": {},
   "outputs": [
    {
     "data": {
      "text/html": [
       "<div>\n",
       "<style scoped>\n",
       "    .dataframe tbody tr th:only-of-type {\n",
       "        vertical-align: middle;\n",
       "    }\n",
       "\n",
       "    .dataframe tbody tr th {\n",
       "        vertical-align: top;\n",
       "    }\n",
       "\n",
       "    .dataframe thead th {\n",
       "        text-align: right;\n",
       "    }\n",
       "</style>\n",
       "<table border=\"1\" class=\"dataframe\">\n",
       "  <thead>\n",
       "    <tr style=\"text-align: right;\">\n",
       "      <th></th>\n",
       "      <th>est_price</th>\n",
       "      <th>blind_assessment</th>\n",
       "      <th>after_slash</th>\n",
       "      <th>before_slash</th>\n",
       "      <th>before_DOL</th>\n",
       "      <th>rem_D</th>\n",
       "      <th>Euro</th>\n",
       "      <th>100_gr_EUR</th>\n",
       "    </tr>\n",
       "  </thead>\n",
       "  <tbody>\n",
       "    <tr>\n",
       "      <th>0</th>\n",
       "      <td>$30.00/12 ounces</td>\n",
       "      <td>Richly aromatic, floral-toned. Magnolia, cocoa...</td>\n",
       "      <td>12 ounces</td>\n",
       "      <td>$30.00</td>\n",
       "      <td></td>\n",
       "      <td>30.00</td>\n",
       "      <td>28.5</td>\n",
       "      <td></td>\n",
       "    </tr>\n",
       "    <tr>\n",
       "      <th>1</th>\n",
       "      <td>$160.00/12 ounces</td>\n",
       "      <td>Crisply sweet-savory. White peach, hop flowers...</td>\n",
       "      <td>12 ounces</td>\n",
       "      <td>$160.00</td>\n",
       "      <td></td>\n",
       "      <td>160.00</td>\n",
       "      <td>152.0</td>\n",
       "      <td></td>\n",
       "    </tr>\n",
       "    <tr>\n",
       "      <th>2</th>\n",
       "      <td>$28.00/12 ounces</td>\n",
       "      <td>Delicately aromatic, complex. Lilac, cocoa nib...</td>\n",
       "      <td>12 ounces</td>\n",
       "      <td>$28.00</td>\n",
       "      <td></td>\n",
       "      <td>28.00</td>\n",
       "      <td>26.6</td>\n",
       "      <td></td>\n",
       "    </tr>\n",
       "    <tr>\n",
       "      <th>3</th>\n",
       "      <td>$20.50/12 ounces</td>\n",
       "      <td>High-toned, fruit-driven. Boysenberry, pear, c...</td>\n",
       "      <td>12 ounces</td>\n",
       "      <td>$20.50</td>\n",
       "      <td></td>\n",
       "      <td>20.50</td>\n",
       "      <td>19.475</td>\n",
       "      <td></td>\n",
       "    </tr>\n",
       "    <tr>\n",
       "      <th>4</th>\n",
       "      <td>$18.99/8 ounces</td>\n",
       "      <td>Fruit-driven, crisply chocolaty. Goji berry, d...</td>\n",
       "      <td>8 ounces</td>\n",
       "      <td>$18.99</td>\n",
       "      <td></td>\n",
       "      <td>18.99</td>\n",
       "      <td>18.0405</td>\n",
       "      <td></td>\n",
       "    </tr>\n",
       "    <tr>\n",
       "      <th>...</th>\n",
       "      <td>...</td>\n",
       "      <td>...</td>\n",
       "      <td>...</td>\n",
       "      <td>...</td>\n",
       "      <td>...</td>\n",
       "      <td>...</td>\n",
       "      <td>...</td>\n",
       "      <td>...</td>\n",
       "    </tr>\n",
       "    <tr>\n",
       "      <th>4944</th>\n",
       "      <td>$27.00/500 grams (17.6 oz.)</td>\n",
       "      <td>Evaluated as espresso. In the small cup exhila...</td>\n",
       "      <td>500 grams (17.6 oz.)</td>\n",
       "      <td>$27.00</td>\n",
       "      <td></td>\n",
       "      <td>27.00</td>\n",
       "      <td>25.65</td>\n",
       "      <td></td>\n",
       "    </tr>\n",
       "    <tr>\n",
       "      <th>4945</th>\n",
       "      <td>$19.45/16 ounces</td>\n",
       "      <td>Balanced in aroma and cup. Floral tones are co...</td>\n",
       "      <td>16 ounces</td>\n",
       "      <td>$19.45</td>\n",
       "      <td></td>\n",
       "      <td>19.45</td>\n",
       "      <td>18.4775</td>\n",
       "      <td></td>\n",
       "    </tr>\n",
       "    <tr>\n",
       "      <th>4946</th>\n",
       "      <td>$10.50/250 grams (8.8 oz.)</td>\n",
       "      <td>Deep, rich and pungent in aroma and cup. Round...</td>\n",
       "      <td>250 grams (8.8 oz.)</td>\n",
       "      <td>$10.50</td>\n",
       "      <td></td>\n",
       "      <td>10.50</td>\n",
       "      <td>9.975</td>\n",
       "      <td></td>\n",
       "    </tr>\n",
       "    <tr>\n",
       "      <th>4947</th>\n",
       "      <td>$13.99/16 ounces</td>\n",
       "      <td>Gently and richly charred cedar, dark chocolat...</td>\n",
       "      <td>16 ounces</td>\n",
       "      <td>$13.99</td>\n",
       "      <td></td>\n",
       "      <td>13.99</td>\n",
       "      <td>13.2905</td>\n",
       "      <td></td>\n",
       "    </tr>\n",
       "    <tr>\n",
       "      <th>4948</th>\n",
       "      <td>$11.95/16 ounces</td>\n",
       "      <td>Lively citrus and berry in the aroma with hint...</td>\n",
       "      <td>16 ounces</td>\n",
       "      <td>$11.95</td>\n",
       "      <td></td>\n",
       "      <td>11.95</td>\n",
       "      <td>11.3525</td>\n",
       "      <td></td>\n",
       "    </tr>\n",
       "  </tbody>\n",
       "</table>\n",
       "<p>4870 rows × 8 columns</p>\n",
       "</div>"
      ],
      "text/plain": [
       "                        est_price  \\\n",
       "0                $30.00/12 ounces   \n",
       "1               $160.00/12 ounces   \n",
       "2                $28.00/12 ounces   \n",
       "3                $20.50/12 ounces   \n",
       "4                 $18.99/8 ounces   \n",
       "...                           ...   \n",
       "4944  $27.00/500 grams (17.6 oz.)   \n",
       "4945             $19.45/16 ounces   \n",
       "4946   $10.50/250 grams (8.8 oz.)   \n",
       "4947             $13.99/16 ounces   \n",
       "4948             $11.95/16 ounces   \n",
       "\n",
       "                                       blind_assessment           after_slash  \\\n",
       "0     Richly aromatic, floral-toned. Magnolia, cocoa...             12 ounces   \n",
       "1     Crisply sweet-savory. White peach, hop flowers...             12 ounces   \n",
       "2     Delicately aromatic, complex. Lilac, cocoa nib...             12 ounces   \n",
       "3     High-toned, fruit-driven. Boysenberry, pear, c...             12 ounces   \n",
       "4     Fruit-driven, crisply chocolaty. Goji berry, d...              8 ounces   \n",
       "...                                                 ...                   ...   \n",
       "4944  Evaluated as espresso. In the small cup exhila...  500 grams (17.6 oz.)   \n",
       "4945  Balanced in aroma and cup. Floral tones are co...             16 ounces   \n",
       "4946  Deep, rich and pungent in aroma and cup. Round...   250 grams (8.8 oz.)   \n",
       "4947  Gently and richly charred cedar, dark chocolat...             16 ounces   \n",
       "4948  Lively citrus and berry in the aroma with hint...             16 ounces   \n",
       "\n",
       "     before_slash before_DOL   rem_D     Euro 100_gr_EUR  \n",
       "0          $30.00              30.00     28.5             \n",
       "1         $160.00             160.00    152.0             \n",
       "2          $28.00              28.00     26.6             \n",
       "3          $20.50              20.50   19.475             \n",
       "4          $18.99              18.99  18.0405             \n",
       "...           ...        ...     ...      ...        ...  \n",
       "4944       $27.00              27.00    25.65             \n",
       "4945       $19.45              19.45  18.4775             \n",
       "4946       $10.50              10.50    9.975             \n",
       "4947       $13.99              13.99  13.2905             \n",
       "4948       $11.95              11.95  11.3525             \n",
       "\n",
       "[4870 rows x 8 columns]"
      ]
     },
     "execution_count": 36,
     "metadata": {},
     "output_type": "execute_result"
    }
   ],
   "source": [
    "price.loc[price['100_gr_EUR'] == '']"
   ]
  },
  {
   "cell_type": "code",
   "execution_count": 34,
   "id": "612308c8",
   "metadata": {},
   "outputs": [
    {
     "data": {
      "text/plain": [
       "0        \n",
       "1        \n",
       "2        \n",
       "3        \n",
       "4        \n",
       "       ..\n",
       "4944     \n",
       "4945     \n",
       "4946     \n",
       "4947     \n",
       "4948     \n",
       "Name: 100_gr_EUR, Length: 4870, dtype: object"
      ]
     },
     "execution_count": 34,
     "metadata": {},
     "output_type": "execute_result"
    }
   ],
   "source": [
    "price['100_gr_EUR']"
   ]
  },
  {
   "cell_type": "markdown",
   "id": "01550f10",
   "metadata": {},
   "source": [
    "we dropped 172 records"
   ]
  },
  {
   "cell_type": "code",
   "execution_count": 35,
   "id": "24cf3e68",
   "metadata": {},
   "outputs": [
    {
     "ename": "ValueError",
     "evalue": "could not convert string to float: ''",
     "output_type": "error",
     "traceback": [
      "\u001b[0;31m---------------------------------------------------------------------------\u001b[0m",
      "\u001b[0;31mValueError\u001b[0m                                Traceback (most recent call last)",
      "\u001b[0;32m/var/folders/d0/kyjzvmwn3fdgc5m0t8snt0nm0000gn/T/ipykernel_29050/3388197723.py\u001b[0m in \u001b[0;36m<module>\u001b[0;34m\u001b[0m\n\u001b[0;32m----> 1\u001b[0;31m \u001b[0mprice\u001b[0m\u001b[0;34m[\u001b[0m\u001b[0;34m'100_gr_EUR'\u001b[0m\u001b[0;34m]\u001b[0m \u001b[0;34m=\u001b[0m \u001b[0mprice\u001b[0m\u001b[0;34m[\u001b[0m\u001b[0;34m'100_gr_EUR'\u001b[0m\u001b[0;34m]\u001b[0m\u001b[0;34m.\u001b[0m\u001b[0mastype\u001b[0m\u001b[0;34m(\u001b[0m\u001b[0mfloat\u001b[0m\u001b[0;34m)\u001b[0m\u001b[0;34m\u001b[0m\u001b[0;34m\u001b[0m\u001b[0m\n\u001b[0m",
      "\u001b[0;32m~/opt/anaconda3/lib/python3.9/site-packages/pandas/core/generic.py\u001b[0m in \u001b[0;36mastype\u001b[0;34m(self, dtype, copy, errors)\u001b[0m\n\u001b[1;32m   5910\u001b[0m         \u001b[0;32melse\u001b[0m\u001b[0;34m:\u001b[0m\u001b[0;34m\u001b[0m\u001b[0;34m\u001b[0m\u001b[0m\n\u001b[1;32m   5911\u001b[0m             \u001b[0;31m# else, only a single dtype is given\u001b[0m\u001b[0;34m\u001b[0m\u001b[0;34m\u001b[0m\u001b[0m\n\u001b[0;32m-> 5912\u001b[0;31m             \u001b[0mnew_data\u001b[0m \u001b[0;34m=\u001b[0m \u001b[0mself\u001b[0m\u001b[0;34m.\u001b[0m\u001b[0m_mgr\u001b[0m\u001b[0;34m.\u001b[0m\u001b[0mastype\u001b[0m\u001b[0;34m(\u001b[0m\u001b[0mdtype\u001b[0m\u001b[0;34m=\u001b[0m\u001b[0mdtype\u001b[0m\u001b[0;34m,\u001b[0m \u001b[0mcopy\u001b[0m\u001b[0;34m=\u001b[0m\u001b[0mcopy\u001b[0m\u001b[0;34m,\u001b[0m \u001b[0merrors\u001b[0m\u001b[0;34m=\u001b[0m\u001b[0merrors\u001b[0m\u001b[0;34m)\u001b[0m\u001b[0;34m\u001b[0m\u001b[0;34m\u001b[0m\u001b[0m\n\u001b[0m\u001b[1;32m   5913\u001b[0m             \u001b[0;32mreturn\u001b[0m \u001b[0mself\u001b[0m\u001b[0;34m.\u001b[0m\u001b[0m_constructor\u001b[0m\u001b[0;34m(\u001b[0m\u001b[0mnew_data\u001b[0m\u001b[0;34m)\u001b[0m\u001b[0;34m.\u001b[0m\u001b[0m__finalize__\u001b[0m\u001b[0;34m(\u001b[0m\u001b[0mself\u001b[0m\u001b[0;34m,\u001b[0m \u001b[0mmethod\u001b[0m\u001b[0;34m=\u001b[0m\u001b[0;34m\"astype\"\u001b[0m\u001b[0;34m)\u001b[0m\u001b[0;34m\u001b[0m\u001b[0;34m\u001b[0m\u001b[0m\n\u001b[1;32m   5914\u001b[0m \u001b[0;34m\u001b[0m\u001b[0m\n",
      "\u001b[0;32m~/opt/anaconda3/lib/python3.9/site-packages/pandas/core/internals/managers.py\u001b[0m in \u001b[0;36mastype\u001b[0;34m(self, dtype, copy, errors)\u001b[0m\n\u001b[1;32m    417\u001b[0m \u001b[0;34m\u001b[0m\u001b[0m\n\u001b[1;32m    418\u001b[0m     \u001b[0;32mdef\u001b[0m \u001b[0mastype\u001b[0m\u001b[0;34m(\u001b[0m\u001b[0mself\u001b[0m\u001b[0;34m:\u001b[0m \u001b[0mT\u001b[0m\u001b[0;34m,\u001b[0m \u001b[0mdtype\u001b[0m\u001b[0;34m,\u001b[0m \u001b[0mcopy\u001b[0m\u001b[0;34m:\u001b[0m \u001b[0mbool\u001b[0m \u001b[0;34m=\u001b[0m \u001b[0;32mFalse\u001b[0m\u001b[0;34m,\u001b[0m \u001b[0merrors\u001b[0m\u001b[0;34m:\u001b[0m \u001b[0mstr\u001b[0m \u001b[0;34m=\u001b[0m \u001b[0;34m\"raise\"\u001b[0m\u001b[0;34m)\u001b[0m \u001b[0;34m->\u001b[0m \u001b[0mT\u001b[0m\u001b[0;34m:\u001b[0m\u001b[0;34m\u001b[0m\u001b[0;34m\u001b[0m\u001b[0m\n\u001b[0;32m--> 419\u001b[0;31m         \u001b[0;32mreturn\u001b[0m \u001b[0mself\u001b[0m\u001b[0;34m.\u001b[0m\u001b[0mapply\u001b[0m\u001b[0;34m(\u001b[0m\u001b[0;34m\"astype\"\u001b[0m\u001b[0;34m,\u001b[0m \u001b[0mdtype\u001b[0m\u001b[0;34m=\u001b[0m\u001b[0mdtype\u001b[0m\u001b[0;34m,\u001b[0m \u001b[0mcopy\u001b[0m\u001b[0;34m=\u001b[0m\u001b[0mcopy\u001b[0m\u001b[0;34m,\u001b[0m \u001b[0merrors\u001b[0m\u001b[0;34m=\u001b[0m\u001b[0merrors\u001b[0m\u001b[0;34m)\u001b[0m\u001b[0;34m\u001b[0m\u001b[0;34m\u001b[0m\u001b[0m\n\u001b[0m\u001b[1;32m    420\u001b[0m \u001b[0;34m\u001b[0m\u001b[0m\n\u001b[1;32m    421\u001b[0m     def convert(\n",
      "\u001b[0;32m~/opt/anaconda3/lib/python3.9/site-packages/pandas/core/internals/managers.py\u001b[0m in \u001b[0;36mapply\u001b[0;34m(self, f, align_keys, ignore_failures, **kwargs)\u001b[0m\n\u001b[1;32m    302\u001b[0m                     \u001b[0mapplied\u001b[0m \u001b[0;34m=\u001b[0m \u001b[0mb\u001b[0m\u001b[0;34m.\u001b[0m\u001b[0mapply\u001b[0m\u001b[0;34m(\u001b[0m\u001b[0mf\u001b[0m\u001b[0;34m,\u001b[0m \u001b[0;34m**\u001b[0m\u001b[0mkwargs\u001b[0m\u001b[0;34m)\u001b[0m\u001b[0;34m\u001b[0m\u001b[0;34m\u001b[0m\u001b[0m\n\u001b[1;32m    303\u001b[0m                 \u001b[0;32melse\u001b[0m\u001b[0;34m:\u001b[0m\u001b[0;34m\u001b[0m\u001b[0;34m\u001b[0m\u001b[0m\n\u001b[0;32m--> 304\u001b[0;31m                     \u001b[0mapplied\u001b[0m \u001b[0;34m=\u001b[0m \u001b[0mgetattr\u001b[0m\u001b[0;34m(\u001b[0m\u001b[0mb\u001b[0m\u001b[0;34m,\u001b[0m \u001b[0mf\u001b[0m\u001b[0;34m)\u001b[0m\u001b[0;34m(\u001b[0m\u001b[0;34m**\u001b[0m\u001b[0mkwargs\u001b[0m\u001b[0;34m)\u001b[0m\u001b[0;34m\u001b[0m\u001b[0;34m\u001b[0m\u001b[0m\n\u001b[0m\u001b[1;32m    305\u001b[0m             \u001b[0;32mexcept\u001b[0m \u001b[0;34m(\u001b[0m\u001b[0mTypeError\u001b[0m\u001b[0;34m,\u001b[0m \u001b[0mNotImplementedError\u001b[0m\u001b[0;34m)\u001b[0m\u001b[0;34m:\u001b[0m\u001b[0;34m\u001b[0m\u001b[0;34m\u001b[0m\u001b[0m\n\u001b[1;32m    306\u001b[0m                 \u001b[0;32mif\u001b[0m \u001b[0;32mnot\u001b[0m \u001b[0mignore_failures\u001b[0m\u001b[0;34m:\u001b[0m\u001b[0;34m\u001b[0m\u001b[0;34m\u001b[0m\u001b[0m\n",
      "\u001b[0;32m~/opt/anaconda3/lib/python3.9/site-packages/pandas/core/internals/blocks.py\u001b[0m in \u001b[0;36mastype\u001b[0;34m(self, dtype, copy, errors)\u001b[0m\n\u001b[1;32m    578\u001b[0m         \u001b[0mvalues\u001b[0m \u001b[0;34m=\u001b[0m \u001b[0mself\u001b[0m\u001b[0;34m.\u001b[0m\u001b[0mvalues\u001b[0m\u001b[0;34m\u001b[0m\u001b[0;34m\u001b[0m\u001b[0m\n\u001b[1;32m    579\u001b[0m \u001b[0;34m\u001b[0m\u001b[0m\n\u001b[0;32m--> 580\u001b[0;31m         \u001b[0mnew_values\u001b[0m \u001b[0;34m=\u001b[0m \u001b[0mastype_array_safe\u001b[0m\u001b[0;34m(\u001b[0m\u001b[0mvalues\u001b[0m\u001b[0;34m,\u001b[0m \u001b[0mdtype\u001b[0m\u001b[0;34m,\u001b[0m \u001b[0mcopy\u001b[0m\u001b[0;34m=\u001b[0m\u001b[0mcopy\u001b[0m\u001b[0;34m,\u001b[0m \u001b[0merrors\u001b[0m\u001b[0;34m=\u001b[0m\u001b[0merrors\u001b[0m\u001b[0;34m)\u001b[0m\u001b[0;34m\u001b[0m\u001b[0;34m\u001b[0m\u001b[0m\n\u001b[0m\u001b[1;32m    581\u001b[0m \u001b[0;34m\u001b[0m\u001b[0m\n\u001b[1;32m    582\u001b[0m         \u001b[0mnew_values\u001b[0m \u001b[0;34m=\u001b[0m \u001b[0mmaybe_coerce_values\u001b[0m\u001b[0;34m(\u001b[0m\u001b[0mnew_values\u001b[0m\u001b[0;34m)\u001b[0m\u001b[0;34m\u001b[0m\u001b[0;34m\u001b[0m\u001b[0m\n",
      "\u001b[0;32m~/opt/anaconda3/lib/python3.9/site-packages/pandas/core/dtypes/cast.py\u001b[0m in \u001b[0;36mastype_array_safe\u001b[0;34m(values, dtype, copy, errors)\u001b[0m\n\u001b[1;32m   1290\u001b[0m \u001b[0;34m\u001b[0m\u001b[0m\n\u001b[1;32m   1291\u001b[0m     \u001b[0;32mtry\u001b[0m\u001b[0;34m:\u001b[0m\u001b[0;34m\u001b[0m\u001b[0;34m\u001b[0m\u001b[0m\n\u001b[0;32m-> 1292\u001b[0;31m         \u001b[0mnew_values\u001b[0m \u001b[0;34m=\u001b[0m \u001b[0mastype_array\u001b[0m\u001b[0;34m(\u001b[0m\u001b[0mvalues\u001b[0m\u001b[0;34m,\u001b[0m \u001b[0mdtype\u001b[0m\u001b[0;34m,\u001b[0m \u001b[0mcopy\u001b[0m\u001b[0;34m=\u001b[0m\u001b[0mcopy\u001b[0m\u001b[0;34m)\u001b[0m\u001b[0;34m\u001b[0m\u001b[0;34m\u001b[0m\u001b[0m\n\u001b[0m\u001b[1;32m   1293\u001b[0m     \u001b[0;32mexcept\u001b[0m \u001b[0;34m(\u001b[0m\u001b[0mValueError\u001b[0m\u001b[0;34m,\u001b[0m \u001b[0mTypeError\u001b[0m\u001b[0;34m)\u001b[0m\u001b[0;34m:\u001b[0m\u001b[0;34m\u001b[0m\u001b[0;34m\u001b[0m\u001b[0m\n\u001b[1;32m   1294\u001b[0m         \u001b[0;31m# e.g. astype_nansafe can fail on object-dtype of strings\u001b[0m\u001b[0;34m\u001b[0m\u001b[0;34m\u001b[0m\u001b[0m\n",
      "\u001b[0;32m~/opt/anaconda3/lib/python3.9/site-packages/pandas/core/dtypes/cast.py\u001b[0m in \u001b[0;36mastype_array\u001b[0;34m(values, dtype, copy)\u001b[0m\n\u001b[1;32m   1235\u001b[0m \u001b[0;34m\u001b[0m\u001b[0m\n\u001b[1;32m   1236\u001b[0m     \u001b[0;32melse\u001b[0m\u001b[0;34m:\u001b[0m\u001b[0;34m\u001b[0m\u001b[0;34m\u001b[0m\u001b[0m\n\u001b[0;32m-> 1237\u001b[0;31m         \u001b[0mvalues\u001b[0m \u001b[0;34m=\u001b[0m \u001b[0mastype_nansafe\u001b[0m\u001b[0;34m(\u001b[0m\u001b[0mvalues\u001b[0m\u001b[0;34m,\u001b[0m \u001b[0mdtype\u001b[0m\u001b[0;34m,\u001b[0m \u001b[0mcopy\u001b[0m\u001b[0;34m=\u001b[0m\u001b[0mcopy\u001b[0m\u001b[0;34m)\u001b[0m\u001b[0;34m\u001b[0m\u001b[0;34m\u001b[0m\u001b[0m\n\u001b[0m\u001b[1;32m   1238\u001b[0m \u001b[0;34m\u001b[0m\u001b[0m\n\u001b[1;32m   1239\u001b[0m     \u001b[0;31m# in pandas we don't store numpy str dtypes, so convert to object\u001b[0m\u001b[0;34m\u001b[0m\u001b[0;34m\u001b[0m\u001b[0m\n",
      "\u001b[0;32m~/opt/anaconda3/lib/python3.9/site-packages/pandas/core/dtypes/cast.py\u001b[0m in \u001b[0;36mastype_nansafe\u001b[0;34m(arr, dtype, copy, skipna)\u001b[0m\n\u001b[1;32m   1179\u001b[0m     \u001b[0;32mif\u001b[0m \u001b[0mcopy\u001b[0m \u001b[0;32mor\u001b[0m \u001b[0mis_object_dtype\u001b[0m\u001b[0;34m(\u001b[0m\u001b[0marr\u001b[0m\u001b[0;34m.\u001b[0m\u001b[0mdtype\u001b[0m\u001b[0;34m)\u001b[0m \u001b[0;32mor\u001b[0m \u001b[0mis_object_dtype\u001b[0m\u001b[0;34m(\u001b[0m\u001b[0mdtype\u001b[0m\u001b[0;34m)\u001b[0m\u001b[0;34m:\u001b[0m\u001b[0;34m\u001b[0m\u001b[0;34m\u001b[0m\u001b[0m\n\u001b[1;32m   1180\u001b[0m         \u001b[0;31m# Explicit copy, or required since NumPy can't view from / to object.\u001b[0m\u001b[0;34m\u001b[0m\u001b[0;34m\u001b[0m\u001b[0m\n\u001b[0;32m-> 1181\u001b[0;31m         \u001b[0;32mreturn\u001b[0m \u001b[0marr\u001b[0m\u001b[0;34m.\u001b[0m\u001b[0mastype\u001b[0m\u001b[0;34m(\u001b[0m\u001b[0mdtype\u001b[0m\u001b[0;34m,\u001b[0m \u001b[0mcopy\u001b[0m\u001b[0;34m=\u001b[0m\u001b[0;32mTrue\u001b[0m\u001b[0;34m)\u001b[0m\u001b[0;34m\u001b[0m\u001b[0;34m\u001b[0m\u001b[0m\n\u001b[0m\u001b[1;32m   1182\u001b[0m \u001b[0;34m\u001b[0m\u001b[0m\n\u001b[1;32m   1183\u001b[0m     \u001b[0;32mreturn\u001b[0m \u001b[0marr\u001b[0m\u001b[0;34m.\u001b[0m\u001b[0mastype\u001b[0m\u001b[0;34m(\u001b[0m\u001b[0mdtype\u001b[0m\u001b[0;34m,\u001b[0m \u001b[0mcopy\u001b[0m\u001b[0;34m=\u001b[0m\u001b[0mcopy\u001b[0m\u001b[0;34m)\u001b[0m\u001b[0;34m\u001b[0m\u001b[0;34m\u001b[0m\u001b[0m\n",
      "\u001b[0;31mValueError\u001b[0m: could not convert string to float: ''"
     ]
    }
   ],
   "source": [
    "price['100_gr_EUR'] = price['100_gr_EUR'].astype(float)"
   ]
  },
  {
   "cell_type": "code",
   "execution_count": 33,
   "id": "479cb16e",
   "metadata": {},
   "outputs": [
    {
     "ename": "TypeError",
     "evalue": "can't multiply sequence by non-int of type 'float'",
     "output_type": "error",
     "traceback": [
      "\u001b[0;31m---------------------------------------------------------------------------\u001b[0m",
      "\u001b[0;31mTypeError\u001b[0m                                 Traceback (most recent call last)",
      "\u001b[0;32m/var/folders/d0/kyjzvmwn3fdgc5m0t8snt0nm0000gn/T/ipykernel_29050/1279366596.py\u001b[0m in \u001b[0;36m<module>\u001b[0;34m\u001b[0m\n\u001b[0;32m----> 1\u001b[0;31m \u001b[0mprice\u001b[0m\u001b[0;34m[\u001b[0m\u001b[0;34m'100_gr_EUR'\u001b[0m\u001b[0;34m]\u001b[0m \u001b[0;34m=\u001b[0m \u001b[0mprice\u001b[0m\u001b[0;34m[\u001b[0m\u001b[0;34m'100_gr_EUR'\u001b[0m\u001b[0;34m]\u001b[0m\u001b[0;34m.\u001b[0m\u001b[0mround\u001b[0m\u001b[0;34m(\u001b[0m\u001b[0;36m2\u001b[0m\u001b[0;34m)\u001b[0m\u001b[0;34m\u001b[0m\u001b[0;34m\u001b[0m\u001b[0m\n\u001b[0m",
      "\u001b[0;32m~/opt/anaconda3/lib/python3.9/site-packages/pandas/core/series.py\u001b[0m in \u001b[0;36mround\u001b[0;34m(self, decimals, *args, **kwargs)\u001b[0m\n\u001b[1;32m   2440\u001b[0m         \"\"\"\n\u001b[1;32m   2441\u001b[0m         \u001b[0mnv\u001b[0m\u001b[0;34m.\u001b[0m\u001b[0mvalidate_round\u001b[0m\u001b[0;34m(\u001b[0m\u001b[0margs\u001b[0m\u001b[0;34m,\u001b[0m \u001b[0mkwargs\u001b[0m\u001b[0;34m)\u001b[0m\u001b[0;34m\u001b[0m\u001b[0;34m\u001b[0m\u001b[0m\n\u001b[0;32m-> 2442\u001b[0;31m         \u001b[0mresult\u001b[0m \u001b[0;34m=\u001b[0m \u001b[0mself\u001b[0m\u001b[0;34m.\u001b[0m\u001b[0m_values\u001b[0m\u001b[0;34m.\u001b[0m\u001b[0mround\u001b[0m\u001b[0;34m(\u001b[0m\u001b[0mdecimals\u001b[0m\u001b[0;34m)\u001b[0m\u001b[0;34m\u001b[0m\u001b[0;34m\u001b[0m\u001b[0m\n\u001b[0m\u001b[1;32m   2443\u001b[0m         result = self._constructor(result, index=self.index).__finalize__(\n\u001b[1;32m   2444\u001b[0m             \u001b[0mself\u001b[0m\u001b[0;34m,\u001b[0m \u001b[0mmethod\u001b[0m\u001b[0;34m=\u001b[0m\u001b[0;34m\"round\"\u001b[0m\u001b[0;34m\u001b[0m\u001b[0;34m\u001b[0m\u001b[0m\n",
      "\u001b[0;31mTypeError\u001b[0m: can't multiply sequence by non-int of type 'float'"
     ]
    }
   ],
   "source": [
    "price['100_gr_EUR'] = price['100_gr_EUR'].round(2)"
   ]
  }
 ],
 "metadata": {
  "kernelspec": {
   "display_name": "Python 3 (ipykernel)",
   "language": "python",
   "name": "python3"
  },
  "language_info": {
   "codemirror_mode": {
    "name": "ipython",
    "version": 3
   },
   "file_extension": ".py",
   "mimetype": "text/x-python",
   "name": "python",
   "nbconvert_exporter": "python",
   "pygments_lexer": "ipython3",
   "version": "3.9.13"
  }
 },
 "nbformat": 4,
 "nbformat_minor": 5
}
