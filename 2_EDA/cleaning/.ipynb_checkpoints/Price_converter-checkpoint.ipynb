{
 "cells": [
  {
   "cell_type": "code",
   "execution_count": 33,
   "id": "3c3c5128",
   "metadata": {},
   "outputs": [],
   "source": [
    "price.to_csv('AfterSplit.csv')"
   ]
  },
  {
   "cell_type": "markdown",
   "id": "7ab8eed5",
   "metadata": {},
   "source": [
    "Converting the price and the units into € / 100 gramms"
   ]
  },
  {
   "cell_type": "code",
   "execution_count": 2,
   "id": "8c435fa1",
   "metadata": {
    "scrolled": true
   },
   "outputs": [],
   "source": [
    "import pandas as pd\n",
    "import numpy as np\n",
    "feb = pd.read_csv('/Users/david/Documents/GitHub/Final_project_DGU_LDU_COFFEE/2_EDA/cleaning/cleaned_coffee_df_Temp.csv')\n",
    "price = feb['est_price']\n",
    "price = pd.DataFrame(price)\n",
    "price['est_price'] = feb['est_price']\n",
    "price['blind_assessment'] = feb['blind_assessment'] "
   ]
  },
  {
   "cell_type": "markdown",
   "id": "d6220be1",
   "metadata": {},
   "source": [
    "We move in a new column everything after the '/' in a new column"
   ]
  },
  {
   "cell_type": "code",
   "execution_count": 3,
   "id": "4aa5232d",
   "metadata": {},
   "outputs": [],
   "source": [
    "split_values = price['est_price'].str.split('/')\n",
    "# Create a new column 'unit' with the second part of the split values\n",
    "price['after_slash'] = split_values.str[1]"
   ]
  },
  {
   "cell_type": "markdown",
   "id": "57cf6c71",
   "metadata": {},
   "source": [
    "We move in a new column everything before the '/' in a new column"
   ]
  },
  {
   "cell_type": "code",
   "execution_count": 4,
   "id": "47e6a56b",
   "metadata": {},
   "outputs": [],
   "source": [
    "price['before_slash'] = price['est_price'].apply(lambda x: x.split('/')[0])"
   ]
  },
  {
   "cell_type": "markdown",
   "id": "1a77368f",
   "metadata": {},
   "source": [
    "We move in a new column everything before the '/' in a new column"
   ]
  },
  {
   "cell_type": "code",
   "execution_count": 5,
   "id": "c557594d",
   "metadata": {},
   "outputs": [],
   "source": [
    "price['before_DOL'] = price['est_price'].apply(lambda x: x.split('$')[0])"
   ]
  },
  {
   "cell_type": "code",
   "execution_count": 6,
   "id": "80740410",
   "metadata": {
    "scrolled": true
   },
   "outputs": [],
   "source": [
    "#We remove the currency symbol\n",
    "split_values = price['before_slash'].str.split('$')\n",
    "\n",
    "# Create a new column 'price_new' with the second part of the split values\n",
    "price['rem_D'] = split_values.str[1]"
   ]
  },
  {
   "cell_type": "code",
   "execution_count": 7,
   "id": "ea12a7ca",
   "metadata": {},
   "outputs": [],
   "source": [
    "replace_dict = {'NT': '', '.': ','}\n",
    "price['rem_D'] = price['rem_D'].replace(replace_dict)"
   ]
  },
  {
   "cell_type": "code",
   "execution_count": 8,
   "id": "579a4095",
   "metadata": {},
   "outputs": [
    {
     "data": {
      "text/plain": [
       "'NT 700'"
      ]
     },
     "execution_count": 8,
     "metadata": {},
     "output_type": "execute_result"
    }
   ],
   "source": [
    "price.loc[1893, 'rem_D']"
   ]
  },
  {
   "cell_type": "code",
   "execution_count": 9,
   "id": "e5094215",
   "metadata": {},
   "outputs": [],
   "source": [
    "#One string is still reminding :\n",
    "price.loc[1893, 'rem_D'] = price.loc[1893, 'rem_D'].replace('NT', '', 1893)"
   ]
  },
  {
   "cell_type": "code",
   "execution_count": 10,
   "id": "ed33175a",
   "metadata": {},
   "outputs": [
    {
     "data": {
      "text/plain": [
       "dtype('O')"
      ]
     },
     "execution_count": 10,
     "metadata": {},
     "output_type": "execute_result"
    }
   ],
   "source": [
    "price['rem_D'].dtypes"
   ]
  },
  {
   "cell_type": "code",
   "execution_count": 11,
   "id": "852cfec3",
   "metadata": {},
   "outputs": [],
   "source": [
    "price['rem_D'] = price['rem_D'].str.strip()"
   ]
  },
  {
   "cell_type": "code",
   "execution_count": 13,
   "id": "41e8d2ee",
   "metadata": {},
   "outputs": [
    {
     "data": {
      "text/html": [
       "<div>\n",
       "<style scoped>\n",
       "    .dataframe tbody tr th:only-of-type {\n",
       "        vertical-align: middle;\n",
       "    }\n",
       "\n",
       "    .dataframe tbody tr th {\n",
       "        vertical-align: top;\n",
       "    }\n",
       "\n",
       "    .dataframe thead th {\n",
       "        text-align: right;\n",
       "    }\n",
       "</style>\n",
       "<table border=\"1\" class=\"dataframe\">\n",
       "  <thead>\n",
       "    <tr style=\"text-align: right;\">\n",
       "      <th></th>\n",
       "      <th>est_price</th>\n",
       "      <th>blind_assessment</th>\n",
       "      <th>after_slash</th>\n",
       "      <th>before_slash</th>\n",
       "      <th>before_DOL</th>\n",
       "      <th>rem_D</th>\n",
       "    </tr>\n",
       "  </thead>\n",
       "  <tbody>\n",
       "    <tr>\n",
       "      <th>170</th>\n",
       "      <td>$NT$520/200g</td>\n",
       "      <td>Resonantly floral, fruit-driven. Narcissus, po...</td>\n",
       "      <td>200g</td>\n",
       "      <td>$NT$520</td>\n",
       "      <td></td>\n",
       "      <td></td>\n",
       "    </tr>\n",
       "    <tr>\n",
       "      <th>171</th>\n",
       "      <td>$NT$1000/200g</td>\n",
       "      <td>Sweet-tart, gently herbaceous. Dried apricot, ...</td>\n",
       "      <td>200g</td>\n",
       "      <td>$NT$1000</td>\n",
       "      <td></td>\n",
       "      <td></td>\n",
       "    </tr>\n",
       "  </tbody>\n",
       "</table>\n",
       "</div>"
      ],
      "text/plain": [
       "         est_price                                   blind_assessment  \\\n",
       "170   $NT$520/200g  Resonantly floral, fruit-driven. Narcissus, po...   \n",
       "171  $NT$1000/200g  Sweet-tart, gently herbaceous. Dried apricot, ...   \n",
       "\n",
       "    after_slash before_slash before_DOL rem_D  \n",
       "170        200g      $NT$520                   \n",
       "171        200g     $NT$1000                   "
      ]
     },
     "execution_count": 13,
     "metadata": {},
     "output_type": "execute_result"
    }
   ],
   "source": [
    "# We identify the empty value which provide a \"\"\n",
    "empty_rows = price[price['rem_D'] == '']\n",
    "empty_rows"
   ]
  },
  {
   "cell_type": "code",
   "execution_count": 14,
   "id": "a4908616",
   "metadata": {},
   "outputs": [],
   "source": [
    "price.loc[171, 'rem_D'] = 1000\n",
    "price.loc[170, 'rem_D'] = 520"
   ]
  },
  {
   "cell_type": "code",
   "execution_count": 16,
   "id": "f439b6b4",
   "metadata": {},
   "outputs": [],
   "source": [
    "price.dropna(subset=['rem_D'], inplace=True)"
   ]
  },
  {
   "cell_type": "code",
   "execution_count": 17,
   "id": "773a8ba9",
   "metadata": {},
   "outputs": [],
   "source": [
    "price['rem_D'] = price['rem_D'].str.replace(',', '')"
   ]
  },
  {
   "cell_type": "code",
   "execution_count": 18,
   "id": "39378baf",
   "metadata": {},
   "outputs": [],
   "source": [
    "price.loc[217, 'rem_D'] = price.loc[217, 'rem_D'].replace(',', '', 217)\n",
    "price.loc[219, 'rem_D'] = price.loc[219, 'rem_D'].replace(',', '', 219)"
   ]
  },
  {
   "cell_type": "code",
   "execution_count": 19,
   "id": "7a28af3b",
   "metadata": {},
   "outputs": [
    {
     "data": {
      "text/plain": [
       "'1500'"
      ]
     },
     "execution_count": 19,
     "metadata": {},
     "output_type": "execute_result"
    }
   ],
   "source": [
    "price.loc[217, 'rem_D']"
   ]
  },
  {
   "cell_type": "code",
   "execution_count": 20,
   "id": "4cb706aa",
   "metadata": {},
   "outputs": [
    {
     "data": {
      "text/plain": [
       "'1500'"
      ]
     },
     "execution_count": 20,
     "metadata": {},
     "output_type": "execute_result"
    }
   ],
   "source": [
    "price.loc[219, 'rem_D']"
   ]
  },
  {
   "cell_type": "markdown",
   "id": "75646903",
   "metadata": {},
   "source": [
    "We will move the rest of the String from 'rem_D' to 'before_DOL'"
   ]
  },
  {
   "cell_type": "code",
   "execution_count": 23,
   "id": "c9cd010c",
   "metadata": {},
   "outputs": [],
   "source": [
    "price['rem_D'] = pd.to_numeric(price['rem_D'], errors='coerce')"
   ]
  },
  {
   "cell_type": "code",
   "execution_count": 24,
   "id": "a9fa6e89",
   "metadata": {},
   "outputs": [],
   "source": [
    "price['rem_D'] = price['rem_D'].astype(float)"
   ]
  },
  {
   "cell_type": "code",
   "execution_count": 25,
   "id": "997000eb",
   "metadata": {},
   "outputs": [],
   "source": [
    "# For CAD Canadien Dollar\n",
    "for index, row in price.iterrows():\n",
    "    if isinstance(row['rem_D'], float):\n",
    "        # Handle NaN or other float values as needed\n",
    "        continue\n",
    "\n",
    "    if 'CAD' in row['rem_D']:\n",
    "        row['before_DOL'] += 'CAD '\n",
    "        row['rem_D'] = row['rem_D'].replace('CAD', '').strip()\n",
    "# Same for Laotian Kip Currency\n",
    "\n",
    "for index, row in price.iterrows():\n",
    "    if isinstance(row['rem_D'], float):\n",
    "        # Handle NaN or other float values as needed\n",
    "        continue\n",
    "\n",
    "    if 'LAK' in row['rem_D']:\n",
    "        row['before_DOL'] += 'LAK '\n",
    "        row['rem_D'] = row['rem_D'].replace('LAK', '').strip()\n",
    "        \n",
    "# Same for New Taiwan dollar Currency\n",
    "\n",
    "for index, row in price.iterrows():\n",
    "    if isinstance(row['rem_D'], float):\n",
    "        # Handle NaN or other float values as needed\n",
    "        continue\n",
    "\n",
    "    if 'NTD' in row['rem_D']:\n",
    "        row['before_DOL'] += 'NTD '\n",
    "        row['rem_D'] = row['rem_D'].replace('NTD', '').strip()"
   ]
  },
  {
   "cell_type": "code",
   "execution_count": 29,
   "id": "4f4b2b4e",
   "metadata": {},
   "outputs": [
    {
     "data": {
      "text/plain": [
       "0"
      ]
     },
     "execution_count": 29,
     "metadata": {},
     "output_type": "execute_result"
    }
   ],
   "source": [
    "#To simplify the database we drop the rest of the record which lack of informations\n",
    "missing_count = price['rem_D'].isna().sum()\n",
    "missing_count"
   ]
  },
  {
   "cell_type": "code",
   "execution_count": 28,
   "id": "74f9f431",
   "metadata": {},
   "outputs": [],
   "source": [
    "price.dropna(subset=['rem_D'], inplace=True)"
   ]
  },
  {
   "cell_type": "markdown",
   "id": "2a6101a8",
   "metadata": {},
   "source": [
    "**EURO Convertion**"
   ]
  },
  {
   "cell_type": "code",
   "execution_count": 37,
   "id": "3af6b74d",
   "metadata": {},
   "outputs": [
    {
     "data": {
      "text/plain": [
       "array(['', 'NT ', 'NT', 'CAD ', 'HKD ', 'HK ', 'US ', 'USD ', 'IDR ',\n",
       "       'NTD ', 'AED ', 'AUD ', 'KRW ', 'THB ', 'RMB ', 'CNY ', 'TWD ',\n",
       "       'KRW', 'NTD', 'Price: '], dtype=object)"
      ]
     },
     "execution_count": 37,
     "metadata": {},
     "output_type": "execute_result"
    }
   ],
   "source": [
    "price['before_DOL'].unique()"
   ]
  },
  {
   "cell_type": "code",
   "execution_count": 30,
   "id": "aaebe2dc",
   "metadata": {},
   "outputs": [],
   "source": [
    "#We create a column named 'Euro'\n",
    "price['Euro'] = pd.Series('', index=price.index)"
   ]
  },
  {
   "cell_type": "code",
   "execution_count": 38,
   "id": "1e2a6ae0",
   "metadata": {},
   "outputs": [],
   "source": [
    "# DOLLAR to EURO\n",
    "# converting the US Dollar in price['Euro']\n",
    "price['Euro'] = price.apply(lambda x: x['rem_D']*0.94 if pd.isna(x['before_DOL']) or x['before_DOL'] == '' else x['Euro'], axis=1)"
   ]
  },
  {
   "cell_type": "code",
   "execution_count": null,
   "id": "3e592e2a",
   "metadata": {},
   "outputs": [],
   "source": [
    "# CAD DOLLAR to EURO\n",
    "price['Euro'] = price.apply(lambda x: x['rem_D']*0.94 if pd.isna(x['before_DOL']) or x['before_DOL'] == '' else x['Euro'], axis=1)"
   ]
  },
  {
   "cell_type": "code",
   "execution_count": 32,
   "id": "26702992",
   "metadata": {},
   "outputs": [
    {
     "data": {
      "text/plain": [
       "0          28.2\n",
       "1         150.4\n",
       "2         26.32\n",
       "3         19.27\n",
       "4       17.8506\n",
       "         ...   \n",
       "4944      25.38\n",
       "4945     18.283\n",
       "4946       9.87\n",
       "4947    13.1506\n",
       "4948     11.233\n",
       "Name: Euro, Length: 4874, dtype: object"
      ]
     },
     "execution_count": 32,
     "metadata": {},
     "output_type": "execute_result"
    }
   ],
   "source": [
    "price['Euro']"
   ]
  },
  {
   "cell_type": "code",
   "execution_count": 63,
   "id": "3f4291bb",
   "metadata": {},
   "outputs": [
    {
     "data": {
      "text/plain": [
       "dtype('float64')"
      ]
     },
     "execution_count": 63,
     "metadata": {},
     "output_type": "execute_result"
    }
   ],
   "source": [
    "price['rem_D'].dtypes"
   ]
  },
  {
   "cell_type": "code",
   "execution_count": 61,
   "id": "97a0973a",
   "metadata": {},
   "outputs": [],
   "source": []
  },
  {
   "cell_type": "code",
   "execution_count": null,
   "id": "9f70dd1e",
   "metadata": {},
   "outputs": [],
   "source": [
    "# TAIWAN DOLLAR to EURO"
   ]
  },
  {
   "cell_type": "code",
   "execution_count": null,
   "id": "6eb7e3c4",
   "metadata": {},
   "outputs": [],
   "source": [
    "# LAK to EURO"
   ]
  }
 ],
 "metadata": {
  "kernelspec": {
   "display_name": "Python 3 (ipykernel)",
   "language": "python",
   "name": "python3"
  },
  "language_info": {
   "codemirror_mode": {
    "name": "ipython",
    "version": 3
   },
   "file_extension": ".py",
   "mimetype": "text/x-python",
   "name": "python",
   "nbconvert_exporter": "python",
   "pygments_lexer": "ipython3",
   "version": "3.9.13"
  }
 },
 "nbformat": 4,
 "nbformat_minor": 5
}
