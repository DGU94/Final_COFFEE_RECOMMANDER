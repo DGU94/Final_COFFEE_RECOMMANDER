{
 "cells": [
  {
   "cell_type": "code",
   "execution_count": null,
   "id": "adc2fcd5",
   "metadata": {},
   "outputs": [],
   "source": [
    "def Coffee4All():\n",
    "    \"\"\"This function launces the programme.\"\"\""
   ]
  },
  {
   "cell_type": "code",
   "execution_count": 2,
   "id": "35c5cbc6",
   "metadata": {},
   "outputs": [
    {
     "name": "stdout",
     "output_type": "stream",
     "text": [
      "*************************************************************************\n",
      "        WELCOME TO COFFEE4ALL – Your source of great coffee!             \n",
      "*************************************************************************\n",
      "                                                                         \n",
      "                                                     * * *               \n",
      "                                                      * * *              \n",
      "     Brought to you by:                              * * *               \n",
      "     David Guillet & Laurens Duin                   * * *                \n",
      "                                                 **************          \n",
      "                                                 **************          \n",
      "                                                  ************           \n",
      "                                                   **********            \n",
      "                                                 ***************         \n",
      "                                                                         \n",
      "*************************************************************************\n"
     ]
    }
   ],
   "source": [
    "print(\"*************************************************************************\")\n",
    "print(\"        WELCOME TO COFFEE4ALL – Your source of great coffee!             \")\n",
    "print(\"*************************************************************************\")\n",
    "print(\"                                                                         \")\n",
    "print(\"                                                     * * *               \")\n",
    "print(\"                                                      * * *              \")\n",
    "print(\"     Brought to you by:                              * * *               \")\n",
    "print(\"     David Guillet & Laurens Duin                   * * *                \")\n",
    "print(\"                                                 **************          \")\n",
    "print(\"                                                 **************          \")\n",
    "print(\"                                                  ************           \")\n",
    "print(\"                                                   **********            \")\n",
    "print(\"                                                 ***************         \")\n",
    "print(\"                                                                         \")\n",
    "print(\"*************************************************************************\")"
   ]
  },
  {
   "cell_type": "code",
   "execution_count": 4,
   "id": "3cb888b6",
   "metadata": {},
   "outputs": [],
   "source": [
    "# ideas for the programme:\n",
    "\n",
    "# possible names: RoastWise, BrewSavant, CoffeeHero\n",
    "\n",
    "# programme starts, user gets three options:\n",
    "# 1. random (something along the lines of \"I'm feeling lucky\")\n",
    "# 2. top 5 best coffees (either based on rating or lowest price)\n",
    "# 3. custom selection:\n",
    " # - First ask the user for three things that they value in a coffee (use this to filter the data)\n",
    " # - Ask the user to give their preferences on the following four categories: roast, origin, price and rating"
   ]
  },
  {
   "cell_type": "code",
   "execution_count": null,
   "id": "19057406",
   "metadata": {},
   "outputs": [],
   "source": []
  }
 ],
 "metadata": {
  "kernelspec": {
   "display_name": "Python 3 (ipykernel)",
   "language": "python",
   "name": "python3"
  },
  "language_info": {
   "codemirror_mode": {
    "name": "ipython",
    "version": 3
   },
   "file_extension": ".py",
   "mimetype": "text/x-python",
   "name": "python",
   "nbconvert_exporter": "python",
   "pygments_lexer": "ipython3",
   "version": "3.9.13"
  }
 },
 "nbformat": 4,
 "nbformat_minor": 5
}
