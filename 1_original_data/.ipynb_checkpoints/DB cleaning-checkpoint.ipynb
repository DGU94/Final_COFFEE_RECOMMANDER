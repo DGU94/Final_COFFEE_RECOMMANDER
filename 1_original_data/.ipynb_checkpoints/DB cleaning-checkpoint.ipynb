{
 "cells": [
  {
   "cell_type": "markdown",
   "id": "7ab8eed5",
   "metadata": {},
   "source": [
    "RECOMMANDATION PROGRAMME - Option 2"
   ]
  },
  {
   "cell_type": "code",
   "execution_count": 2,
   "id": "19ef0a52",
   "metadata": {},
   "outputs": [],
   "source": [
    "import pandas as pd"
   ]
  },
  {
   "cell_type": "code",
   "execution_count": 5,
   "id": "6007bf90",
   "metadata": {
    "scrolled": true
   },
   "outputs": [],
   "source": [
    "sim = pd.read_csv('/Users/david/Documents/GitHub/Final_project_DGU_LDU_COFFEE/1_original_data/simplified_coffee.csv')\n",
    "base = pd.read_csv('/Users/david/Documents/GitHub/Final_project_DGU_LDU_COFFEE/1_original_data/coffee_df.csv')"
   ]
  },
  {
   "cell_type": "code",
   "execution_count": null,
   "id": "d2e5d762",
   "metadata": {},
   "outputs": [],
   "source": []
  }
 ],
 "metadata": {
  "kernelspec": {
   "display_name": "Python 3 (ipykernel)",
   "language": "python",
   "name": "python3"
  },
  "language_info": {
   "codemirror_mode": {
    "name": "ipython",
    "version": 3
   },
   "file_extension": ".py",
   "mimetype": "text/x-python",
   "name": "python",
   "nbconvert_exporter": "python",
   "pygments_lexer": "ipython3",
   "version": "3.9.13"
  }
 },
 "nbformat": 4,
 "nbformat_minor": 5
}
