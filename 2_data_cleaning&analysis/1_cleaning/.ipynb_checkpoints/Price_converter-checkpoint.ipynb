{
 "cells": [
  {
   "cell_type": "markdown",
   "id": "7ab8eed5",
   "metadata": {},
   "source": [
    "Converting the price and the units into € / 100 gramms"
   ]
  },
  {
   "cell_type": "code",
   "execution_count": 1,
   "id": "8c435fa1",
   "metadata": {
    "scrolled": true
   },
   "outputs": [],
   "source": [
    "import pandas as pd\n",
    "import numpy as np\n",
    "\n",
    "feb = pd.read_csv('/Users/david/Documents/GitHub/Final_project_DGU_LDU_COFFEE/2_data_cleaning&analysis/1_cleaning/cleaned_coffee_df_Temp.csv')\n",
    "\n",
    "price = feb['est_price']\n",
    "price = pd.DataFrame(price)\n",
    "price['est_price'] = feb['est_price']\n",
    "price['blind_assessment'] = feb['blind_assessment'] "
   ]
  },
  {
   "cell_type": "markdown",
   "id": "d6220be1",
   "metadata": {},
   "source": [
    "We move in a new column everything after the '/' in a new column"
   ]
  },
  {
   "cell_type": "code",
   "execution_count": 2,
   "id": "4aa5232d",
   "metadata": {},
   "outputs": [],
   "source": [
    "split_values = price['est_price'].str.split('/')\n",
    "# Create a new column 'unit' with the second part of the split values\n",
    "price['after_slash'] = split_values.str[1]"
   ]
  },
  {
   "cell_type": "markdown",
   "id": "57cf6c71",
   "metadata": {},
   "source": [
    "We move in a new column everything before the '/' in a new column"
   ]
  },
  {
   "cell_type": "code",
   "execution_count": 3,
   "id": "47e6a56b",
   "metadata": {},
   "outputs": [],
   "source": [
    "price['before_slash'] = price['est_price'].apply(lambda x: x.split('/')[0])"
   ]
  },
  {
   "cell_type": "markdown",
   "id": "1a77368f",
   "metadata": {},
   "source": [
    "We move in a new column everything before the '/' in a new column"
   ]
  },
  {
   "cell_type": "code",
   "execution_count": 4,
   "id": "c557594d",
   "metadata": {},
   "outputs": [],
   "source": [
    "price['before_DOL'] = price['est_price'].apply(lambda x: x.split('$')[0])"
   ]
  },
  {
   "cell_type": "code",
   "execution_count": 5,
   "id": "80740410",
   "metadata": {
    "scrolled": true
   },
   "outputs": [],
   "source": [
    "#We remove the currency symbol\n",
    "split_values = price['before_slash'].str.split('$')\n",
    "\n",
    "# Create a new column 'price_new' with the second part of the split values\n",
    "price['rem_D'] = split_values.str[1]"
   ]
  },
  {
   "cell_type": "code",
   "execution_count": 6,
   "id": "ea12a7ca",
   "metadata": {},
   "outputs": [],
   "source": [
    "replace_dict = {'NT': '', '.': ','}\n",
    "price['rem_D'] = price['rem_D'].replace(replace_dict)"
   ]
  },
  {
   "cell_type": "code",
   "execution_count": 7,
   "id": "579a4095",
   "metadata": {},
   "outputs": [
    {
     "data": {
      "text/plain": [
       "'NT 700'"
      ]
     },
     "execution_count": 7,
     "metadata": {},
     "output_type": "execute_result"
    }
   ],
   "source": [
    "price.loc[1893, 'rem_D']"
   ]
  },
  {
   "cell_type": "code",
   "execution_count": 8,
   "id": "e5094215",
   "metadata": {},
   "outputs": [],
   "source": [
    "#One string is still reminding :\n",
    "price.loc[1893, 'rem_D'] = price.loc[1893, 'rem_D'].replace('NT', '', 1893)"
   ]
  },
  {
   "cell_type": "code",
   "execution_count": 9,
   "id": "ed33175a",
   "metadata": {},
   "outputs": [
    {
     "data": {
      "text/plain": [
       "dtype('O')"
      ]
     },
     "execution_count": 9,
     "metadata": {},
     "output_type": "execute_result"
    }
   ],
   "source": [
    "price['rem_D'].dtypes"
   ]
  },
  {
   "cell_type": "code",
   "execution_count": 10,
   "id": "852cfec3",
   "metadata": {},
   "outputs": [],
   "source": [
    "price['rem_D'] = price['rem_D'].str.strip()"
   ]
  },
  {
   "cell_type": "code",
   "execution_count": 11,
   "id": "41e8d2ee",
   "metadata": {},
   "outputs": [
    {
     "data": {
      "text/html": [
       "<div>\n",
       "<style scoped>\n",
       "    .dataframe tbody tr th:only-of-type {\n",
       "        vertical-align: middle;\n",
       "    }\n",
       "\n",
       "    .dataframe tbody tr th {\n",
       "        vertical-align: top;\n",
       "    }\n",
       "\n",
       "    .dataframe thead th {\n",
       "        text-align: right;\n",
       "    }\n",
       "</style>\n",
       "<table border=\"1\" class=\"dataframe\">\n",
       "  <thead>\n",
       "    <tr style=\"text-align: right;\">\n",
       "      <th></th>\n",
       "      <th>est_price</th>\n",
       "      <th>blind_assessment</th>\n",
       "      <th>after_slash</th>\n",
       "      <th>before_slash</th>\n",
       "      <th>before_DOL</th>\n",
       "      <th>rem_D</th>\n",
       "    </tr>\n",
       "  </thead>\n",
       "  <tbody>\n",
       "    <tr>\n",
       "      <th>170</th>\n",
       "      <td>$NT$520/200g</td>\n",
       "      <td>Resonantly floral, fruit-driven. Narcissus, po...</td>\n",
       "      <td>200g</td>\n",
       "      <td>$NT$520</td>\n",
       "      <td></td>\n",
       "      <td></td>\n",
       "    </tr>\n",
       "    <tr>\n",
       "      <th>171</th>\n",
       "      <td>$NT$1000/200g</td>\n",
       "      <td>Sweet-tart, gently herbaceous. Dried apricot, ...</td>\n",
       "      <td>200g</td>\n",
       "      <td>$NT$1000</td>\n",
       "      <td></td>\n",
       "      <td></td>\n",
       "    </tr>\n",
       "  </tbody>\n",
       "</table>\n",
       "</div>"
      ],
      "text/plain": [
       "         est_price                                   blind_assessment  \\\n",
       "170   $NT$520/200g  Resonantly floral, fruit-driven. Narcissus, po...   \n",
       "171  $NT$1000/200g  Sweet-tart, gently herbaceous. Dried apricot, ...   \n",
       "\n",
       "    after_slash before_slash before_DOL rem_D  \n",
       "170        200g      $NT$520                   \n",
       "171        200g     $NT$1000                   "
      ]
     },
     "execution_count": 11,
     "metadata": {},
     "output_type": "execute_result"
    }
   ],
   "source": [
    "# We identify the empty value which provide a \"\"\n",
    "empty_rows = price[price['rem_D'] == '']\n",
    "empty_rows"
   ]
  },
  {
   "cell_type": "code",
   "execution_count": 12,
   "id": "a4908616",
   "metadata": {},
   "outputs": [],
   "source": [
    "price.loc[171, 'rem_D'] = 1000\n",
    "price.loc[170, 'rem_D'] = 520"
   ]
  },
  {
   "cell_type": "code",
   "execution_count": 13,
   "id": "f439b6b4",
   "metadata": {},
   "outputs": [],
   "source": [
    "price.dropna(subset=['rem_D'], inplace=True)"
   ]
  },
  {
   "cell_type": "code",
   "execution_count": 14,
   "id": "773a8ba9",
   "metadata": {},
   "outputs": [],
   "source": [
    "price['rem_D'] = price['rem_D'].str.replace(',', '')"
   ]
  },
  {
   "cell_type": "code",
   "execution_count": 15,
   "id": "39378baf",
   "metadata": {},
   "outputs": [],
   "source": [
    "price.loc[217, 'rem_D'] = price.loc[217, 'rem_D'].replace(',', '', 217)\n",
    "price.loc[219, 'rem_D'] = price.loc[219, 'rem_D'].replace(',', '', 219)"
   ]
  },
  {
   "cell_type": "code",
   "execution_count": 16,
   "id": "7a28af3b",
   "metadata": {},
   "outputs": [
    {
     "data": {
      "text/plain": [
       "'1500'"
      ]
     },
     "execution_count": 16,
     "metadata": {},
     "output_type": "execute_result"
    }
   ],
   "source": [
    "price.loc[217, 'rem_D']"
   ]
  },
  {
   "cell_type": "code",
   "execution_count": 17,
   "id": "4cb706aa",
   "metadata": {},
   "outputs": [
    {
     "data": {
      "text/plain": [
       "'1500'"
      ]
     },
     "execution_count": 17,
     "metadata": {},
     "output_type": "execute_result"
    }
   ],
   "source": [
    "price.loc[219, 'rem_D']"
   ]
  },
  {
   "cell_type": "markdown",
   "id": "75646903",
   "metadata": {},
   "source": [
    "We will move the rest of the String from 'rem_D' to 'before_DOL'"
   ]
  },
  {
   "cell_type": "code",
   "execution_count": 18,
   "id": "c9cd010c",
   "metadata": {},
   "outputs": [],
   "source": [
    "price['rem_D'] = pd.to_numeric(price['rem_D'], errors='coerce')"
   ]
  },
  {
   "cell_type": "code",
   "execution_count": 19,
   "id": "a9fa6e89",
   "metadata": {},
   "outputs": [],
   "source": [
    "price['rem_D'] = price['rem_D'].astype(float)"
   ]
  },
  {
   "cell_type": "code",
   "execution_count": 20,
   "id": "997000eb",
   "metadata": {},
   "outputs": [],
   "source": [
    "# For CAD Canadien Dollar\n",
    "for index, row in price.iterrows():\n",
    "    if isinstance(row['rem_D'], float):\n",
    "        # Handle NaN or other float values as needed\n",
    "        continue\n",
    "\n",
    "    if 'CAD' in row['rem_D']:\n",
    "        row['before_DOL'] += 'CAD '\n",
    "        row['rem_D'] = row['rem_D'].replace('CAD', '').strip()\n",
    "# Same for Laotian Kip Currency\n",
    "\n",
    "for index, row in price.iterrows():\n",
    "    if isinstance(row['rem_D'], float):\n",
    "        # Handle NaN or other float values as needed\n",
    "        continue\n",
    "\n",
    "    if 'LAK' in row['rem_D']:\n",
    "        row['before_DOL'] += 'LAK '\n",
    "        row['rem_D'] = row['rem_D'].replace('LAK', '').strip()\n",
    "        \n",
    "# Same for New Taiwan dollar Currency\n",
    "\n",
    "for index, row in price.iterrows():\n",
    "    if isinstance(row['rem_D'], float):\n",
    "        # Handle NaN or other float values as needed\n",
    "        continue\n",
    "\n",
    "    if 'NTD' in row['rem_D']:\n",
    "        row['before_DOL'] += 'NTD '\n",
    "        row['rem_D'] = row['rem_D'].replace('NTD', '').strip()"
   ]
  },
  {
   "cell_type": "code",
   "execution_count": 21,
   "id": "4f4b2b4e",
   "metadata": {},
   "outputs": [
    {
     "data": {
      "text/plain": [
       "7"
      ]
     },
     "execution_count": 21,
     "metadata": {},
     "output_type": "execute_result"
    }
   ],
   "source": [
    "#To simplify the database we drop the rest of the record which lack of informations\n",
    "missing_count = price['rem_D'].isna().sum()\n",
    "missing_count"
   ]
  },
  {
   "cell_type": "code",
   "execution_count": 22,
   "id": "74f9f431",
   "metadata": {},
   "outputs": [],
   "source": [
    "price.dropna(subset=['rem_D'], inplace=True)"
   ]
  },
  {
   "cell_type": "markdown",
   "id": "2a6101a8",
   "metadata": {},
   "source": [
    "**Currency convertion into EURO**"
   ]
  },
  {
   "cell_type": "code",
   "execution_count": 23,
   "id": "64223648",
   "metadata": {},
   "outputs": [
    {
     "data": {
      "text/plain": [
       "array(['', 'NT ', 'NT', 'CAD ', 'HKD ', 'HK ', 'US ', 'USD ', 'IDR ',\n",
       "       'NTD ', 'AED ', 'AUD ', 'KRW ', 'THB ', 'RMB ', 'CNY ', 'TWD ',\n",
       "       'KRW', 'NTD', 'Price: '], dtype=object)"
      ]
     },
     "execution_count": 23,
     "metadata": {},
     "output_type": "execute_result"
    }
   ],
   "source": [
    "# First, let´s check the uniques currency\n",
    "price['before_DOL'].unique()"
   ]
  },
  {
   "cell_type": "code",
   "execution_count": 24,
   "id": "aaebe2dc",
   "metadata": {},
   "outputs": [],
   "source": [
    "#We create a column named 'Euro'\n",
    "price['Euro'] = pd.Series('', index=price.index)"
   ]
  },
  {
   "cell_type": "code",
   "execution_count": 25,
   "id": "1e2a6ae0",
   "metadata": {},
   "outputs": [],
   "source": [
    "# converting the US Dollar in price['Euro']\n",
    "# US Dollar to EURO (0,95): 'US ', 'USD ', 'Price'\n",
    "price.loc[price['before_DOL'].str.contains('US\\s*|USD\\s*|Price\\s*', regex=True), 'Euro'] = price['rem_D'] * 0.95\n",
    "price['Euro'] = price.apply(lambda x: x['rem_D']*0.95 if pd.isna(x['before_DOL']) or x['before_DOL'] == '' else x['Euro'], axis=1)"
   ]
  },
  {
   "cell_type": "code",
   "execution_count": 26,
   "id": "3e592e2a",
   "metadata": {},
   "outputs": [],
   "source": [
    "# New Taiwan dollar to Euro (0,031 Euro) :'NT ', 'NT', 'NTD ', 'NTD', 'TWD'\n",
    "price.loc[price['before_DOL'].str.contains('NT\\s*|NTD\\s*|TWD\\s*', regex=True), 'Euro'] = price['rem_D'] * 0.031\n",
    "\n",
    "# CAD dollar to Euro (0.69): 'CAD '\n",
    "price.loc[price['before_DOL'].str.contains('CAD ', regex=True), 'Euro'] = price['rem_D'] * 0.69\n",
    "\n",
    "# Hong Kong Dollar to Euro (0,12): 'HKD ','HK '\n",
    "price.loc[price['before_DOL'].str.contains('HKD\\s*|HK\\s*', regex=True), 'Euro'] = price['rem_D'] * 0.12\n",
    "\n",
    "# Indonesian Rupiah to Euro (0,000061):'IDR ',\n",
    "price.loc[price['before_DOL'].str.contains('IDR\\s*', regex=True), 'Euro'] = price['rem_D'] * 0.000061\n",
    "\n",
    "# United Arab Emirates Dirham to Euro (0,26):'AED ',\n",
    "price.loc[price['before_DOL'].str.contains('AED\\s*', regex=True), 'Euro'] = price['rem_D'] * 0.26\n",
    "\n",
    "# Australian Dollar to Euro (0,63):'AUD ',\n",
    "price.loc[price['before_DOL'].str.contains('AUD\\s*', regex=True), 'Euro'] = price['rem_D'] * 0.63\n",
    "\n",
    "# South Korean won to Euro (0,00072):'KRW ',\n",
    "price.loc[price['before_DOL'].str.contains('KRW\\s*', regex=True), 'Euro'] = price['rem_D'] * 0.00072\n",
    "\n",
    "# Thai Baht to Euro (0,027):'THB ',\n",
    "price.loc[price['before_DOL'].str.contains('THB\\s*', regex=True), 'Euro'] = price['rem_D'] * 0.027\n",
    "\n",
    "# Chinese Yuan to Euro (0,14):'RMB ', 'CNY'\n",
    "price.loc[price['before_DOL'].str.contains('RMB\\s*|CNY\\s*', regex=True), 'Euro'] = price['rem_D'] * 0.14"
   ]
  },
  {
   "cell_type": "markdown",
   "id": "14cbe5c4",
   "metadata": {},
   "source": [
    "**Weight units convertion into 100 gramms**"
   ]
  },
  {
   "cell_type": "code",
   "execution_count": 27,
   "id": "a3b564e5",
   "metadata": {},
   "outputs": [],
   "source": [
    "#We create a column named '100_gr_EUR'\n",
    "price['100_gr_EUR'] = pd.Series('', index=price.index)"
   ]
  },
  {
   "cell_type": "code",
   "execution_count": 28,
   "id": "01981304",
   "metadata": {},
   "outputs": [
    {
     "data": {
      "text/plain": [
       "4"
      ]
     },
     "execution_count": 28,
     "metadata": {},
     "output_type": "execute_result"
    }
   ],
   "source": [
    "#We look for missing value and drop them\n",
    "missings_count = price['after_slash'].isna().sum()\n",
    "missings_count"
   ]
  },
  {
   "cell_type": "code",
   "execution_count": 29,
   "id": "a5878ddf",
   "metadata": {},
   "outputs": [],
   "source": [
    "price.dropna(subset=['after_slash'], inplace=True)"
   ]
  },
  {
   "cell_type": "code",
   "execution_count": 47,
   "id": "249ea7bd",
   "metadata": {},
   "outputs": [],
   "source": [
    "# 12 ounces : '12 ounce', 12 ounces, 12-ounce bottle, 12 oz, 12 onces, 340\n",
    "price.loc[price['after_slash'].str.contains('12 ounces\\s*| 12 oz\\s*|12 oz\\s*|12-ounce\\s*|12 ounce\\s*|12 onces\\s*', regex=True), '100_gr_EUR'] = price['Euro'] * 0.29\n",
    "\n",
    "# , 8 ounces,' 8 ounces',' 8 oz.', 8 oz., 227 grams , 227g, ' 227 grams'\n",
    "price.loc[price['after_slash'].str.contains('8 ounces\\s*|8-ounce\\s*|8 ounces\\s*|227 grams\\s*|227g\\s*|227 grams\\s*', regex=True), '100_gr_EUR'] = price['Euro'] * 0.29\n",
    "\n",
    "# 4 ounces , 4 ounces, 120 grams, 115 grams\n",
    "price.loc[price['after_slash'].str.contains('(?=.*4 ounces\\s)*|(?=.* 4 ounces\\s)*|(?=.*120 grams\\s)*|(?=.*115 grams\\s)*', regex=True), '100_gr_EUR'] = price['Euro'] * 0.88\n",
    "\n",
    "# 10 ounces, 285 grams\n",
    "price.loc[price['after_slash'].str.contains('(?=.*10 ounces\\s)*|(?=.*285 grams\\s)*', regex=True), '100_gr_EUR'] = price['Euro'] * 0.35\n",
    "\n",
    "# 6 ounces, \n",
    "price.loc[price['after_slash'].str.contains('(?=.*6 ounces\\s)*', regex=True), '100_gr_EUR'] = price['Euro'] * 0.59\n",
    "\n",
    "# 200 grams, 200g, 200 g., 7 ounces, 7 oz.,\n",
    "price.loc[price['after_slash'].str.contains('(?=.*200 grams\\s)*|(?=.* 200 g.\\s)*|(?=.*200g\\s)*|(?=.*7 ounces\\s)*|(?=.* 7 oz.\\s)*|(?=.*7 oz.\\s)*', regex=True), '100_gr_EUR'] = price['Euro'] * 0.50\n",
    "\n",
    "# 60 grams, \n",
    "price.loc[price['after_slash'].str.contains('(?=.*60 grams\\s)*', regex=True), '100_gr_EUR'] = price['Euro'] * 1.67\n",
    "\n",
    "# 16 ounces, ' 16 ounces', ' 16 ounces.', 16ounces,' 16 ounces.',16 oz, 454 grams, 453 grams, 460 g,\n",
    "price.loc[price['after_slash'].str.contains('(?=.*16 ounces\\s)*|(?=.* 16 ounces\\s)*|(?=.*453 grams\\s)*|(?=.*16ounces\\s)*|(?=.*16 ounces.\\s)*|(?=.*16 oz\\s)*|(?=.*454 grams.\\s)*|(?=.*460 grams.\\s)*', regex=True), '100_gr_EUR'] = price['Euro'] * 0.22\n",
    "\n",
    "# 230 grams, 230g\n",
    "price.loc[price['after_slash'].str.contains('(?=.*230 grams\\s)*|(?=.*230g\\s)*', regex=True), '100_gr_EUR'] = price['Euro'] * 0.44\n",
    "\n",
    "# 150 grams, 150-gram, 5.5 ounces\n",
    "price.loc[price['after_slash'].str.contains('(?=.*150 grams\\s)*|(?=.*150-gram\\s)*|(?=.*5.5 ounces\\s)*', regex=True), '100_gr_EUR'] = price['Euro'] * 0.67\n",
    "\n",
    "# 225 grams, 225 gram,' 225 grams',\n",
    "price.loc[price['after_slash'].str.contains('(?=.*225 gram\\s)*|(?=.* 225 grams\\s)*', regex=True), '100_gr_EUR'] = price['Euro'] * 0.44\n",
    "\n",
    "# 14 ounces, 400 grams\n",
    "price.loc[price['after_slash'].str.contains('(?=.*14 ounces\\s)*|(?=.*400 grams\\s)*', regex=True), '100_gr_EUR'] = price['Euro'] * 0.25\n",
    "\n",
    "# 240 grams\n",
    "price.loc[price['after_slash'].str.contains('(?=.*240 grams\\s)*', regex=True), '100_gr_EUR'] = price['Euro'] * 0.42\n",
    "\n",
    "# 250 g., 250 gram, ' 250 g.',250 g., 8.8 oz, 8.8 ounces\n",
    "price.loc[price['after_slash'].str.contains('(?=.*250 g\\s)*|(?=.*250 gram\\s)*|(?=.* 250 g\\s)*|(?=.*8.8\\s)*|(?=.*8.8 ounces\\s)*', regex=True), '100_gr_EUR'] = price['Euro'] * 0.40\n",
    "\n",
    "# 100 grams, 3.5 ounces, 105 grams\n",
    "price.loc[price['after_slash'].str.contains('(?=.*100 grams\\s)*|(?=.*3.5 ounces\\s)*|(?=.*105 grams\\s)*', regex=True), '100_gr_EUR'] = price['Euro'] * 1\n",
    "\n",
    "# 50 gram, 50 g. \n",
    "price.loc[price['after_slash'].str.contains('(?=.*50 gram\\s)*|(?=.*50 g. \\s)*', regex=True), '100_gr_EUR'] = price['Euro'] * 2.00\n",
    "\n",
    "# 20 grams, 21 grams\n",
    "price.loc[price['after_slash'].str.contains('(?=.*20 grams\\s)*|(?=.*21 grams\\s)*', regex=True), '100_gr_EUR'] = price['Euro'] * 5.00\n",
    "\n",
    "# 175 grams\n",
    "price.loc[price['after_slash'].str.contains('(?=.*175 grams\\s)*', regex=True), '100_gr_EUR'] = price['Euro'] *0.57\n",
    "\n",
    "# 10.5 ounces, 300 grams\n",
    "price.loc[price['after_slash'].str.contains('(?=.*10.5 ounces\\s)*|(?=.*300 grams\\s)*', regex=True), '100_gr_EUR'] = price['Euro'] *0.33\n",
    "\n",
    "# 5 ounces\n",
    "price.loc[price['after_slash'].str.contains('(?=.*5 ounces\\s)*', regex=True), '100_gr_EUR'] = price['Euro'] *0.71\n",
    "\n",
    "# 220 grams, \n",
    "price.loc[price['after_slash'].str.contains('(?=.*220 grams\\s)*', regex=True), '100_gr_EUR'] = price['Euro'] *0.45\n",
    "\n",
    "# 5.5 ounces\n",
    "price.loc[price['after_slash'].str.contains('(?=.*5.5 ounces\\s)*', regex=True), '100_gr_EUR'] = price['Euro'] *0.64\n",
    "\n",
    "# 500 grams, 500 grams, 500 g. \n",
    "price.loc[price['after_slash'].str.contains('(?=.*500 grams\\s)*|(?=.*500 grams\\s)*|(?=.*500 g.\\s)*', regex=True), '100_gr_EUR'] = price['Euro'] * 0.20\n",
    "\n",
    "# 12.64 ounces, \n",
    "price.loc[price['after_slash'].str.contains('(?=.*12.64 ounces\\s)*', regex=True), '100_gr_EUR'] = price['Euro'] * 0.28\n",
    "\n",
    "# 11 ounces\n",
    "price.loc[price['after_slash'].str.contains('(?=.*11 ounces\\s)*', regex=True), '100_gr_EUR'] = price['Euro'] *0.32\n",
    "\n",
    "# 20 ounces, \n",
    "price.loc[price['after_slash'].str.contains('(?=.*20 ounces\\s)*', regex=True), '100_gr_EUR'] = price['Euro'] * 0.18\n",
    "\n",
    "# 32 ounces,\n",
    "price.loc[price['after_slash'].str.contains('(?=.*32 ounces\\s)*', regex=True), '100_gr_EUR'] = price['Euro'] * 0.11\n",
    "\n",
    "# 22 ounces,\n",
    "price.loc[price['after_slash'].str.contains('(?=.*22 ounces\\s)*', regex=True), '100_gr_EUR'] = price['Euro'] * 0.16\n",
    "\n",
    "# 2 ounces,\n",
    "price.loc[price['after_slash'].str.contains('(?=.*2 ounces\\s)*', regex=True), '100_gr_EUR'] = price['Euro'] * 1.79\n",
    "\n",
    "# 30 ounces, 2 pounds, \n",
    "price.loc[price['after_slash'].str.contains('(?=.*30 ounces\\s)*|(?=.*2 pounds\\s)*', regex=True), '100_gr_EUR'] = price['Euro'] * 0.12\n",
    "\n",
    "# 70 grams\n",
    "price.loc[price['after_slash'].str.contains('(?=.* 70 grams\\s)*', regex=True), '100_gr_EUR'] = price['Euro'] * 1.43\n",
    "\n",
    "# 24 ounces\n",
    "price.loc[price['after_slash'].str.contains('(?=.*24 ounces\\s)*', regex=True), '100_gr_EUR'] = price['Euro'] * 0.15\n",
    "\n",
    "# 36 ounces\n",
    "price.loc[price['after_slash'].str.contains('(?=.*36 ounces\\s)*', regex=True), '100_gr_EUR'] = price['Euro'] * 0.10\n",
    "\n",
    "# 11.3 ounces, 320 grams\n",
    "price.loc[price['after_slash'].str.contains('(?=.*11.3 ounces\\s)*|(?=.*320 grams\\s)*', regex=True), '100_gr_EUR'] = price['Euro'] * 0.31\n",
    "\n",
    "# 28 ounces\n",
    "price.loc[price['after_slash'].str.contains('(?=.*28 ounces\\s)*', regex=True), '100_gr_EUR'] = price['Euro'] * 0.13\n",
    "\n",
    "# 10.3 ounces'\n",
    "price.loc[price['after_slash'].str.contains('(?=.*10.3 ounces\\s)*', regex=True), '100_gr_EUR'] = price['Euro'] * 0.34\n",
    "\n",
    "# 13 ounces\n",
    "price.loc[price['after_slash'].str.contains('(?=.*13 ounces\\s)*', regex=True), '100_gr_EUR'] = price['Euro'] * 0.27\n",
    "\n",
    "# 165 grams\n",
    "price.loc[price['after_slash'].str.contains('(?=.*165 grams\\s)*', regex=True), '100_gr_EUR'] = price['Euro'] * 0.61\n",
    "# 6 pounds\n",
    "price.loc[price['after_slash'].str.contains('(?=.*6 pounds\\s)*', regex=True), '100_gr_EUR'] = price['Euro'] * 0.04\n",
    "\n",
    "# 1 kilogram\n",
    "price.loc[price['after_slash'].str.contains('(?=.*1 kilogram\\s)*', regex=True), '100_gr_EUR'] = price['Euro'] * 0.10"
   ]
  },
  {
   "cell_type": "code",
   "execution_count": 41,
   "id": "804f829e",
   "metadata": {
    "scrolled": true
   },
   "outputs": [
    {
     "data": {
      "text/plain": [
       "array(['12 ounces', '8 ounces', '4 ounces', '227 grams', '10 ounces',\n",
       "       '6 ounces', '200 grams', '60 grams', '16 ounces', '230 grams',\n",
       "       '150 grams', '225 grams', '14 ounces', '240 grams', '250 grams',\n",
       "       '100 grams', '50 grams', '230g', '200g', '454 grams', ' 12 ounces',\n",
       "       '20 grams', ' 8 ounces', '175 grams', '285 grams', '10.5 ounces',\n",
       "       '70 grams; $200.00', '120 grams', '455 grams', '113 grams',\n",
       "       '400 grams', '227g', '115 grams', '24 ounces', '275 grams',\n",
       "       '300 grams', '7 ounces', ' 227 grams', '5 ounces', '220 grams',\n",
       "       '105 grams', '5.5 ounces', '10 capsules', '12.64 ounces',\n",
       "       'six 8-ounce cans', '375 ml. flask', '150-gram tin',\n",
       "       'twelve 6-ounce cans', 'six 12-ounce cans', '12-ounce bottle',\n",
       "       'four 8-ounce cans', '280 ml can', '200-ml bottle',\n",
       "       '160-ml bottle', '453 grams', '500 grams', '460 grams',\n",
       "       '11 ounces', 'seven single-serve pouches', '20 ounces (2 types)',\n",
       "       '32 ounces', '22 ounces', ' 7 ounces', '340 grams',\n",
       "       '12 ounces; $50.00', '12 ounces (includes shipping)',\n",
       "       '12 ounces ($79.00', '12 ounces; $35.00',\n",
       "       '8 ounces (currently on sale for $36.76)',\n",
       "       'sachet (plus one donated)', '222 grams', '2 ounces', '450 grams',\n",
       "       '30 ounces',\n",
       "       '8 ounces (packaged as a \"duo\" with the Bourbon Rey Jamaica)',\n",
       "       '2 pounds', '8 single-serve packets',\n",
       "       'five 5-gram single-serve packets', '6 pounds', '3 pounds',\n",
       "       '12 sticks', '8 ounces*', '18 grams',\n",
       "       '8 ounces (packaged as a \"duo\" with Bourbon Rey Guatemala)',\n",
       "       '21 grams', '4 ounces; limited availability',\n",
       "       '7 ounces (198 grams)', '12 ounces online; $12.99', '225 gram',\n",
       "       'eight 3.3 gram packets', '45 grams (approx. 9 servings)',\n",
       "       'eight 5-gram tubes', 'six 5-gram single-serve packets',\n",
       "       'six 5-gram packets', '8 ounces (226 grams)',\n",
       "       'thirty 1.6-gram single-serve packets', '3.4 ounces', '1 kilogram',\n",
       "       '113.5 grams', '12 capsules', '320 grams', '28 ounces',\n",
       "       '10.3 ounces', '13 ounces', '24 K-Cups', '16 K-cups', '18 K-Cups',\n",
       "       '8.8 ounces', '24 K-cups', '12 ounces (sold out)', '165 grams',\n",
       "       '16 K-Cups', '32 K-Cups', '18 capsules', '7 ounces (see notes)',\n",
       "       '125 grams', '75 grams', '2.2 pounds', '36 ounces',\n",
       "       '10 ounces (free shipping)', '25 grams',\n",
       "       '10 single-serve capsules', '554 grams', ' 16 ounces',\n",
       "       ' 225 grams', '3.5 ounces', '50 g.', '12 K-Cups',\n",
       "       '14 single-serve capsules', '12 single-serve capsules',\n",
       "       '12 single-serve pods', '16 Vue-Packs', '90 capsules', '12 pods',\n",
       "       '10 capsultes', '12 single-serve cups', '24 RealCup capsules',\n",
       "       '48 RealCup capsules', ' 16 ounces.', '12 ounces.', '12 onces',\n",
       "       '250 grams (8.8 oz.)', '200 g.', '16ounces', '40 ounces',\n",
       "       '48 ounces', '11.3 ounces', '5.3 ounces', '48 K-Cups',\n",
       "       '14 Single-Serve Pods', '1 kg. (2.2 lbs.)',\n",
       "       '16 oz. liquid concentrate', '500 grams (17.6 oz.)',\n",
       "       '250 grams (8.8 oz)', '12 ouncues', '1.4 oz. instant',\n",
       "       '0.94 oz. instant', '8 oz. instant', '3.5 ounces instant',\n",
       "       '8 ounces instant', '0.93 oz. instant', '7 oz. instant', '16 pods',\n",
       "       '12 T Discs', '108 pods', '96 pods', ' 64 pods', '18 pods',\n",
       "       '16 ounces (454 grams)', '8 ounces (227 grams)', '17 ounces',\n",
       "       '350 grams (12.3 ounces)', '5 pounds', '12 ounce', '1 Kilogram',\n",
       "       '32 oz.', '500 g (17.6 oz.)', '12 oz.', '16 oz.',\n",
       "       ' 500 g. (17.6 oz.)', ' 16 oz.', ' 12 oz.', ' 10 oz.', ' 10.6 oz.',\n",
       "       ' 250 g. (8.8 oz.)', ' 8 oz.', '8 oz.', 'pound', '10 oz.',\n",
       "       '22 K-Cups', '8.8 oz.', '250 g. (8.8 oz)', '250 g. (8.8 oz.)',\n",
       "       ' 5 pounds', '500 g. (17.6 oz.)',\n",
       "       '19 oz. (incl. express shipping from Guatemala)'], dtype=object)"
      ]
     },
     "execution_count": 41,
     "metadata": {},
     "output_type": "execute_result"
    }
   ],
   "source": [
    "## First, let´s check the uniques units\n",
    "price['after_slash'].unique()"
   ]
  },
  {
   "cell_type": "code",
   "execution_count": 33,
   "id": "462b23f2",
   "metadata": {},
   "outputs": [],
   "source": [
    "price['100_gr_EUR'] = price['100_gr_EUR'].astype(float)"
   ]
  },
  {
   "cell_type": "code",
   "execution_count": 40,
   "id": "6852dbf5",
   "metadata": {},
   "outputs": [],
   "source": [
    "price['100_gr_EUR'] = price['100_gr_EUR'].round(2)"
   ]
  },
  {
   "cell_type": "code",
   "execution_count": 43,
   "id": "c5f1c8c0",
   "metadata": {},
   "outputs": [
    {
     "ename": "InvalidIndexError",
     "evalue": "(0       False\n1       False\n2       False\n3       False\n4       False\n        ...  \n4944    False\n4945    False\n4946    False\n4947    False\n4948    False\nName: 100_gr_EUR, Length: 4870, dtype: bool, '375 ml. flask', 'twelve 6-ounce cans', 'six 12-ounce cans', '12-ounce bottle', 'four 8-ounce cans', '280 ml can')",
     "output_type": "error",
     "traceback": [
      "\u001b[0;31m---------------------------------------------------------------------------\u001b[0m",
      "\u001b[0;31mTypeError\u001b[0m                                 Traceback (most recent call last)",
      "\u001b[0;32m~/opt/anaconda3/lib/python3.9/site-packages/pandas/core/indexes/base.py\u001b[0m in \u001b[0;36mget_loc\u001b[0;34m(self, key, method, tolerance)\u001b[0m\n\u001b[1;32m   3628\u001b[0m             \u001b[0;32mtry\u001b[0m\u001b[0;34m:\u001b[0m\u001b[0;34m\u001b[0m\u001b[0;34m\u001b[0m\u001b[0m\n\u001b[0;32m-> 3629\u001b[0;31m                 \u001b[0;32mreturn\u001b[0m \u001b[0mself\u001b[0m\u001b[0;34m.\u001b[0m\u001b[0m_engine\u001b[0m\u001b[0;34m.\u001b[0m\u001b[0mget_loc\u001b[0m\u001b[0;34m(\u001b[0m\u001b[0mcasted_key\u001b[0m\u001b[0;34m)\u001b[0m\u001b[0;34m\u001b[0m\u001b[0;34m\u001b[0m\u001b[0m\n\u001b[0m\u001b[1;32m   3630\u001b[0m             \u001b[0;32mexcept\u001b[0m \u001b[0mKeyError\u001b[0m \u001b[0;32mas\u001b[0m \u001b[0merr\u001b[0m\u001b[0;34m:\u001b[0m\u001b[0;34m\u001b[0m\u001b[0;34m\u001b[0m\u001b[0m\n",
      "\u001b[0;32m~/opt/anaconda3/lib/python3.9/site-packages/pandas/_libs/index.pyx\u001b[0m in \u001b[0;36mpandas._libs.index.IndexEngine.get_loc\u001b[0;34m()\u001b[0m\n",
      "\u001b[0;32m~/opt/anaconda3/lib/python3.9/site-packages/pandas/_libs/index.pyx\u001b[0m in \u001b[0;36mpandas._libs.index.IndexEngine.get_loc\u001b[0;34m()\u001b[0m\n",
      "\u001b[0;31mTypeError\u001b[0m: '(0       False\n1       False\n2       False\n3       False\n4       False\n        ...  \n4944    False\n4945    False\n4946    False\n4947    False\n4948    False\nName: 100_gr_EUR, Length: 4870, dtype: bool, '375 ml. flask', 'twelve 6-ounce cans', 'six 12-ounce cans', '12-ounce bottle', 'four 8-ounce cans', '280 ml can')' is an invalid key",
      "\nDuring handling of the above exception, another exception occurred:\n",
      "\u001b[0;31mInvalidIndexError\u001b[0m                         Traceback (most recent call last)",
      "\u001b[0;32m/var/folders/d0/kyjzvmwn3fdgc5m0t8snt0nm0000gn/T/ipykernel_4194/1100950225.py\u001b[0m in \u001b[0;36m<module>\u001b[0;34m\u001b[0m\n\u001b[0;32m----> 1\u001b[0;31m \u001b[0mprice\u001b[0m \u001b[0;34m=\u001b[0m \u001b[0mprice\u001b[0m\u001b[0;34m.\u001b[0m\u001b[0mdrop\u001b[0m\u001b[0;34m(\u001b[0m\u001b[0mprice\u001b[0m\u001b[0;34m[\u001b[0m\u001b[0mprice\u001b[0m\u001b[0;34m[\u001b[0m\u001b[0;34m'100_gr_EUR'\u001b[0m\u001b[0;34m]\u001b[0m \u001b[0;34m==\u001b[0m \u001b[0;34m'six 8-ounce cans'\u001b[0m\u001b[0;34m,\u001b[0m \u001b[0;34m'375 ml. flask'\u001b[0m\u001b[0;34m,\u001b[0m \u001b[0;34m'twelve 6-ounce cans'\u001b[0m\u001b[0;34m,\u001b[0m \u001b[0;34m'six 12-ounce cans'\u001b[0m\u001b[0;34m,\u001b[0m \u001b[0;34m'12-ounce bottle'\u001b[0m\u001b[0;34m,\u001b[0m\u001b[0;34m'four 8-ounce cans'\u001b[0m\u001b[0;34m,\u001b[0m\u001b[0;34m'280 ml can'\u001b[0m \u001b[0;34m]\u001b[0m\u001b[0;34m.\u001b[0m\u001b[0mindex\u001b[0m\u001b[0;34m)\u001b[0m\u001b[0;34m\u001b[0m\u001b[0;34m\u001b[0m\u001b[0m\n\u001b[0m",
      "\u001b[0;32m~/opt/anaconda3/lib/python3.9/site-packages/pandas/core/frame.py\u001b[0m in \u001b[0;36m__getitem__\u001b[0;34m(self, key)\u001b[0m\n\u001b[1;32m   3503\u001b[0m             \u001b[0;32mif\u001b[0m \u001b[0mself\u001b[0m\u001b[0;34m.\u001b[0m\u001b[0mcolumns\u001b[0m\u001b[0;34m.\u001b[0m\u001b[0mnlevels\u001b[0m \u001b[0;34m>\u001b[0m \u001b[0;36m1\u001b[0m\u001b[0;34m:\u001b[0m\u001b[0;34m\u001b[0m\u001b[0;34m\u001b[0m\u001b[0m\n\u001b[1;32m   3504\u001b[0m                 \u001b[0;32mreturn\u001b[0m \u001b[0mself\u001b[0m\u001b[0;34m.\u001b[0m\u001b[0m_getitem_multilevel\u001b[0m\u001b[0;34m(\u001b[0m\u001b[0mkey\u001b[0m\u001b[0;34m)\u001b[0m\u001b[0;34m\u001b[0m\u001b[0;34m\u001b[0m\u001b[0m\n\u001b[0;32m-> 3505\u001b[0;31m             \u001b[0mindexer\u001b[0m \u001b[0;34m=\u001b[0m \u001b[0mself\u001b[0m\u001b[0;34m.\u001b[0m\u001b[0mcolumns\u001b[0m\u001b[0;34m.\u001b[0m\u001b[0mget_loc\u001b[0m\u001b[0;34m(\u001b[0m\u001b[0mkey\u001b[0m\u001b[0;34m)\u001b[0m\u001b[0;34m\u001b[0m\u001b[0;34m\u001b[0m\u001b[0m\n\u001b[0m\u001b[1;32m   3506\u001b[0m             \u001b[0;32mif\u001b[0m \u001b[0mis_integer\u001b[0m\u001b[0;34m(\u001b[0m\u001b[0mindexer\u001b[0m\u001b[0;34m)\u001b[0m\u001b[0;34m:\u001b[0m\u001b[0;34m\u001b[0m\u001b[0;34m\u001b[0m\u001b[0m\n\u001b[1;32m   3507\u001b[0m                 \u001b[0mindexer\u001b[0m \u001b[0;34m=\u001b[0m \u001b[0;34m[\u001b[0m\u001b[0mindexer\u001b[0m\u001b[0;34m]\u001b[0m\u001b[0;34m\u001b[0m\u001b[0;34m\u001b[0m\u001b[0m\n",
      "\u001b[0;32m~/opt/anaconda3/lib/python3.9/site-packages/pandas/core/indexes/base.py\u001b[0m in \u001b[0;36mget_loc\u001b[0;34m(self, key, method, tolerance)\u001b[0m\n\u001b[1;32m   3634\u001b[0m                 \u001b[0;31m#  InvalidIndexError. Otherwise we fall through and re-raise\u001b[0m\u001b[0;34m\u001b[0m\u001b[0;34m\u001b[0m\u001b[0m\n\u001b[1;32m   3635\u001b[0m                 \u001b[0;31m#  the TypeError.\u001b[0m\u001b[0;34m\u001b[0m\u001b[0;34m\u001b[0m\u001b[0m\n\u001b[0;32m-> 3636\u001b[0;31m                 \u001b[0mself\u001b[0m\u001b[0;34m.\u001b[0m\u001b[0m_check_indexing_error\u001b[0m\u001b[0;34m(\u001b[0m\u001b[0mkey\u001b[0m\u001b[0;34m)\u001b[0m\u001b[0;34m\u001b[0m\u001b[0;34m\u001b[0m\u001b[0m\n\u001b[0m\u001b[1;32m   3637\u001b[0m                 \u001b[0;32mraise\u001b[0m\u001b[0;34m\u001b[0m\u001b[0;34m\u001b[0m\u001b[0m\n\u001b[1;32m   3638\u001b[0m \u001b[0;34m\u001b[0m\u001b[0m\n",
      "\u001b[0;32m~/opt/anaconda3/lib/python3.9/site-packages/pandas/core/indexes/base.py\u001b[0m in \u001b[0;36m_check_indexing_error\u001b[0;34m(self, key)\u001b[0m\n\u001b[1;32m   5649\u001b[0m             \u001b[0;31m# if key is not a scalar, directly raise an error (the code below\u001b[0m\u001b[0;34m\u001b[0m\u001b[0;34m\u001b[0m\u001b[0m\n\u001b[1;32m   5650\u001b[0m             \u001b[0;31m# would convert to numpy arrays and raise later any way) - GH29926\u001b[0m\u001b[0;34m\u001b[0m\u001b[0;34m\u001b[0m\u001b[0m\n\u001b[0;32m-> 5651\u001b[0;31m             \u001b[0;32mraise\u001b[0m \u001b[0mInvalidIndexError\u001b[0m\u001b[0;34m(\u001b[0m\u001b[0mkey\u001b[0m\u001b[0;34m)\u001b[0m\u001b[0;34m\u001b[0m\u001b[0;34m\u001b[0m\u001b[0m\n\u001b[0m\u001b[1;32m   5652\u001b[0m \u001b[0;34m\u001b[0m\u001b[0m\n\u001b[1;32m   5653\u001b[0m     \u001b[0;34m@\u001b[0m\u001b[0mcache_readonly\u001b[0m\u001b[0;34m\u001b[0m\u001b[0;34m\u001b[0m\u001b[0m\n",
      "\u001b[0;31mInvalidIndexError\u001b[0m: (0       False\n1       False\n2       False\n3       False\n4       False\n        ...  \n4944    False\n4945    False\n4946    False\n4947    False\n4948    False\nName: 100_gr_EUR, Length: 4870, dtype: bool, '375 ml. flask', 'twelve 6-ounce cans', 'six 12-ounce cans', '12-ounce bottle', 'four 8-ounce cans', '280 ml can')"
     ]
    }
   ],
   "source": [
    "price = price.drop(price[price['100_gr_EUR'] == 'six 8-ounce cans' or '375 ml. flask' or 'twelve 6-ounce cans'or 'six 12-ounce cans'or or'four 8-ounce cans'or '280 ml can' or'six 12-ounce cans'or '200-ml bottle' or '160-ml bottle' or'seven single-serve pouches' or 'sachet (plus one donated)'or 'five 5-gram single-serve packets'or  'eight 3.3 gram packets'or 'eight 5-gram tubes'or 'six 5-gram single-serve packets'or  'six 5-gram packets'or 'thirty 1.6-gram single-serve packets'or ].index)"
   ]
  },
  {
   "cell_type": "code",
   "execution_count": 46,
   "id": "f387a48c",
   "metadata": {},
   "outputs": [
    {
     "data": {
      "text/plain": [
       "3"
      ]
     },
     "execution_count": 46,
     "metadata": {},
     "output_type": "execute_result"
    }
   ],
   "source": [
    "count = price['after_slash'].value_counts()['12-ounce bottle']\n",
    "count"
   ]
  },
  {
   "cell_type": "code",
   "execution_count": 36,
   "id": "3c3c5128",
   "metadata": {},
   "outputs": [],
   "source": [
    "price.to_csv('Price_weight_cleaned.csv')"
   ]
  }
 ],
 "metadata": {
  "kernelspec": {
   "display_name": "Python 3 (ipykernel)",
   "language": "python",
   "name": "python3"
  },
  "language_info": {
   "codemirror_mode": {
    "name": "ipython",
    "version": 3
   },
   "file_extension": ".py",
   "mimetype": "text/x-python",
   "name": "python",
   "nbconvert_exporter": "python",
   "pygments_lexer": "ipython3",
   "version": "3.9.13"
  }
 },
 "nbformat": 4,
 "nbformat_minor": 5
}
