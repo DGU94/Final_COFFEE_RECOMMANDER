{
 "cells": [
  {
   "cell_type": "code",
   "execution_count": 86,
   "id": "a1cd0496",
   "metadata": {},
   "outputs": [],
   "source": [
    "import pandas as pd\n",
    "import time"
   ]
  },
  {
   "cell_type": "code",
   "execution_count": 91,
   "id": "03051b3d",
   "metadata": {},
   "outputs": [],
   "source": [
    "def option_1():\n",
    "    \"\"\"This function selects a random coffee.\"\"\"\n",
    "    pd.set_option('display.max_colwidth', None)\n",
    "    scaled_coffee_df = pd.read_csv(\"clustered_coffee_df.csv\")\n",
    "    print(\"You've selected option 1. I'll now select a random coffee for you.\")\n",
    "    time.sleep(2)\n",
    "    sample_coffee = pd.DataFrame(scaled_coffee_df.sample())\n",
    "    print(\"\\nThis is the result: \\n\")\n",
    "    print(f\"Coffee name: {sample_coffee['name'].to_string(index=False)}\")\n",
    "    print(f\"Roaster: {sample_coffee['roaster'].to_string(index=False)}\")\n",
    "    print(f\"Roast type: {sample_coffee['roast'].to_string(index=False)}\")\n",
    "    print(f\"Price (100 grams/USD): {sample_coffee['100g_USD'].to_string(index=False)}\")\n",
    "    print(f\"Rating: {sample_coffee['rating'].to_string(index=False)}\\n\")\n",
    "    print(f\"Review: {sample_coffee['review'].to_string(index=False)}\")\n",
    "    time.sleep(2)\n",
    "    while True:\n",
    "        try:\n",
    "            user_choice2 = input(\"\\nDo you want to get another cofee suggestion? Please write 'yes' or 'no': \")\n",
    "            if user_choice2.lower() not in ['yes', 'no']:\n",
    "                raise ValueError(\"Invalid input. Please enter 'yes' or 'no'.\")\n",
    "            break  # if input is valid, exit the loop\n",
    "        except ValueError as e:\n",
    "                print(\"\\nInvalid input. Please enter 'yes' or 'no'\")\n",
    "    return user_choice2"
   ]
  },
  {
   "cell_type": "code",
   "execution_count": 92,
   "id": "ed8af2b2",
   "metadata": {},
   "outputs": [
    {
     "name": "stdout",
     "output_type": "stream",
     "text": [
      "You've selected option 1. I'll now select a random coffee for you.\n",
      "\n",
      "This is the result: \n",
      "\n",
      "Coffee name: Colombia Narino Excelsio\n",
      "Roaster: Jackrabbit Java\n",
      "Roast type: Medium-Light\n",
      "Price (100 grams/USD): 3.53\n",
      "Rating: 92\n",
      "\n",
      "Review: Balanced, rich-toned, crisply sweet. Baker’s chocolate, plum, hazelnut, maple syrup, wisteria in aroma and cup. Deeply sweet structure with lively acidity; viscous, lightly syrupy mouthfeel. The richly drying finish is cocoa-laden, with supporting notes of stone fruit and nuts.\n",
      "\n",
      "Do you want to get another cofee suggestion? Please write 'yes' or 'no': kjjhk\n",
      "\n",
      "Invalid input. Please enter 'yes' or 'no'\n",
      "\n",
      "Do you want to get another cofee suggestion? Please write 'yes' or 'no': yes\n"
     ]
    },
    {
     "data": {
      "text/plain": [
       "'yes'"
      ]
     },
     "execution_count": 92,
     "metadata": {},
     "output_type": "execute_result"
    }
   ],
   "source": [
    "option_1()"
   ]
  },
  {
   "cell_type": "code",
   "execution_count": null,
   "id": "5d8bea1b",
   "metadata": {},
   "outputs": [],
   "source": []
  }
 ],
 "metadata": {
  "kernelspec": {
   "display_name": "Python 3 (ipykernel)",
   "language": "python",
   "name": "python3"
  },
  "language_info": {
   "codemirror_mode": {
    "name": "ipython",
    "version": 3
   },
   "file_extension": ".py",
   "mimetype": "text/x-python",
   "name": "python",
   "nbconvert_exporter": "python",
   "pygments_lexer": "ipython3",
   "version": "3.9.13"
  }
 },
 "nbformat": 4,
 "nbformat_minor": 5
}
